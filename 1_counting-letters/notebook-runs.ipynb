{
 "cells": [
  {
   "cell_type": "code",
   "execution_count": 3,
   "metadata": {},
   "outputs": [],
   "source": [
    "import sys\n",
    "sys.path.append(\"../\")\n",
    "\n",
    "from all_models import *"
   ]
  },
  {
   "cell_type": "code",
   "execution_count": 1,
   "metadata": {},
   "outputs": [],
   "source": [
    "import os\n",
    "import string\n",
    "import numpy as np\n",
    "import seaborn\n",
    "import matplotlib.pyplot as plt\n",
    "\n",
    "import torch.optim as optim"
   ]
  },
  {
   "cell_type": "code",
   "execution_count": 2,
   "metadata": {},
   "outputs": [],
   "source": [
    "class Task(object):\n",
    "\n",
    "    def __init__(self, max_len=10, vocab_size=3):\n",
    "        super(Task, self).__init__()\n",
    "        self.max_len = max_len\n",
    "        self.vocab_size = vocab_size\n",
    "        assert self.vocab_size <= 26, \"vocab_size needs to be <= 26 since we are using letters to prettify LOL\"\n",
    "\n",
    "    def next_batch(self, batchsize=100):\n",
    "        # This uses the matrix of random integers as indices to select rows \n",
    "        # from the identity matrix. The result is a 3D tensor of one-hot encoded sequences\n",
    "        x = np.eye(self.vocab_size + 1)[np.random.choice(np.arange(self.vocab_size + 1), [batchsize, self.max_len])]\n",
    "        y = np.eye(self.max_len + 1)[np.sum(x, axis=1)[:, 1:].astype(np.int32)]\n",
    "        return x, y\n",
    "\n",
    "    def prettify(self, samples):\n",
    "        samples = samples.reshape(-1, self.max_len, self.vocab_size + 1)\n",
    "        idx = np.expand_dims(np.argmax(samples, axis=2), axis=2)\n",
    "        dictionary = np.array(list(' ' + string.ascii_uppercase))\n",
    "        return dictionary[idx]"
   ]
  },
  {
   "cell_type": "code",
   "execution_count": 4,
   "metadata": {},
   "outputs": [],
   "source": [
    "def train(max_len=10,\n",
    "          vocab_size=3,\n",
    "          hidden=64,\n",
    "          batchsize=100,\n",
    "          steps=2000,\n",
    "          print_every=50,\n",
    "          savepath='models/'):\n",
    "\n",
    "    os.makedirs(savepath, exist_ok=True)\n",
    "    model = AttentionModel(max_len=max_len, vocab_size=vocab_size, hidden=hidden)\n",
    "    optimizer = optim.Adam(model.parameters(), lr=1e-2)\n",
    "    lr_scheduler = optim.lr_scheduler.ReduceLROnPlateau(\n",
    "        optimizer, patience=250, verbose=True)\n",
    "    task = Task(max_len=max_len, vocab_size=vocab_size)\n",
    "\n",
    "    loss_hist = []\n",
    "    for i in range(steps):\n",
    "        minibatch_x, minibatch_y = task.next_batch(batchsize=batchsize)\n",
    "        optimizer.zero_grad()\n",
    "        with torch.set_grad_enabled(True):\n",
    "            minibatch_x = torch.Tensor(minibatch_x)\n",
    "            minibatch_y = torch.Tensor(minibatch_y)\n",
    "            out, _ = model(minibatch_x)\n",
    "            loss = F.cross_entropy(\n",
    "                out.transpose(1, 2),\n",
    "                minibatch_y.argmax(dim=2))\n",
    "            loss.backward()\n",
    "            optimizer.step()\n",
    "            lr_scheduler.step(loss)\n",
    "        if (i + 1) % print_every == 0:\n",
    "            print(\"Iteration {} - Loss {}\".format(i + 1, loss))\n",
    "        loss_hist.append(loss.detach().numpy())\n",
    "\n",
    "    print(\"Iteration {} - Loss {}\".format(i + 1, loss))\n",
    "    print(\"Training complete!\")\n",
    "    torch.save(model.state_dict(), savepath + '/ckpt.pt')\n",
    "    return np.array(loss_hist)\n",
    "\n",
    "\n",
    "def test(max_len=10,\n",
    "         vocab_size=3,\n",
    "         hidden=64,\n",
    "         savepath='models/',\n",
    "         plot=True):\n",
    "\n",
    "    model = AttentionModel(max_len=max_len, vocab_size=vocab_size, hidden=hidden)\n",
    "    model.load_state_dict(torch.load(savepath + '/ckpt.pt'))\n",
    "    task = Task(max_len=max_len, vocab_size=vocab_size)\n",
    "\n",
    "    samples, labels = task.next_batch(batchsize=1)\n",
    "    print(\"\\nInput: \\n{}\".format(task.prettify(samples)))\n",
    "    model.eval()\n",
    "    with torch.set_grad_enabled(False):\n",
    "        predictions, attention = model(torch.Tensor(samples))\n",
    "    predictions = predictions.detach().numpy()\n",
    "    predictions = predictions.argmax(axis=2)\n",
    "    attention = attention.detach().numpy()\n",
    "\n",
    "    print(\"\\nPrediction: \\n{}\".format(predictions))\n",
    "    print(\"\\nEncoder-Decoder Attention: \")\n",
    "    for i, output_step in enumerate(attention[0]):\n",
    "        print(\"Output step {} attended mainly to Input steps: {}\".format(\n",
    "            i, np.where(output_step >= np.max(output_step))[0]))\n",
    "        print([float(\"{:.3f}\".format(step)) for step in output_step])\n",
    "\n",
    "    if plot:\n",
    "        fig, ax = plt.subplots()\n",
    "        seaborn.heatmap(\n",
    "            attention[0],\n",
    "            yticklabels=[\"output_0\", \"output_1\", \"output_2\"],\n",
    "            xticklabels=task.prettify(samples).reshape(-1),\n",
    "            ax=ax,\n",
    "            cmap='plasma',\n",
    "            cbar=True,\n",
    "            cbar_kws={\"orientation\": \"horizontal\"}\n",
    "        )\n",
    "        ax.set_aspect('equal')\n",
    "        for tick in ax.get_yticklabels():\n",
    "            tick.set_rotation(0)\n",
    "        plt.show()\n",
    "    return samples, labels, predictions, attention"
   ]
  },
  {
   "cell_type": "code",
   "execution_count": 5,
   "metadata": {},
   "outputs": [],
   "source": [
    "task = Task()\n",
    "samples, labels = task.next_batch()"
   ]
  },
  {
   "cell_type": "code",
   "execution_count": 6,
   "metadata": {},
   "outputs": [
    {
     "data": {
      "text/plain": [
       "(100, 10, 4)"
      ]
     },
     "execution_count": 6,
     "metadata": {},
     "output_type": "execute_result"
    }
   ],
   "source": [
    "# (batchsize, max_len, vocab_size + 1)\n",
    "samples.shape"
   ]
  },
  {
   "cell_type": "code",
   "execution_count": 7,
   "metadata": {},
   "outputs": [
    {
     "data": {
      "text/plain": [
       "array([[0., 1., 0., 0.],\n",
       "       [0., 0., 1., 0.],\n",
       "       [1., 0., 0., 0.],\n",
       "       [0., 0., 0., 1.],\n",
       "       [0., 0., 1., 0.],\n",
       "       [1., 0., 0., 0.],\n",
       "       [0., 1., 0., 0.],\n",
       "       [1., 0., 0., 0.],\n",
       "       [1., 0., 0., 0.],\n",
       "       [0., 0., 0., 1.]])"
      ]
     },
     "execution_count": 7,
     "metadata": {},
     "output_type": "execute_result"
    }
   ],
   "source": [
    "# 0 is ''\n",
    "samples[0]"
   ]
  },
  {
   "cell_type": "code",
   "execution_count": 8,
   "metadata": {},
   "outputs": [
    {
     "data": {
      "text/plain": [
       "(100, 3, 11)"
      ]
     },
     "execution_count": 8,
     "metadata": {},
     "output_type": "execute_result"
    }
   ],
   "source": [
    "# (batchsize, vocab_size, max_len + 1)\n",
    "labels.shape"
   ]
  },
  {
   "cell_type": "code",
   "execution_count": 9,
   "metadata": {},
   "outputs": [
    {
     "data": {
      "text/plain": [
       "array([[0., 0., 1., 0., 0., 0., 0., 0., 0., 0., 0.],\n",
       "       [0., 0., 1., 0., 0., 0., 0., 0., 0., 0., 0.],\n",
       "       [0., 0., 1., 0., 0., 0., 0., 0., 0., 0., 0.]])"
      ]
     },
     "execution_count": 9,
     "metadata": {},
     "output_type": "execute_result"
    }
   ],
   "source": [
    "# A - 3\n",
    "labels[0]"
   ]
  },
  {
   "cell_type": "markdown",
   "metadata": {},
   "source": [
    "----"
   ]
  },
  {
   "cell_type": "code",
   "execution_count": 10,
   "metadata": {
    "scrolled": true
   },
   "outputs": [
    {
     "name": "stdout",
     "output_type": "stream",
     "text": [
      "Iteration 250 - Loss 0.44433340430259705\n",
      "Iteration 500 - Loss 0.3043327331542969\n",
      "Iteration 750 - Loss 0.1710231900215149\n",
      "Iteration 1000 - Loss 0.18242114782333374\n",
      "Iteration 1250 - Loss 0.12991656363010406\n",
      "Iteration 1500 - Loss 0.14354442059993744\n",
      "Iteration 1750 - Loss 0.08493632823228836\n",
      "Iteration 2000 - Loss 0.09386644512414932\n",
      "Iteration 2000 - Loss 0.09386644512414932\n",
      "Training complete!\n"
     ]
    }
   ],
   "source": [
    "loss_hist = train(print_every=250)"
   ]
  },
  {
   "cell_type": "code",
   "execution_count": 11,
   "metadata": {},
   "outputs": [
    {
     "data": {
      "image/png": "[encoded data removed]",
      "text/plain": [
       "<Figure size 432x288 with 1 Axes>"
      ]
     },
     "metadata": {
      "needs_background": "light"
     },
     "output_type": "display_data"
    }
   ],
   "source": [
    "plt.plot(loss_hist);"
   ]
  },
  {
   "cell_type": "markdown",
   "metadata": {},
   "source": [
    "----"
   ]
  },
  {
   "cell_type": "code",
   "execution_count": 12,
   "metadata": {},
   "outputs": [
    {
     "name": "stdout",
     "output_type": "stream",
     "text": [
      "\n",
      "Input: \n",
      "[[['C']\n",
      "  ['B']\n",
      "  ['A']\n",
      "  ['B']\n",
      "  ['A']\n",
      "  ['A']\n",
      "  ['B']\n",
      "  ['B']\n",
      "  ['C']\n",
      "  ['B']]]\n",
      "\n",
      "Prediction: \n",
      "[[3 5 2]]\n",
      "\n",
      "Encoder-Decoder Attention: \n",
      "Output step 0 attended mainly to Input steps: [2 4 5]\n",
      "[0.058, 0.055, 0.203, 0.055, 0.203, 0.203, 0.055, 0.055, 0.058, 0.055]\n",
      "Output step 1 attended mainly to Input steps: [1 3 6 7 9]\n",
      "[0.044, 0.157, 0.042, 0.157, 0.042, 0.042, 0.157, 0.157, 0.044, 0.157]\n",
      "Output step 2 attended mainly to Input steps: [0 8]\n",
      "[0.247, 0.063, 0.064, 0.063, 0.064, 0.064, 0.063, 0.063, 0.247, 0.063]\n"
     ]
    },
    {
     "data": {
      "image/png": "[encoded data removed]",
      "text/plain": [
       "<Figure size 432x288 with 2 Axes>"
      ]
     },
     "metadata": {
      "needs_background": "light"
     },
     "output_type": "display_data"
    }
   ],
   "source": [
    "samples, labels, predictions, attention = test()"
   ]
  }
 ],
 "metadata": {
  "kernelspec": {
   "display_name": "Python 3",
   "language": "python",
   "name": "python3"
  },
  "language_info": {
   "codemirror_mode": {
    "name": "ipython",
    "version": 3
   },
   "file_extension": ".py",
   "mimetype": "text/x-python",
   "name": "python",
   "nbconvert_exporter": "python",
   "pygments_lexer": "ipython3",
   "version": "3.9.7"
  },
  "toc": {
   "base_numbering": 1,
   "nav_menu": {},
   "number_sections": true,
   "sideBar": true,
   "skip_h1_title": false,
   "title_cell": "Table of Contents",
   "title_sidebar": "Contents",
   "toc_cell": false,
   "toc_position": {},
   "toc_section_display": true,
   "toc_window_display": false
  }
 },
 "nbformat": 4,
 "nbformat_minor": 2
}
