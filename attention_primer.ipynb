{
 "cells": [
  {
   "cell_type": "markdown",
   "metadata": {},
   "source": [
    "# Roadmap"
   ]
  },
  {
   "cell_type": "markdown",
   "metadata": {},
   "source": [
    "<img src=\"all.png\" width=\"400\"/>"
   ]
  },
  {
   "cell_type": "markdown",
   "metadata": {},
   "source": [
    "# 1 - Counting Letters - Attention, Queries, Keys & Values"
   ]
  },
  {
   "cell_type": "markdown",
   "metadata": {},
   "source": [
    "## Description"
   ]
  },
  {
   "cell_type": "markdown",
   "metadata": {},
   "source": [
    "### Task Description\n",
    "\n",
    "Consider a sequence, where each element is a randomly selected letter or null/blank. The task is to count how many times each letter appears in the sequence.\n",
    "\n",
    "For example:\n",
    "\n",
    "```python\n",
    "Input:\n",
    "['A'], ['B'], [' '], ['B'], ['C']\n",
    "Output:\n",
    "[[1], [2], [1]]\n",
    "```\n",
    "\n",
    "The output is also a sequence, where each element corresponds to the count of a letter. In the above case, 'A', 'B' and 'C' appear 1, 2 and 1 times respectively.\n",
    "\n",
    "### Details\n",
    "\n",
    "#### Input\n",
    "\n",
    "The actual input to the model consists of sequences of one-hot embeddings, which means the input tensor has shape `(batchsize, max_len, vocab_size + 1)`. \n",
    "\n",
    "_A: It is `vocab_size + 1` instead of `vocab_size`, because we need to add a one-hot dimension for the null character as well._\n",
    "\n",
    "For example, if we set `vocab_size=2`, the possible characters will be 'A', 'B' and ' ' (null). Consider a batch of `batchsize=1` sequence of length `max_len=4`: \n",
    "\n",
    "```python\n",
    "[['A', 'B', ' ', 'A']]\n",
    "```\n",
    "\n",
    "The embedding for that will be a tensor of shape (1, 4, 3):\n",
    "\n",
    "```python\n",
    "[[[0, 1, 0],\n",
    "  [0, 0, 1],\n",
    "  [1, 0, 0],\n",
    "  [0, 1, 0]]]\n",
    "```\n",
    "\n",
    "#### Output / Labels\n",
    "\n",
    "Similar to the input, the output predictions consists of sequences of one-hot embeddings ie. we represent the counts as one-hot vectors. \n",
    "\n",
    "The shape of the predictions is determined by the input parameters. First, the length of the prediction corresponds to the `vocab_size`. Next the dimension of each step in a predicted sequence corresponds to `max_len + 1`.\n",
    "\n",
    "Hence the output/labels tensor should have a shape of `(batchsize, vocab_size, max_len + 1)`.\n",
    "\n",
    "_A: It's `max_len + 1` because the minimum count is 0 and the maximum count is `max_len`. So there are `max_len + 1` possible answers._\n",
    "\n",
    "If we use the input above as an example, the plain prediction is `[[2, 1]]`, while the embedding is a tensor of shape (1, 2, 5):\n",
    "\n",
    "```python\n",
    "[[[0, 0, 1, 0, 0],\n",
    "  [0, 1, 0, 0, 0]]]\n",
    "```\n",
    "\n",
    "#### Model\n",
    "\n",
    "**Attention ie. Queries, Keys, Values**\n",
    "\n",
    "The essence of attention lies in the idea of **Queries**, **Keys** and **Values**. \n",
    "\n",
    "Suppose we have a supermarket catalogue of product names and respective prices and I want to calculate the average price of drinks. The **Query** is 'drinks', the **Keys** are all the product names and the **Values** are the respective prices. We focus our attention on **Values** (prices) of **Keys** (product names) that align most with our **Query** ('drinks').\n",
    "\n",
    "_A: Here's what the training data might look like:_\n",
    "\n",
    "```python\n",
    "[\n",
    "  input: [[Pepsi, 0.69$], [Twixies, 0.34$], [Coke, 0.32$]], # product names, prices\n",
    "  label: [1.01$] # average price of drinks\n",
    "], \n",
    "[\n",
    "  input: [[Snickers, 0.03$], [San Periggglo, 0.21$], [Herring, 0.60$]], # product names, prices\n",
    "  label: [0.21$] # average price of drinks\n",
    "], \n",
    "```\n",
    "\n",
    "_The model will, based on the training data,  learn to represent in the latent space \n",
    "which products are drinks. We didn't explicitly tell it what are drinks, and it doesn't explicitly produce that\n",
    "as the output, but the things it will be looking for in the latent space align most closely to what we call drinks\n",
    "in the real world._\n",
    "\n",
    "See how the **Query** and **Keys** have to be the same type? You can see if two words align ('drinks' vs 'water') but you can't align a word with a number, or temperature with prices. Likewise, in the attention mechanism, the **Query** and **Keys** have to have the same dimensions.\n",
    "\n",
    "In scaled dot-product attention, we calculate alignment using the dot product. Intuitively, we see that if the **Query** and the **Key** are in the same direction, their dot product will be large and positive. If the **Query** and the **Key** are orthogonal, the dot product will be zero. Finally, if the **Query** and the **Key** are in opposite directions, their dot product will be large and negative.\n",
    "\n",
    "We then allocate more attention on **Values** whose **Keys** align to the **Query**. To do this, we simply multiply the softmax of the dot product by the **Values**. This gives us a weighted sum of the **Values**, where aligned **Keys** contribute more to this weighted sum.\n",
    "\n",
    "_A: Through training we _learn_ to give more attention to the keys that _give_ the correct weighted values_\n",
    "\n",
    "Have a look at the `attention` method from the `AttentionModel` class in the script.\n",
    "\n",
    "Following the Transformer architecture by Vaswani et al. (2017), the weighted sum is added back to the **Query** via residual connections (Figure 1 and Section 3.1). The sum of **Query** and weighted sum is then layer-normalized and passed to the next step.\n",
    "\n",
    "Why do we use the sum of the weighted sum and the original **Query** instead of just the weighted sum?\n",
    "\n",
    "One way of understanding it is because the **Query** may contain important information that cannot be found in the **Values**. To take a simple example, suppose I have two **Key**/**Value** pairs, `[1 0]:[0 1]` and `[0 1]:[0 1]` ie. two different **Keys** `[1 0]` and `[0 1]` with both having the same **Values** `[0 1]` and `[0 1]`. \n",
    "\n",
    "If my **Query** is `[1 0]`, then my weighted sum will be `[0 1]` ie. the **Value** of **Key** `[1 0]`. \n",
    "\n",
    "On the other hand, if my **Query** is `[0 1]`, my weighted sum will still be `[0 1]` ie. the **Value** of **Key** `[0 1]`. \n",
    "\n",
    "If we pass the weighted sum to the next layer, we lose information about the **Query**. The next layer has no way of telling whether my **Query** was `[1 0]` or `[0 1]`. If we instead pass the sum of the weighted sum and the original **Query**, we retain the information since the vector that we pass on can be either `[0 2]` or `[1 1]`.\n",
    "\n",
    "Now, we need to think about what are our **Queries**, **Keys** and **Values**. \n",
    "\n",
    "**Queries**\n",
    "\n",
    "We want the first step of the output sequence to count the number of 'A's and the second step to count the number of 'B's and so on. Why not have one **Query** vector per output step? The first **Query** vector can check for 'A's and the second **Query** vector can check for 'B's and so on. _A: This is what we're going to do._\n",
    "\n",
    "In that case, our **Queries** tensor will be of shape `(batch_size, vocab_size, hidden)`. `vocab_size` is the second dimension since we have one **Query** vector for each element in our vocabulary. `hidden` will be the dimension of each **Query** vector.\n",
    "\n",
    "We will let the model learn the **Queries** tensor, by initializing it as a trainable `nn.Parameter`:\n",
    "\n",
    "```python3\n",
    "self.query = nn.Parameter(torch.zeros((1, self.vocab_size, self.hidden)))\n",
    "```\n",
    "\n",
    "*Notice the first dimension for `decoder_query` in the code above is 1. This is because we will use `torch.repeat` to change it to `batch_size` at runtime.*\n",
    "\n",
    "**Keys and Values**\n",
    "\n",
    "Following the above input/output examples, our input is of shape (1, 4, 3) ie. a length-4 sequence of 3-dim vectors, where each vector is a representation of a character. To create **Key**/**Value** pairs for each character, we can simply pass the input into two regular fully-connected feedforward networks - one for generating a **Key** for each character and one for generating a **Value**.\n",
    "\n",
    "In fact, we just need one regular fully-connected feedforward network, to generate a **Key**/**Value** for each character ie. the vector acts as both **Key** and **Value**.\n",
    "\n",
    "Like the **Queries** tensor, we set the output dimension for both networks to `hidden` where `hidden=64` by default. We then end up with a tensor of shape (1, 4, 64). Each 64-dim vector in the tensor acts as both **Key** and **Value** for each character. \n",
    "\n",
    "```python3\n",
    "self.key_val_dense = nn.Linear(self.vocab_size + 1, self.hidden)\n",
    "```\n",
    "\n",
    "**Decoding and Softmax**\n",
    "\n",
    "All that's left is then to compute the scaled dot-product attention, using the **Queries** tensor and the **Keys**/**Values** tensor.\n",
    "\n",
    "We then pass that to a regular feedforward network to get logits of `self.max_len + 1` dimensions and we just `torch.argmax` these logits to get the predictions.\n",
    "\n",
    "```python3\n",
    "decoding, self.attention_weights = self.attention(\n",
    "    self.query.repeat(key_val.shape[0], 1, 1),\n",
    "    key_val,\n",
    "    key_val)\n",
    "self.final_dense = nn.Linear(self.hidden, self.max_len + 1)\n",
    "logits = self.final_dense(decoding)\n",
    "predictions = logits.argmax(dim=2)\n",
    "```\n",
    "\n",
    "That's mainly it for the short and simplified demo of attention for the counting task!\n",
    "\n",
    "Here's a summary figure for the algorithm used in this Task!\n",
    "\n",
    "<div>\n",
    "<img src=\"1_counting-letters/images/task_1.png\" alt=\"task_1\" width=\"800px\" height=\"whatever\" style=\"display: block;\">\n",
    "</div>\n",
    "\n",
    "### Notes\n",
    "\n",
    "If you look at the attention weights printed out when testing the model, you will notice that the same characters are assigned the same weights. That does not seem correct when you consider, for example, language processing - the same words in different positions should be accorded different weights.\n",
    "\n",
    "In the case of this toy experiment, the order of the input sequence does not matter, since we are just counting characters. But if the order is important, as with the output sequence here, we can use positional encodings, as used by Vaswani et al. (2017) (see Figure 1 and Section 3.5 of the paper).The idea here is to modify the input and output embeddings to help the model differentiate between steps. Vaswani et al. does this by simply adding sine and cosine functions to the embeddings. \n",
    "\n",
    "In our case, while position is irrelevant for the input sequence, it is important for the output sequence ie. the meanings of the elements in the output sequence are represented almost entirely by their position eg. we know that the first element in the output counts the number of 'A's by the fact that it is the first element. So we actually do use positional encodings to differentiate between the output steps. Specifically, the **Queries** vector that is initialized as a trainable `nn.Parameter` is our positional encoding for the output. In this case, we allow the model to learn its own positional encoding."
   ]
  },
  {
   "cell_type": "markdown",
   "metadata": {},
   "source": [
    "<img src=\"1_counting-letters/1.png\" width=\"400\"/>"
   ]
  },
  {
   "cell_type": "markdown",
   "metadata": {},
   "source": [
    "## Implementation"
   ]
  },
  {
   "cell_type": "code",
   "execution_count": 5,
   "metadata": {},
   "outputs": [],
   "source": [
    "import seaborn\n",
    "import matplotlib.pyplot as plt\n",
    "\n",
    "import torch\n",
    "import torch.nn as nn\n",
    "import torch.nn.functional as F"
   ]
  },
  {
   "cell_type": "code",
   "execution_count": 6,
   "metadata": {},
   "outputs": [],
   "source": [
    "from all_tasks import *"
   ]
  },
  {
   "cell_type": "code",
   "execution_count": 7,
   "metadata": {},
   "outputs": [
    {
     "name": "stdout",
     "output_type": "stream",
     "text": [
      "\n",
      "Input: \n",
      "[[['B']\n",
      "  ['C']\n",
      "  ['A']\n",
      "  ['C']\n",
      "  ['B']\n",
      "  ['C']\n",
      "  [' ']\n",
      "  ['A']\n",
      "  ['B']\n",
      "  ['A']]]\n"
     ]
    }
   ],
   "source": [
    "task = CountingLettersTask()\n",
    "\n",
    "samples, labels = task.next_batch(batchsize=1)\n",
    "print(\"\\nInput: \\n{}\".format(task.prettify(samples)))"
   ]
  },
  {
   "cell_type": "code",
   "execution_count": 8,
   "metadata": {},
   "outputs": [],
   "source": [
    "class AttentionModel(nn.Module):\n",
    "    def __init__(self, max_len=10, vocab_size=3, hidden=64):\n",
    "        super().__init__()\n",
    "\n",
    "        self.max_len = max_len\n",
    "        self.vocab_size = vocab_size\n",
    "        self.hidden = hidden\n",
    "\n",
    "        self.query = nn.Parameter(torch.zeros((1, self.vocab_size, self.hidden), requires_grad=True))\n",
    "        self.key_val_dense = nn.Linear(self.vocab_size + 1, self.hidden)\n",
    "        \n",
    "        self.norm = nn.LayerNorm(self.hidden)\n",
    "        self.linear = nn.Linear(self.hidden, self.max_len + 1) # final output\n",
    "\n",
    "    def forward(self, x): # x: (1, 10, 4)\n",
    "        key_val = self.key_val_dense(x) # (1, 10, 64)\n",
    "        query = self.query.repeat(key_val.shape[0], 1, 1) # (1, 3, 64)\n",
    "\n",
    "        attention, self.attention_weights = scaled_dot_product_attention(  # (1, 3, 64), (1, 3, 10)\n",
    "            query,\n",
    "            key_val,\n",
    "            key_val)\n",
    "        \n",
    "        add_and_norm = self.norm(attention + query) # (1, 3, 64)        \n",
    "        linear = self.linear(add_and_norm) # (1, 3, 11)\n",
    "        \n",
    "        return linear, self.attention_weights"
   ]
  },
  {
   "attachments": {
    "image.png": {
     "image/png": "[encoded data removed]"
    }
   },
   "cell_type": "markdown",
   "metadata": {},
   "source": [
    "![image.png](attachment:image.png)"
   ]
  },
  {
   "attachments": {
    "image.png": {
     "image/png": "[encoded data removed]"
    }
   },
   "cell_type": "markdown",
   "metadata": {},
   "source": [
    "![image.png](attachment:image.png)"
   ]
  },
  {
   "cell_type": "code",
   "execution_count": 9,
   "metadata": {},
   "outputs": [],
   "source": [
    "def scaled_dot_product_attention(query, key, value, mask=False):\n",
    "    d_k = query.shape[2] # 64\n",
    "    scaling_factor = torch.tensor(np.sqrt(d_k)) # 8\n",
    "    dot_product = torch.bmm(\n",
    "        query, key.transpose(1, 2) # (1, 3, 64) x (1, 64, 10) = (1, 3, 10)\n",
    "    ) \n",
    "    scaled_dot_product = dot_product / scaling_factor\n",
    "    \n",
    "    # Explained in Task 5\n",
    "    if mask:\n",
    "        mask = torch.triu(torch.ones_like(scaled_dot_product), diagonal=1).bool()\n",
    "        scaled_dot_product = scaled_dot_product.masked_fill_(mask, -np.inf)\n",
    "\n",
    "    attention_weights = F.softmax(scaled_dot_product, dim=2)\n",
    "    weighted_sum = torch.bmm(attention_weights, value) # (1, 3, 10) x (1, 10, 64) = (1, 3, 64)\n",
    "\n",
    "    return weighted_sum, attention_weights    "
   ]
  },
  {
   "cell_type": "code",
   "execution_count": 10,
   "metadata": {},
   "outputs": [
    {
     "name": "stdout",
     "output_type": "stream",
     "text": [
      "\n",
      "Input: \n",
      "[[['B']\n",
      "  ['C']\n",
      "  ['A']\n",
      "  ['C']\n",
      "  ['B']\n",
      "  ['C']\n",
      "  [' ']\n",
      "  ['A']\n",
      "  ['B']\n",
      "  ['A']]]\n",
      "\n",
      "Prediction: \n",
      "[[3 3 3]]\n",
      "\n",
      "Encoder-Decoder Attention: \n"
     ]
    },
    {
     "data": {
      "image/png": "[encoded data removed]",
      "text/plain": [
       "<Figure size 640x480 with 2 Axes>"
      ]
     },
     "metadata": {},
     "output_type": "display_data"
    }
   ],
   "source": [
    "savepath='1_counting-letters/models'\n",
    "\n",
    "print(\"\\nInput: \\n{}\".format(task.prettify(samples)))\n",
    "\n",
    "model = AttentionModel()\n",
    "model.load_state_dict(torch.load(savepath + '/ckpt.pt'))\n",
    "\n",
    "model.eval()\n",
    "with torch.set_grad_enabled(False):\n",
    "    predictions, attention = model(torch.Tensor(samples))\n",
    "\n",
    "predictions = predictions.detach().numpy()\n",
    "predictions = predictions.argmax(axis=2)\n",
    "print(\"\\nPrediction: \\n{}\".format(predictions))\n",
    "\n",
    "attention = attention.detach().numpy()\n",
    "print(\"\\nEncoder-Decoder Attention: \")\n",
    "\n",
    "fig, ax = plt.subplots()\n",
    "seaborn.heatmap(\n",
    "    attention[0],\n",
    "    yticklabels=[\"output_0\", \"output_1\", \"output_2\"],\n",
    "    xticklabels=task.prettify(samples).reshape(-1),\n",
    "    ax=ax,\n",
    "    cmap='plasma',\n",
    "    cbar=True,\n",
    "    cbar_kws={\"orientation\": \"horizontal\"},\n",
    "    annot=True,\n",
    ")\n",
    "ax.set_aspect('equal')\n",
    "for tick in ax.get_yticklabels():\n",
    "    tick.set_rotation(0)\n",
    "plt.show()"
   ]
  },
  {
   "cell_type": "markdown",
   "metadata": {},
   "source": [
    "# 2 - Difference - Self-attention"
   ]
  },
  {
   "cell_type": "markdown",
   "metadata": {},
   "source": [
    "## Description"
   ]
  },
  {
   "cell_type": "markdown",
   "metadata": {},
   "source": [
    "### Preface\n",
    "\n",
    "In Task 1, we look at how attention can be used to count letters in a sequence. In that task, the output steps were generally independent of each other. Compare this to language translation, where the N-th word in the output translation is generally considered to be dependent on the previously translated N-1 words, as well as the input sentence.\n",
    "\n",
    "In this task, we try to demonstrate two things:\n",
    "\n",
    "1. Show that inter-token dependence in the output can actually be reframed as input dependence ie. explicitly modelling inter-token dependence in the output seems to be unnecessary _A: i.e. show that we can achieve our goal without self-attention first_\n",
    "2. Despite that, show that self-attention can be used to explicitly model inter-token dependence _A: i.e. show that self-attention improves performance_\n",
    "\n",
    "This Task is pretty similar to Task 1, with the exception of an additional step in the output that computes the absolute difference between the first and second steps. In that sense, this additional step is dependent on the first and second steps in the output sequence.\n",
    "\n",
    "### Description\n",
    "\n",
    "Consider a sequence, where each element is a randomly selected letter or null/blank. The task has two parts: \n",
    "\n",
    "1. Count how many times each letter appears in the sequence\n",
    "2. Calculate the absolute difference between the first two counts\n",
    "\n",
    "For example:\n",
    "\n",
    "```python3\n",
    "Input:\n",
    "['A'], ['B'], [' '], ['B'], ['C']\n",
    "Output:\n",
    "[[1], [2], [1], [1]]\n",
    "```\n",
    "\n",
    "The output is also a sequence, where each element corresponds to the count of a letter and the last element corresponds to the difference between the first two elements. In the above case, 'A', 'B' and 'C' appear 1, 2 and 1 times respectively, while counts for 'A' and 'B' differ by 1.\n",
    "\n",
    "As per Task 1, I implement the Scaled Dot-Product Attention (described in Section 3.2.1 of [Vaswani *et al.* (2017)](https://arxiv.org/abs/1706.03762)) for this task. I also demonstrate a simple case of self-attention in this task.\n",
    "\n",
    "There are two main models that can be trained with the script, with and without the `--self_att` flag, denoting whether to use self-attention.\n",
    "\n",
    "#### Without `self_att`\n",
    "\n",
    "_A: The model withouth self_att would be equivalent to the one in Task 1. The only difference is the training data. This part illustrates that the model still manages to learn. The next part shows that learning is improved if we include self_att._ \n",
    "\n",
    "Here is a sample output from the script without `self_att` ie. similar to Task 1 but with an additional output step.\n",
    "\n",
    "```python3\n",
    "Input: \n",
    "[[['A']\n",
    "  [' ']\n",
    "  ['A']\n",
    "  ['A']\n",
    "  ['B']\n",
    "  ['C']\n",
    "  [' ']\n",
    "  ['C']\n",
    "  ['B']\n",
    "  [' ']]]\n",
    "\n",
    "Prediction: \n",
    "[[3 2 2 1]]\n",
    "\n",
    "Encoder-Decoder Attention: \n",
    "Output step 0 attended mainly to Input steps: [0 2 3]\n",
    "[0.186, 0.085, 0.186, 0.186, 0.031, 0.062, 0.085, 0.062, 0.031, 0.085]\n",
    "Output step 1 attended mainly to Input steps: [4 8]\n",
    "[0.037, 0.105, 0.037, 0.037, 0.204, 0.083, 0.105, 0.083, 0.204, 0.105]\n",
    "Output step 2 attended mainly to Input steps: [5 7]\n",
    "[0.049, 0.08, 0.049, 0.049, 0.051, 0.256, 0.08, 0.256, 0.051, 0.08]\n",
    "Output step 3 attended mainly to Input steps: [0 2 3]\n",
    "[0.134, 0.082, 0.134, 0.134, 0.123, 0.053, 0.082, 0.053, 0.123, 0.082]\n",
    "```\n",
    "\n",
    "As per Task 1, we see the output steps attending to their respective letters in the input sequence eg. Output Step 0 attending to the positions of 'A's at Input Steps 0, 2 and 3. \n",
    "\n",
    "More interestingly, we see that Output Step 3 actually attends to positions of both 'A' and 'B'. Looking at the attention of Output Step 3, the maximum attention weight of 0.134 is assigned to Input Steps 0, 2 and 3, which hold the 'A's. But attention weights of 0.123 are also assigned to Input Steps 4 and 8, which hold 'B's.\n",
    "\n",
    "\n",
    "<div>\n",
    "<img src=\"2_difference/images/enc_attention_noself.png\" alt=\"encoder attention heatmap no self\" width=\"400px\" height=\"whatever\" style=\"display: block;\">\n",
    "</div>\n",
    "\n",
    "In other words, Output Step 3 can be modeled as being dependent on Output Steps 0 and 1. But it can also be modeled as simply being dependent on the inputs of Output Steps 0 and 1. With this simple example, we can see that although there is superficial inter-token dependence in the output, this can be reframed as input dependence. \n",
    "\n",
    "_i.e. we don't need to use self-attention to accomplish this task, we can just attend to the inputs, as in Task 1_\n",
    "\n",
    "However, we do concede that explicitly modeling inter-token dependence in the output can have its advantages, such as leading to simpler and more interpretable models, which brings us to the model with `self_att`.\n",
    "\n",
    "### With `self_att`\n",
    "\n",
    "With `self_att` we allow the output to attend to and modify itself, based on itself. The script now prints  the self-attention weights ie. how much attention each output step gives to every step in the output sequence (including itself).\n",
    "\n",
    "```python3\n",
    "Input: \n",
    "[[['B']\n",
    "  ['B']\n",
    "  ['B']\n",
    "  ['A']\n",
    "  [' ']\n",
    "  ['A']\n",
    "  ['C']\n",
    "  ['A']\n",
    "  ['B']\n",
    "  ['B']]]\n",
    "\n",
    "Prediction: \n",
    "[[3 5 1 2]]\n",
    "\n",
    "Encoder-Decoder Attention: \n",
    "Output step 0 attended mainly to Input steps: [3 5 7]\n",
    "[0.053, 0.053, 0.053, 0.196, 0.08, 0.196, 0.065, 0.196, 0.053, 0.053]\n",
    "Output step 1 attended mainly to Input steps: [0 1 2 8 9]\n",
    "[0.152, 0.152, 0.152, 0.042, 0.061, 0.042, 0.05, 0.042, 0.152, 0.152]\n",
    "Output step 2 attended mainly to Input steps: [6]\n",
    "[0.068, 0.068, 0.068, 0.07, 0.157, 0.07, 0.292, 0.07, 0.068, 0.068]\n",
    "Output step 3 attended mainly to Input steps: [4]\n",
    "[0.097, 0.097, 0.097, 0.098, 0.114, 0.098, 0.105, 0.098, 0.097, 0.097]\n",
    "\n",
    "Self-Attention: \n",
    "Attention of Output step 0:\n",
    "[1.0, 0.0, 0.0, 0.0]\n",
    "Attention of Output step 1:\n",
    "[0.0, 0.989, 0.0, 0.011]\n",
    "Attention of Output step 2:\n",
    "[0.001, 0.007, 0.99, 0.002]\n",
    "Attention of Output step 3:\n",
    "[0.003, 0.627, 0.002, 0.368]\n",
    "```\n",
    "\n",
    "First, with `self_att`, the Encoder-Decoder Attention weights for Output Step 3 is now much more evenly divided across all the input steps. Since we now allow the modelling of inter-token dependence in the output via self-attention, Output Step 3 can gather more information later from Output Steps 0 and 1.\n",
    "\n",
    "<div>\n",
    "<img src=\"2_difference/images/enc_attention_self.png\" alt=\"encoder attention heatmap no self\" width=\"400px\" height=\"whatever\" style=\"display: block;\">\n",
    "</div>\n",
    "\n",
    "*Attention heatmap of output steps on the input sequence.*\n",
    "\n",
    "In the Self-Attention weights, notice that Output Steps 0, 1 and 2 are generally narcissistic and pay nearly 100% attention to themselves. This is because they are largely independent, just like the output in Task 1.\n",
    "\n",
    "However, Output Step 3 pays far less attention to itself (37%) and instead pays a lot of attention to Output Step 1 (63%). \n",
    "\n",
    "\n",
    "_A: Question: Shouldn't it pay all of its attention to output_0 and ouput_1. Not just ouput_1. And not at all to itself?\n",
    "Possible intuition: In the first, encoder step, output_3 is \"counting\" all A and\n",
    "B's. In the self-attention step, it's paying attentiont to \n",
    "that count, i.e. itself, and the count of all the B's. In \n",
    "other words, (A+B) - B. This can be seen in the example image, where the attention\n",
    "for C and '' are different, than the ones for A and B._\n",
    "\n",
    "\n",
    "<div>\n",
    "<img src=\"2_difference/images/self_attention_self.png\" alt=\"encoder attention heatmap no self\" width=\"200px\" height=\"whatever\" style=\"display: block;\">\n",
    "</div>\n",
    "\n",
    "*Self-attention heatmap of output steps.*\n",
    "\n",
    "By allowing the output sequence to self-attend, we enable the modelling of inter-token dependencies. \n",
    "\n",
    "_A: Inter-token: In the first part, we were only looking at the input sequence. So \n",
    "each 'row' of the matrix was only looking at the input data. Now, we have an \n",
    "extra step where we allow them to look at each others encodings._\n",
    "\n",
    "### Input\n",
    "\n",
    "This is exactly like the inputs for Task 1.\n",
    "\n",
    "### Output\n",
    "\n",
    "This is similar to the outputs for Task 1, with the exception of an additional step that computes the absolute difference between the first two steps.\n",
    "\n",
    "Hence the output tensor is of shape `(batchsize, vocab_size + 1, max_len + 1)`.\n",
    "\n",
    "### Model\n",
    "\n",
    "Here we will focus on explaining the self-attention part of the model. For the general attention mechanism, refer to Task 1.\n",
    "\n",
    "**Self-Attention**\n",
    "\n",
    "This is an extract of the code that is run when `self_att` is enabled.\n",
    "\n",
    "```python3\n",
    "decoding, self_attention_weights = self.attention(\n",
    "\tquery=decoding,\n",
    "\tkey=decoding,\n",
    "\tvalue=decoding,\n",
    ")\n",
    "```\n",
    "\n",
    "With the exception of the addition above, the model is exactly the same as in Task 1.\n",
    "\n",
    "Actually, to be more accurate, the self-attention here could be described as attending to the **previous** `decoding`.\n",
    "\n",
    "Here is one way to think about it. Let's explicitly term pre-self-attention `decoding` as `decoding_pre` and post-self-attention `decoding` as `decoding_post`. We can rewrite the above code snippet as: \n",
    "\n",
    "```python3\n",
    "decoding_post, self_attention_weights = self.attention(\n",
    "\tquery=decoding_pre,\n",
    "\tkey=decoding_pre,\n",
    "\tvalue=decoding_pre,\n",
    ")\n",
    "```\n",
    "\n",
    "`decoding_pre` combines the original **Query** with a weighted sum of the inputs (see Task 1). Step 0 in `decoding_pre` focuses on the 'A's in the input sequence, Step 1 in `decoding_pre` focuses on the 'B's in the input sequence and so on. The last step, which should be computing the difference of Output Steps 0 and 1, may just look at the entire input sequence instead of focusing on particular steps.\n",
    "\n",
    "Then with self-attention, the last step in `decoding_post` can focus on Steps 0 and 1 in `decoding_pre`, to get the difference between the two steps. The other steps in `decoding_post` can focus on themselves in `decoding_pre` ie. copy their own previous values, since they already have enough information to generate the correct output.\n",
    "\n",
    "This is shown clearly in the printed self-attention weights when you test the model trained with `self_att`:\n",
    "\n",
    "```python3\n",
    "Self-Attention: \n",
    "Attention of Output step 0:\n",
    "[1.0, 0.0, 0.0, 0.0]\n",
    "Attention of Output step 1:\n",
    "[0.0, 1.0, 0.0, 0.0]\n",
    "Attention of Output step 2:\n",
    "[0.009, 0.006, 0.965, 0.021]\n",
    "Attention of Output step 3:\n",
    "[0.696, 0.06, 0.038, 0.205]\n",
    "```\n",
    "\n",
    "Output Step 3 distributes attention to other steps,  while the other steps all focus on themselves."
   ]
  },
  {
   "cell_type": "markdown",
   "metadata": {},
   "source": [
    "<img src=\"2_difference/2.png\" width=\"400\"/>"
   ]
  },
  {
   "cell_type": "markdown",
   "metadata": {},
   "source": [
    "## Implementation"
   ]
  },
  {
   "cell_type": "code",
   "execution_count": 11,
   "metadata": {},
   "outputs": [],
   "source": [
    "class SelfAttentionModel(AttentionModel):\n",
    "    def __init__(self, self_att=False):\n",
    "        super().__init__()\n",
    "        \n",
    "        self.self_att = self_att\n",
    "        # Extra output for difference\n",
    "        self.query = nn.Parameter(torch.zeros((1, self.vocab_size + 1, self.hidden), requires_grad=True))\n",
    "\n",
    "    def forward(self, x):\n",
    "        key_val = self.key_val_dense(x)\n",
    "        query = self.query.repeat(key_val.shape[0], 1, 1) # (1, 3, 64)\n",
    "\n",
    "        attention, enc_attention_weights = scaled_dot_product_attention(  # (1, 3, 64), (1, 3, 10)\n",
    "            query,\n",
    "            key_val,\n",
    "            key_val)\n",
    "        \n",
    "        add_and_norm = self.norm(attention + query) # (1, 3, 64)\n",
    "                \n",
    "        # Begin: Difference from AttentionModel\n",
    "        decoding_pre = add_and_norm\n",
    "        # This can be thought of N = 2 layers of attention, i.e. the Nx in the\n",
    "        # diagram\n",
    "        if self.self_att:\n",
    "            attention, self_attention_weights = scaled_dot_product_attention(  # (1, 3, 64), (1, 3, 10)\n",
    "                decoding_pre,\n",
    "                decoding_pre,\n",
    "                decoding_pre)\n",
    "            \n",
    "            add_and_norm = self.norm(attention + query) # (1, 3, 64)\n",
    "\n",
    "            decoding = add_and_norm # decoding_post\n",
    "        else:\n",
    "            self_attention_weights = None\n",
    "            decoding = decoding_pre\n",
    "        # End: Difference from AttentionModel\n",
    "        \n",
    "        linear = self.linear(decoding)\n",
    "        \n",
    "        return linear, enc_attention_weights, self_attention_weights"
   ]
  },
  {
   "cell_type": "code",
   "execution_count": 12,
   "metadata": {},
   "outputs": [],
   "source": [
    "task = TaskDifference()\n",
    "samples, labels = task.next_batch(batchsize=1)"
   ]
  },
  {
   "cell_type": "code",
   "execution_count": 13,
   "metadata": {},
   "outputs": [
    {
     "data": {
      "text/plain": [
       "(1, 10, 4)"
      ]
     },
     "execution_count": 13,
     "metadata": {},
     "output_type": "execute_result"
    }
   ],
   "source": [
    "# (batchsize, max_len, vocab_size + 1)\n",
    "samples.shape"
   ]
  },
  {
   "cell_type": "code",
   "execution_count": 14,
   "metadata": {},
   "outputs": [
    {
     "data": {
      "text/plain": [
       "array([[0., 0., 1., 0.],\n",
       "       [0., 0., 0., 1.],\n",
       "       [0., 1., 0., 0.],\n",
       "       [0., 0., 0., 1.],\n",
       "       [0., 0., 1., 0.],\n",
       "       [0., 0., 0., 1.],\n",
       "       [1., 0., 0., 0.],\n",
       "       [0., 1., 0., 0.],\n",
       "       [0., 0., 1., 0.],\n",
       "       [0., 1., 0., 0.]])"
      ]
     },
     "execution_count": 14,
     "metadata": {},
     "output_type": "execute_result"
    }
   ],
   "source": [
    "samples[0]"
   ]
  },
  {
   "cell_type": "code",
   "execution_count": 15,
   "metadata": {},
   "outputs": [
    {
     "data": {
      "text/plain": [
       "(1, 4, 11)"
      ]
     },
     "execution_count": 15,
     "metadata": {},
     "output_type": "execute_result"
    }
   ],
   "source": [
    "# (batchsize, vocab_size + 1, max_len + 1)\n",
    "labels.shape"
   ]
  },
  {
   "cell_type": "code",
   "execution_count": 16,
   "metadata": {},
   "outputs": [
    {
     "data": {
      "text/plain": [
       "array([[0., 0., 0., 1., 0., 0., 0., 0., 0., 0., 0.],\n",
       "       [0., 0., 0., 1., 0., 0., 0., 0., 0., 0., 0.],\n",
       "       [0., 0., 0., 1., 0., 0., 0., 0., 0., 0., 0.],\n",
       "       [1., 0., 0., 0., 0., 0., 0., 0., 0., 0., 0.]])"
      ]
     },
     "execution_count": 16,
     "metadata": {},
     "output_type": "execute_result"
    }
   ],
   "source": [
    "labels[0]"
   ]
  },
  {
   "cell_type": "code",
   "execution_count": 17,
   "metadata": {},
   "outputs": [
    {
     "name": "stdout",
     "output_type": "stream",
     "text": [
      "\n",
      "Input: \n",
      "[[['B']\n",
      "  ['C']\n",
      "  ['A']\n",
      "  ['C']\n",
      "  ['B']\n",
      "  ['C']\n",
      "  [' ']\n",
      "  ['A']\n",
      "  ['B']\n",
      "  ['A']]]\n"
     ]
    }
   ],
   "source": [
    "print(\"\\nInput: \\n{}\".format(task.prettify(samples)))"
   ]
  },
  {
   "cell_type": "code",
   "execution_count": 18,
   "metadata": {},
   "outputs": [],
   "source": [
    "savepath='2_difference/models'"
   ]
  },
  {
   "cell_type": "code",
   "execution_count": 19,
   "metadata": {},
   "outputs": [
    {
     "name": "stdout",
     "output_type": "stream",
     "text": [
      "\n",
      "Input: \n",
      "[[['B']\n",
      "  ['C']\n",
      "  ['A']\n",
      "  ['C']\n",
      "  ['B']\n",
      "  ['C']\n",
      "  [' ']\n",
      "  ['A']\n",
      "  ['B']\n",
      "  ['A']]]\n",
      "\n",
      "Prediction: \n",
      "[[1 1 0 0]]\n",
      "\n",
      "Encoder-Decoder Attention: \n",
      "Output step 0 attended mainly to Input steps: [2 7]\n",
      "[0.044, 0.065, 0.195, 0.065, 0.044, 0.065, 0.088, 0.195, 0.044, 0.195]\n",
      "Output step 1 attended mainly to Input steps: [8]\n",
      "[0.191, 0.064, 0.051, 0.064, 0.191, 0.064, 0.082, 0.051, 0.191, 0.051]\n",
      "Output step 2 attended mainly to Input steps: [1 3 5]\n",
      "[0.05, 0.214, 0.045, 0.214, 0.05, 0.214, 0.075, 0.045, 0.05, 0.045]\n",
      "Output step 3 attended mainly to Input steps: [0 4 8]\n",
      "[0.125, 0.069, 0.118, 0.069, 0.125, 0.069, 0.065, 0.118, 0.125, 0.118]\n"
     ]
    },
    {
     "data": {
      "image/png": "[encoded data removed]",
      "text/plain": [
       "<Figure size 640x480 with 2 Axes>"
      ]
     },
     "metadata": {},
     "output_type": "display_data"
    }
   ],
   "source": [
    "print(\"\\nInput: \\n{}\".format(task.prettify(samples)))\n",
    "\n",
    "self_att=False\n",
    "    \n",
    "model = SelfAttentionModel(self_att=self_att)\n",
    "\n",
    "model.load_state_dict(torch.load(savepath + '/ckpt.pt'))\n",
    "model.eval()\n",
    "with torch.set_grad_enabled(False):\n",
    "    predictions, attention, self_attention = model(torch.Tensor(samples))\n",
    "predictions = predictions.detach().numpy()\n",
    "predictions = predictions.argmax(axis=2)\n",
    "attention = attention.detach().numpy()\n",
    "\n",
    "print(\"\\nPrediction: \\n{}\".format(predictions))\n",
    "print(\"\\nEncoder-Decoder Attention: \")\n",
    "for i, output_step in enumerate(attention[0]):\n",
    "    print(\"Output step {} attended mainly to Input steps: {}\".format(\n",
    "        i, np.where(output_step >= np.max(output_step))[0]))\n",
    "    print([float(\"{:.3f}\".format(step)) for step in output_step])\n",
    "\n",
    "fig, ax = plt.subplots()\n",
    "seaborn.heatmap(\n",
    "    attention[0],\n",
    "    yticklabels=[\"output_0\", \"output_1\", \"output_2\", \"output_3\"],\n",
    "    xticklabels=task.prettify(samples).reshape(-1),\n",
    "    ax=ax,\n",
    "    cmap='plasma',\n",
    "    cbar=True,\n",
    "    cbar_kws={\"orientation\": \"horizontal\"})\n",
    "ax.set_aspect('equal')\n",
    "for tick in ax.get_yticklabels():\n",
    "    tick.set_rotation(0)\n",
    "plt.show()"
   ]
  },
  {
   "cell_type": "code",
   "execution_count": 20,
   "metadata": {},
   "outputs": [
    {
     "name": "stdout",
     "output_type": "stream",
     "text": [
      "\n",
      "Input: \n",
      "[[['B']\n",
      "  ['C']\n",
      "  ['A']\n",
      "  ['C']\n",
      "  ['B']\n",
      "  ['C']\n",
      "  [' ']\n",
      "  ['A']\n",
      "  ['B']\n",
      "  ['A']]]\n",
      "\n",
      "Prediction: \n",
      "[[3 3 3 0]]\n",
      "\n",
      "Encoder-Decoder Attention: \n",
      "Output step 0 attended mainly to Input steps: [2 7]\n",
      "[0.044, 0.065, 0.195, 0.065, 0.044, 0.065, 0.088, 0.195, 0.044, 0.195]\n",
      "Output step 1 attended mainly to Input steps: [8]\n",
      "[0.191, 0.064, 0.051, 0.064, 0.191, 0.064, 0.082, 0.051, 0.191, 0.051]\n",
      "Output step 2 attended mainly to Input steps: [1 3 5]\n",
      "[0.05, 0.214, 0.045, 0.214, 0.05, 0.214, 0.075, 0.045, 0.05, 0.045]\n",
      "Output step 3 attended mainly to Input steps: [0 4 8]\n",
      "[0.125, 0.069, 0.118, 0.069, 0.125, 0.069, 0.065, 0.118, 0.125, 0.118]\n"
     ]
    },
    {
     "data": {
      "image/png": "[encoded data removed]",
      "text/plain": [
       "<Figure size 640x480 with 2 Axes>"
      ]
     },
     "metadata": {},
     "output_type": "display_data"
    },
    {
     "name": "stdout",
     "output_type": "stream",
     "text": [
      "\n",
      "Self-Attention: \n",
      "Attention of Output step 0:\n",
      "[1.0, 0.0, 0.0, 0.0]\n",
      "Attention of Output step 1:\n",
      "[0.0, 1.0, 0.0, 0.0]\n",
      "Attention of Output step 2:\n",
      "[0.0, 0.0, 1.0, 0.0]\n",
      "Attention of Output step 3:\n",
      "[0.033, 0.038, 0.0, 0.928]\n"
     ]
    },
    {
     "data": {
      "image/png": "[encoded data removed]",
      "text/plain": [
       "<Figure size 960x720 with 2 Axes>"
      ]
     },
     "metadata": {},
     "output_type": "display_data"
    }
   ],
   "source": [
    "print(\"\\nInput: \\n{}\".format(task.prettify(samples)))\n",
    "\n",
    "self_att=True\n",
    "    \n",
    "model = SelfAttentionModel(self_att=self_att)\n",
    "\n",
    "model.load_state_dict(torch.load(savepath + '/ckpt.pt'))\n",
    "model.eval()\n",
    "with torch.set_grad_enabled(False):\n",
    "    predictions, attention, self_attention = model(torch.Tensor(samples))\n",
    "predictions = predictions.detach().numpy()\n",
    "predictions = predictions.argmax(axis=2)\n",
    "attention = attention.detach().numpy()\n",
    "\n",
    "print(\"\\nPrediction: \\n{}\".format(predictions))\n",
    "print(\"\\nEncoder-Decoder Attention: \")\n",
    "for i, output_step in enumerate(attention[0]):\n",
    "    print(\"Output step {} attended mainly to Input steps: {}\".format(\n",
    "        i, np.where(output_step >= np.max(output_step))[0]))\n",
    "    print([float(\"{:.3f}\".format(step)) for step in output_step])\n",
    "\n",
    "fig, ax = plt.subplots()\n",
    "seaborn.heatmap(\n",
    "    attention[0],\n",
    "    yticklabels=[\"output_0\", \"output_1\", \"output_2\", \"output_3\"],\n",
    "    xticklabels=task.prettify(samples).reshape(-1),\n",
    "    ax=ax,\n",
    "    cmap='plasma',\n",
    "    cbar=True,\n",
    "    cbar_kws={\"orientation\": \"horizontal\"})\n",
    "ax.set_aspect('equal')\n",
    "for tick in ax.get_yticklabels():\n",
    "    tick.set_rotation(0)\n",
    "plt.show()\n",
    "\n",
    "\n",
    "self_attention = self_attention.detach().numpy()\n",
    "print(\"\\nSelf-Attention: \")\n",
    "for i, output_step in enumerate(self_attention[0]):\n",
    "    print(\"Attention of Output step {}:\".format(i))\n",
    "    print([float(\"{:.3f}\".format(step)) for step in output_step])\n",
    "\n",
    "fig2, ax2 = plt.subplots()\n",
    "seaborn.heatmap(\n",
    "    self_attention[0],\n",
    "    yticklabels=[\"output_0\", \"output_1\", \"output_2\", \"output_3\"],\n",
    "    xticklabels=[\"output_0\", \"output_1\", \"output_2\", \"output_3\"],\n",
    "    ax=ax2,\n",
    "    cmap='plasma',\n",
    "    cbar=True,\n",
    "    cbar_kws={\"orientation\": \"horizontal\"})\n",
    "ax2.set_aspect('equal')\n",
    "ax2.set_title(\"Self-Attention\")\n",
    "curr_fig_size = fig2.get_size_inches()\n",
    "fig2.set_size_inches(curr_fig_size[0]*1.5, curr_fig_size[1]*1.5)\n",
    "for tick in ax2.get_yticklabels():\n",
    "    tick.set_rotation(0)\n",
    "plt.show()"
   ]
  },
  {
   "cell_type": "markdown",
   "metadata": {},
   "source": [
    "# 3 - Signal - Positional Encoding & Encoding Layers"
   ]
  },
  {
   "cell_type": "markdown",
   "metadata": {},
   "source": [
    "## Description"
   ]
  },
  {
   "cell_type": "markdown",
   "metadata": {},
   "source": [
    "### Preface\n",
    "\n",
    "At the end of Task 1, we mentioned that the order of the input sequence does not matter, since we are just counting letters (see Task 1 Notes section).\n",
    "\n",
    "Here, we consider a task where the order of the input sequence is paramount. Specifically, the first step of the input sequence acts as a signal to tell the model which letter to count.\n",
    "\n",
    "_A: step = position in the array_\n",
    "\n",
    "The output is a sequence of a single step, which represents the count of the letter specified by the signal.\n",
    "\n",
    "For instance, if the first step (signal) is 'A', the model should output the counts of 'A's, not including the signal. \n",
    "\n",
    "The model has to learn to recognize the signal purely by its position, since no other information is available ie. the signal for 'A' is identical to a regular 'A' in the sequence. This is similar to language processing, where the identical words can have vastly different meanings in different positions/contexts.\n",
    "\n",
    "### Description\n",
    "\n",
    "Consider a sequence, where each element is a randomly selected letter. We call the first element the *signal*. \n",
    "\n",
    "For example ('B' is the signal here):\n",
    "\n",
    "```python3\n",
    "Input:\n",
    "['B'], ['B'], ['A'], ['B'], ['C']\n",
    "Output:\n",
    "[[2]]\n",
    "```\n",
    "\n",
    "The output is a sequence of one step, corresponding to the count of the letter specified by the signal (first input step).\n",
    "\n",
    "In the above case, the first input step is 'B', which means that we have to count the number of 'B's in the following sequence. The output is hence 2, since there are 2 'B's in the sequence (not counting the signal).\n",
    "\n",
    "In particular, all the 'B's, including the signal, are represented with the same vector when passed to the model. This means that the model must learn that the meaning of a 'B' changes, depending on whether it is the first letter or not.\n",
    "\n",
    "Since the task here is slightly more complicated, I implement the entire encoder layer, with self-attention (but not multi-head) (see left half of Figure 1 and Section 3.1 in [Vaswani *et al.* (2017)](https://arxiv.org/abs/1706.03762)). For decoding I just implement a simple scaled dot-product attention as per Task 1. There is no self-attention for the decoding.\n",
    "\n",
    "#### Without `pos_enc`\n",
    "\n",
    "Without positional encodings, the model has no way to differentiate whether an input step is a signal or a regular step. As a result, the model simply does not learn well without positional encodings.\n",
    "\n",
    "Sample of losses when training without `--pos_enc`:\n",
    "\n",
    "```python3\n",
    "Iteration 500 - Loss 1.3295859098434448\n",
    "Iteration 1000 - Loss 1.227324366569519\n",
    "Iteration 1500 - Loss 1.0068984031677246\n",
    "Iteration 2000 - Loss 0.9906516075134277\n",
    "```\n",
    "\n",
    "The losses generally stop decreasing after reaching about 1. The decrease in loss can be attributed to the model learning the range of possible output values and possibly choosing to focus on counting a fixed letter, which makes its predictions more reliable than random. However, it clearly does not learn well.\n",
    "\n",
    "#### With `pos_enc`\n",
    "\n",
    "With positional encodings, the model is able to encode the positions of the input sequence into the input embeddings, which allows the model to recognize which is the first step in the sequence.\n",
    "\n",
    "Sample of losses when training with `--pos_enc`:\n",
    "\n",
    "```python3\n",
    "Iteration 500 - Loss 1.3017479181289673\n",
    "Iteration 1000 - Loss 0.115713931620121\n",
    "Iteration 1500 - Loss 0.05086364597082138\n",
    "Iteration 2000 - Loss 0.014654741622507572\n",
    "```\n",
    "\n",
    "With positional encodings, the model learns way better. By checking the attention weights in the Encoder-Decoder Attention layer, we can also see that the decoder pays extra attention to the first step of the sequence, which gives the signal.\n",
    "\n",
    "Sample output from testing the model trained with `--pos_enc`:\n",
    "\n",
    "```\n",
    "Input: \n",
    "[[['B']\n",
    "  ['A']\n",
    "  ['A']\n",
    "  ['B']\n",
    "  ['B']\n",
    "  ['C']\n",
    "  ['B']\n",
    "  ['B']\n",
    "  ['C']\n",
    "  ['B']\n",
    "  ['A']]]\n",
    "\n",
    "Prediction: \n",
    "[[5]]\n",
    "\n",
    "Encoder-Decoder Attention: \n",
    "Output step 0 attended mainly to Input steps: [0]\n",
    "[0.237, 0.086, 0.087, 0.058, 0.058, 0.106, 0.058, 0.058, 0.108, 0.058, 0.086]\n",
    "\n",
    "L2-Norm of Input Positional Encoding:\n",
    "[0.827, 0.153, 0.151, 0.152, 0.156, 0.156, 0.157, 0.153, 0.155, 0.151, 0.155]\n",
    "```\n",
    "\n",
    "In the above output, despite Input Steps 0, 3, 4, 6, 7, 9 all being 'B's, the decoder pays extra attention (24%) to Input Step 0.\n",
    "\n",
    "<div>\n",
    "<img src=\"3_signal/images/attention.png\" alt=\"attention heatmap\" width=\"400px\" height=\"whatever\" style=\"display: block;\">\n",
    "</div>\n",
    "\n",
    "*Attention heatmap of output steps on input sequence.*\n",
    "\n",
    "We can also check the L2-Norm for each vector in the positional encoding, where each vector represents the positional encoding for each step in the input sequence.\n",
    "\n",
    "<div>\n",
    "<img src=\"3_signal/images/positional_encodings.png\" alt=\"positional_encodings\" width=\"400px\" height=\"whatever\" style=\"display: block;\">\n",
    "</div>\n",
    "\n",
    "*L2-norm of positional encodings for each input step.*\n",
    "\n",
    "Here the L2-Norm of the positional vector is far larger for the first step (0.816) than for the rest of the input sequence (~0.18). This makes perfect sense, since the first step has to be modified to encode its status as the signal. On the other hand, the model should leave the rest of the sequence untouched since a 'B' in the second step should be no different from a 'B' in the last step. As such, the positional vectors for the other steps have a much smaller L2-norm and modifies the steps less. More on this in the Details.\n",
    "\n",
    "*This experiment started out as an attempt to see if we can explicitly change the attention weights assigned to different letters by changing the signal ie. if the signal is 'B', the attention assigned to 'B's should be higher. However, this only seems to occur infrequently. Perhaps via self-attention, the sequence encodes the relevant information into the first step (signal) so the decoder simply focuses on the first step. Or it could be just spread out across all the steps so the decoder does not explicitly focus on the relevant letters in the input sequence. Maybe more on this in the future.*\n",
    "\n",
    "#### Adjusting `--num_enc_layers`\n",
    "\n",
    "_A: You can think of Task 2 as having --num_enc_layers=2_\n",
    "\n",
    "Using the script, we can also adjust the number of encoder layers, where each layer comprises self-attention, followed by a regular feed-forward network (see Figure 1 and Section 3.1 in Vaswani et al. (2017)).\n",
    "\n",
    "The number of encoder layers allow each step in the sequence to incorporate and encode information from other steps. Figure 4 in Vaswani et al. (2017) shows a good example with the following sentence:\n",
    "\n",
    "```python3\n",
    "The Law will never be perfect, but its application should be just - this is what we are missing, in my opinion.\n",
    "```\n",
    "\n",
    "By inspecting the self-attention weights for the word `its`, Vaswani et al. (2017) found heavier attentions for the words `Law` and `application`, which are very contextually relevant.\n",
    "\n",
    "In our case, the use of encoder layers allow the input sequence to modify itself based on its own signal. In particular, the decoder is restricted to a single scaled dot-product attention layer, which means that the encoder has to find a good representation for the sequence, so that the decoder can quickly retrieve the relevant information via a single attention layer.\n",
    "\n",
    "In general, we find that with increasing `--num_enc_layers`, the decoder's attention on the first step (signal) tends to decrease, in the Encoder-Decoder Attention layer.\n",
    "\n",
    "The previous sample output was trained with `--num_enc_layers=1`, where the attention weight on the signal was 32%.\n",
    "\n",
    "Sample output from testing the model trained with `--pos_enc` and `--num_enc_layers=6`:\n",
    "\n",
    "```python3\n",
    "Input: \n",
    "[[['C']\n",
    "  ['B']\n",
    "  ['B']\n",
    "  ['B']\n",
    "  ['A']\n",
    "  ['C']\n",
    "  ['C']\n",
    "  ['C']\n",
    "  ['B']\n",
    "  ['C']\n",
    "  ['A']]]\n",
    "\n",
    "Prediction: \n",
    "[[4]]\n",
    "\n",
    "Encoder-Decoder Attention: \n",
    "Output step 0 attended mainly to Input steps: [7]\n",
    "[0.08, 0.076, 0.076, 0.076, 0.092, 0.108, 0.108, 0.108, 0.076, 0.108, 0.092]\n",
    "\n",
    "L2-Norm of Input Positional Encoding:\n",
    "[0.884, 0.115, 0.119, 0.114, 0.116, 0.12, 0.116, 0.122, 0.118, 0.119, 0.12]\n",
    "```\n",
    "\n",
    "In contrast to the previous output from `--num_enc_layers=1`, the attention weight on the signal here is far smaller at only 8%.\n",
    "\n",
    "Very hypothetically, it could be that the use of more encoder layers allows the encoding to spread out the information across all the steps, making the decoder less reliant on a single step.\n",
    "\n",
    "### Details\n",
    "\n",
    "#### Input\n",
    "\n",
    "This is similar to the inputs for Task 1, with two exceptions:\n",
    "\n",
    "- An additional first step that serves as the signal, which makes the second dimension `max_len + 1`\n",
    "- No null character so the last dimension is simply `vocab_size`\n",
    "\n",
    "The input tensor has shape `(batchsize, max_len + 1, vocab_size)`.\n",
    "\n",
    "#### Output\n",
    "\n",
    "The output just consists of sequences of length 1, representing the count of the signal-specified letter, which ranges from 0 to `max_len`.\n",
    "\n",
    "The output tensor is of shape `(batchsize, 1, max_len + 1)`.\n",
    "\n",
    "#### Model\n",
    "\n",
    "**Positional Encoding**\n",
    "\n",
    "We touched on this briefly at the end of Task 1 in the Notes section, where we discussed how the **Queries** tensor is also a form of positional encoding for the output.\n",
    "\n",
    "First, consider the embedding of the input:\n",
    "\n",
    "```python3\n",
    "self.base_enc_layer = nn.Linear(self.vocab_size, self.hidden)\n",
    "```\n",
    "\n",
    "Since this is a simple position-wise feedforward network, an input vector of 'A' will always output the same encoding vector of `hidden` dimension, regardless of the vector's position. (We use 'A' here as an example but the same logic applies to every other character.)\n",
    "\n",
    "Likewise, if we pass this straight to the Encoder-Decoder Attention layer, the same attention weights will be assigned to every vector that represents 'A'. In that sense, the decoder has no way of differentiating a signal 'A' from a regular 'A'.\n",
    "\n",
    "Will self-attention help?\n",
    "\n",
    "Nope. Just as in the Encoder-Decoder Attention layer, the same attention weights will be assigned to every vector that represents 'A', no matter how many times you apply self-attention to the encodings.\n",
    "\n",
    "Instead, we simply add positional encoding.\n",
    "\n",
    "```python3\n",
    "self.input_pos_enc = nn.Parameter(torch.zeros((1, self.max_len + 1, self.hidden)))\n",
    "\n",
    "if self.pos_enc:\n",
    "    # Add positional encodings\n",
    "    encoding += self.input_pos_enc\n",
    "```\n",
    "\n",
    "Here, we allow the model to learn the positional encoding by initializing it as a trainable `nn.Parameter`, just as with the **Queries** tensor from Task 1. Then, we just add it to the encodings.\n",
    "\n",
    "Notice that the shape of the positional encoding is `(1, max_len + 1, hidden)` ie. for each step in a length `max_len + 1` sequence, there is a vector of `hidden` dimension that represents information about the position. When we add this to the encoding, the addition is broadcasted to each sequence in the batch.\n",
    "\n",
    "With this, an 'A' in one input step is different from an 'A' in another input step, since the positional vector at each input step is different. Furthermore, in this task, we know that the first step is significantly different as the signal, whereas the positions of the other steps are not very important. In fact, it is best if the positional encoding only changes the first step and leaves the rest of the sequence untouched, since position does not matter for the rest of the sequence. We see this clearly in the L2-norms of the positional vectors in the sample outputs from earlier (reproduced below), which are larger for the first step and much smaller for the rest of the steps.\n",
    "\n",
    "From model trained with `--pos_enc` and `num_enc_layers=1`:\n",
    "\n",
    "```\n",
    "L2-Norm of Input Positional Encoding:\n",
    "[0.816, 0.181, 0.183, 0.185, 0.186, 0.18, 0.185, 0.183, 0.185, 0.183, 0.178]\n",
    "```\n",
    "\n",
    "From model trained with `--pos_enc` and `num_enc_layers=6`:\n",
    "\n",
    "```\n",
    "L2-Norm of Input Positional Encoding:\n",
    "[0.884, 0.115, 0.119, 0.114, 0.116, 0.12, 0.116, 0.122, 0.118, 0.119, 0.12]\n",
    "```\n"
   ]
  },
  {
   "cell_type": "markdown",
   "metadata": {},
   "source": [
    "<img src=\"3_signal/3.png\" width=\"400\"/>"
   ]
  },
  {
   "cell_type": "markdown",
   "metadata": {},
   "source": [
    "## Implementation"
   ]
  },
  {
   "cell_type": "code",
   "execution_count": 21,
   "metadata": {},
   "outputs": [],
   "source": [
    "task = SignalTask()\n",
    "samples, labels = task.next_batch()"
   ]
  },
  {
   "cell_type": "code",
   "execution_count": 22,
   "metadata": {},
   "outputs": [
    {
     "data": {
      "text/plain": [
       "array([[['A'],\n",
       "        ['A'],\n",
       "        ['A'],\n",
       "        ['C'],\n",
       "        ['B'],\n",
       "        ['B'],\n",
       "        ['C'],\n",
       "        ['C'],\n",
       "        ['A'],\n",
       "        ['B'],\n",
       "        ['A']]], dtype='<U1')"
      ]
     },
     "execution_count": 22,
     "metadata": {},
     "output_type": "execute_result"
    }
   ],
   "source": [
    "task.prettify(samples[0])"
   ]
  },
  {
   "cell_type": "code",
   "execution_count": 23,
   "metadata": {},
   "outputs": [
    {
     "data": {
      "text/plain": [
       "4"
      ]
     },
     "execution_count": 23,
     "metadata": {},
     "output_type": "execute_result"
    }
   ],
   "source": [
    "labels[0].argmax()"
   ]
  },
  {
   "cell_type": "code",
   "execution_count": 24,
   "metadata": {},
   "outputs": [
    {
     "data": {
      "text/plain": [
       "(1, 11, 3)"
      ]
     },
     "execution_count": 24,
     "metadata": {},
     "output_type": "execute_result"
    }
   ],
   "source": [
    "# (batchsize, max_len + 1, vocab_size)\n",
    "samples.shape"
   ]
  },
  {
   "cell_type": "code",
   "execution_count": 25,
   "metadata": {},
   "outputs": [
    {
     "data": {
      "text/plain": [
       "array([[1., 0., 0.],\n",
       "       [1., 0., 0.],\n",
       "       [1., 0., 0.],\n",
       "       [0., 0., 1.],\n",
       "       [0., 1., 0.],\n",
       "       [0., 1., 0.],\n",
       "       [0., 0., 1.],\n",
       "       [0., 0., 1.],\n",
       "       [1., 0., 0.],\n",
       "       [0., 1., 0.],\n",
       "       [1., 0., 0.]])"
      ]
     },
     "execution_count": 25,
     "metadata": {},
     "output_type": "execute_result"
    }
   ],
   "source": [
    "samples[0]"
   ]
  },
  {
   "cell_type": "code",
   "execution_count": 26,
   "metadata": {},
   "outputs": [
    {
     "data": {
      "text/plain": [
       "(1, 1, 11)"
      ]
     },
     "execution_count": 26,
     "metadata": {},
     "output_type": "execute_result"
    }
   ],
   "source": [
    "# (batchsize, 1, max_len + 1)\n",
    "labels.shape"
   ]
  },
  {
   "cell_type": "code",
   "execution_count": 27,
   "metadata": {},
   "outputs": [
    {
     "data": {
      "text/plain": [
       "array([[0., 0., 0., 0., 1., 0., 0., 0., 0., 0., 0.]])"
      ]
     },
     "execution_count": 27,
     "metadata": {},
     "output_type": "execute_result"
    }
   ],
   "source": [
    "labels[0]"
   ]
  },
  {
   "cell_type": "code",
   "execution_count": 28,
   "metadata": {},
   "outputs": [],
   "source": [
    "class PosEncLayersAttentionModel(SelfAttentionModel):\n",
    "    def __init__(self, pos_enc=True, num_enc_layers=1):\n",
    "        super().__init__()\n",
    "\n",
    "        self.query = None # we will have many queries, keys and values now\n",
    "        self.key_val_dense = None \n",
    "\n",
    "        self.pos_enc = pos_enc\n",
    "        self.num_enc_layers = num_enc_layers\n",
    "        \n",
    "        self.input_embedding = nn.Linear(self.vocab_size, self.hidden) # can be\n",
    "        # thought of as the query from previous exercise\n",
    "        self.input_pos_enc = nn.Parameter(torch.zeros((1, self.max_len + 1, self.hidden)))\n",
    "        \n",
    "        # `enc_` as in Encoder, the left side of the diagram       \n",
    "        # Creates an array of num_enc_layers nn.Sequential objects. Each is part\n",
    "        # of its own layer, and does not share weights with the\n",
    "        self.enc_feed_forwad = nn.ModuleList([\n",
    "            nn.Sequential(\n",
    "                nn.Linear(self.hidden, self.hidden * 2), # (11, 128)\n",
    "                nn.ReLU(),\n",
    "                nn.Linear(self.hidden * 2, self.hidden) # (11, 64)\n",
    "            )\n",
    "            for i in range(self.num_enc_layers)\n",
    "        ])\n",
    "        self.enc_layer_norm = nn.ModuleList([\n",
    "            nn.LayerNorm(self.hidden)\n",
    "            for i in range(self.num_enc_layers)])\n",
    "\n",
    "        self.output_embedding = nn.Linear(1, self.hidden)\n",
    "\n",
    "    def forward(self, x): # x: (11, 3)\n",
    "        encoding = self.input_embedding(x) # (11, 64)\n",
    "        \n",
    "        if self.pos_enc:\n",
    "            # Add positional encodings\n",
    "            encoding += self.input_pos_enc # (11, 64)\n",
    "\n",
    "        #  After each iteration of the loop, encoding remains a tensor of shape \n",
    "        # (100, 11, 64). Our output becomes the input for the next layer.\n",
    "        for i in range(self.num_enc_layers):\n",
    "            attention, _ = scaled_dot_product_attention(\n",
    "                encoding, \n",
    "                encoding, \n",
    "                encoding\n",
    "            )   \n",
    "            # This was implemented differently than the diagram. Each layer \n",
    "            # should have its own norm also in this part. \n",
    "            add_and_norm = self.norm(attention + encoding)\n",
    "\n",
    "            # We have #num_enc_layers \"separate networks\", each trained for\n",
    "            # a specific layer.\n",
    "            feed_forward = self.enc_feed_forwad[i](add_and_norm) # (11, 128) -> (11, 64)\n",
    "            add_and_norm = self.enc_layer_norm[i](feed_forward + add_and_norm)\n",
    "\n",
    "            encoding = add_and_norm # (11, 64)\n",
    "\n",
    "        # Right side\n",
    "        # We know that we expect the output to be 1 token, \n",
    "        # so we can hardcode it here.\n",
    "        # This can be done with nn.Parameter\n",
    "        ones = torch.ones(x.shape[0], 1, 1)\n",
    "        output_embedding = self.output_embedding(ones) # (1, 64)\n",
    "        \n",
    "        attention, attention_weights = scaled_dot_product_attention( # (1, 64), (1, 11)\n",
    "            output_embedding, \n",
    "            encoding,  # (11, 64)\n",
    "            encoding\n",
    "        )\n",
    "        add_and_norm = self.norm(attention + output_embedding)\n",
    "            \n",
    "        linear = self.linear(add_and_norm) # (1, 11)\n",
    "\n",
    "        return linear, attention_weights, self.input_pos_enc"
   ]
  },
  {
   "cell_type": "markdown",
   "metadata": {},
   "source": [
    "## Run"
   ]
  },
  {
   "cell_type": "code",
   "execution_count": 29,
   "metadata": {},
   "outputs": [],
   "source": [
    "savepath='3_signal/models/'"
   ]
  },
  {
   "cell_type": "markdown",
   "metadata": {},
   "source": [
    "###  Without positional encoding, 1 encoding layer"
   ]
  },
  {
   "cell_type": "code",
   "execution_count": 30,
   "metadata": {},
   "outputs": [
    {
     "name": "stdout",
     "output_type": "stream",
     "text": [
      "\n",
      "Input: \n",
      "[[['A']\n",
      "  ['A']\n",
      "  ['A']\n",
      "  ['C']\n",
      "  ['B']\n",
      "  ['B']\n",
      "  ['C']\n",
      "  ['C']\n",
      "  ['A']\n",
      "  ['B']\n",
      "  ['A']]]\n",
      "\n",
      "Prediction: \n",
      "[[4]]\n",
      "\n",
      "Encoder-Decoder Attention: \n",
      "Output step 0 attended mainly to Input steps: [10]\n",
      "[0.149, 0.149, 0.149, 0.026, 0.058, 0.058, 0.026, 0.026, 0.149, 0.058, 0.149]\n"
     ]
    },
    {
     "data": {
      "image/png": "[encoded data removed]",
      "text/plain": [
       "<Figure size 640x480 with 2 Axes>"
      ]
     },
     "metadata": {},
     "output_type": "display_data"
    }
   ],
   "source": [
    "model = PosEncLayersAttentionModel(pos_enc=False,\n",
    "                                   num_enc_layers=1)\n",
    "model.load_state_dict(torch.load(savepath + '/ckpt-without_enc.pt'))\n",
    "\n",
    "print(\"\\nInput: \\n{}\".format(task.prettify(samples)))\n",
    "model.eval()\n",
    "with torch.set_grad_enabled(False):\n",
    "    predictions, attention, input_pos_enc = model(torch.Tensor(samples))\n",
    "predictions = predictions.detach().numpy()\n",
    "predictions = predictions.argmax(axis=2)\n",
    "attention = attention.detach().numpy()\n",
    "\n",
    "print(\"\\nPrediction: \\n{}\".format(predictions))\n",
    "print(\"\\nEncoder-Decoder Attention: \")\n",
    "for i, output_step in enumerate(attention[0]):\n",
    "    print(\"Output step {} attended mainly to Input steps: {}\".format(\n",
    "        i, np.where(output_step >= np.max(output_step))[0]))\n",
    "    print([float(\"{:.3f}\".format(step)) for step in output_step])\n",
    "\n",
    "fig, ax = plt.subplots()\n",
    "seaborn.heatmap(\n",
    "    attention[0],\n",
    "    yticklabels=[\"output_0\"],\n",
    "    xticklabels=task.prettify(samples).reshape(-1),\n",
    "    ax=ax,\n",
    "    cmap='plasma',\n",
    "    cbar=True,\n",
    "    cbar_kws={\"orientation\": \"horizontal\"})\n",
    "ax.set_aspect('equal')\n",
    "ax.set_title(\"Encoder-Decoder Attention\")\n",
    "for tick in ax.get_yticklabels():\n",
    "    tick.set_rotation(0)\n",
    "plt.show()"
   ]
  },
  {
   "cell_type": "markdown",
   "metadata": {},
   "source": [
    "###  With positional encoding, 1 encoding layer"
   ]
  },
  {
   "cell_type": "code",
   "execution_count": 31,
   "metadata": {},
   "outputs": [
    {
     "name": "stdout",
     "output_type": "stream",
     "text": [
      "\n",
      "Input: \n",
      "[[['A']\n",
      "  ['A']\n",
      "  ['A']\n",
      "  ['C']\n",
      "  ['B']\n",
      "  ['B']\n",
      "  ['C']\n",
      "  ['C']\n",
      "  ['A']\n",
      "  ['B']\n",
      "  ['A']]]\n",
      "\n",
      "Prediction: \n",
      "[[4]]\n",
      "\n",
      "Encoder-Decoder Attention: \n",
      "Output step 0 attended mainly to Input steps: [0]\n",
      "[0.972, 0.003, 0.003, 0.003, 0.003, 0.003, 0.003, 0.003, 0.003, 0.003, 0.003]\n"
     ]
    },
    {
     "data": {
      "image/png": "[encoded data removed]",
      "text/plain": [
       "<Figure size 640x480 with 2 Axes>"
      ]
     },
     "metadata": {},
     "output_type": "display_data"
    },
    {
     "name": "stdout",
     "output_type": "stream",
     "text": [
      "\n",
      "L2-Norm of Input Positional Encoding:\n",
      "[1.235, 0.535, 0.523, 0.539, 0.526, 0.509, 0.542, 0.543, 0.541, 0.516, 0.546]\n"
     ]
    },
    {
     "data": {
      "image/png": "[encoded data removed]",
      "text/plain": [
       "<Figure size 640x480 with 2 Axes>"
      ]
     },
     "metadata": {},
     "output_type": "display_data"
    }
   ],
   "source": [
    "model = PosEncLayersAttentionModel(pos_enc=True,\n",
    "                       num_enc_layers=1)\n",
    "model.load_state_dict(torch.load(savepath + '/ckpt-with_enc.pt'))\n",
    "\n",
    "print(\"\\nInput: \\n{}\".format(task.prettify(samples)))\n",
    "model.eval()\n",
    "with torch.set_grad_enabled(False):\n",
    "    predictions, attention, input_pos_enc = model(torch.Tensor(samples))\n",
    "predictions = predictions.detach().numpy()\n",
    "predictions = predictions.argmax(axis=2)\n",
    "attention = attention.detach().numpy()\n",
    "\n",
    "print(\"\\nPrediction: \\n{}\".format(predictions))\n",
    "print(\"\\nEncoder-Decoder Attention: \")\n",
    "for i, output_step in enumerate(attention[0]):\n",
    "    print(\"Output step {} attended mainly to Input steps: {}\".format(\n",
    "        i, np.where(output_step >= np.max(output_step))[0]))\n",
    "    print([float(\"{:.3f}\".format(step)) for step in output_step])\n",
    "\n",
    "fig, ax = plt.subplots()\n",
    "seaborn.heatmap(\n",
    "    attention[0],\n",
    "    yticklabels=[\"output_0\"],\n",
    "    xticklabels=task.prettify(samples).reshape(-1),\n",
    "    ax=ax,\n",
    "    cmap='plasma',\n",
    "    cbar=True,\n",
    "    cbar_kws={\"orientation\": \"horizontal\"})\n",
    "ax.set_aspect('equal')\n",
    "ax.set_title(\"Encoder-Decoder Attention\")\n",
    "for tick in ax.get_yticklabels():\n",
    "    tick.set_rotation(0)\n",
    "plt.show()\n",
    "\n",
    "\n",
    "input_pos_enc = input_pos_enc.detach().numpy()\n",
    "print(\"\\nL2-Norm of Input Positional Encoding:\")\n",
    "print([\n",
    "    float(\"{:.3f}\".format(step))\n",
    "    for step in np.linalg.norm(input_pos_enc, ord=2, axis=2)[0]])\n",
    "\n",
    "fig2, ax2 = plt.subplots()\n",
    "seaborn.heatmap(\n",
    "    [np.linalg.norm(input_pos_enc, ord=2, axis=2)[0]],\n",
    "    vmin=0.,\n",
    "    # vmax=.5,\n",
    "    yticklabels=[\"L2-Norm\"],\n",
    "    xticklabels=task.prettify(samples).reshape(-1),\n",
    "    ax=ax2,\n",
    "    cmap='plasma',\n",
    "    cbar=True,\n",
    "    cbar_kws={\"orientation\": \"horizontal\"})\n",
    "ax2.set_aspect('equal')\n",
    "ax2.set_title(\"Positional Encodings L2-Norm\")\n",
    "for tick in ax2.get_yticklabels():\n",
    "    tick.set_rotation(0)\n",
    "plt.show()"
   ]
  },
  {
   "cell_type": "markdown",
   "metadata": {},
   "source": [
    "###  With positional encoding, 6 encoding layers"
   ]
  },
  {
   "cell_type": "code",
   "execution_count": 32,
   "metadata": {},
   "outputs": [
    {
     "name": "stdout",
     "output_type": "stream",
     "text": [
      "\n",
      "Input: \n",
      "[[['A']\n",
      "  ['A']\n",
      "  ['A']\n",
      "  ['C']\n",
      "  ['B']\n",
      "  ['B']\n",
      "  ['C']\n",
      "  ['C']\n",
      "  ['A']\n",
      "  ['B']\n",
      "  ['A']]]\n",
      "\n",
      "Prediction: \n",
      "[[4]]\n",
      "\n",
      "Encoder-Decoder Attention: \n",
      "Output step 0 attended mainly to Input steps: [0]\n",
      "[0.844, 0.014, 0.014, 0.016, 0.018, 0.018, 0.016, 0.016, 0.014, 0.018, 0.014]\n"
     ]
    },
    {
     "data": {
      "image/png": "[encoded data removed]",
      "text/plain": [
       "<Figure size 640x480 with 2 Axes>"
      ]
     },
     "metadata": {},
     "output_type": "display_data"
    },
    {
     "name": "stdout",
     "output_type": "stream",
     "text": [
      "\n",
      "L2-Norm of Input Positional Encoding:\n",
      "[1.401, 0.3, 0.301, 0.317, 0.304, 0.316, 0.308, 0.3, 0.306, 0.291, 0.309]\n"
     ]
    },
    {
     "data": {
      "image/png": "[encoded data removed]",
      "text/plain": [
       "<Figure size 640x480 with 2 Axes>"
      ]
     },
     "metadata": {},
     "output_type": "display_data"
    }
   ],
   "source": [
    "model = PosEncLayersAttentionModel(\n",
    "    pos_enc=True,\n",
    "    num_enc_layers=6\n",
    "    )\n",
    "model.load_state_dict(torch.load(savepath + '/ckpt-6_enc_layers.pt'))\n",
    "\n",
    "print(\"\\nInput: \\n{}\".format(task.prettify(samples)))\n",
    "model.eval()\n",
    "with torch.set_grad_enabled(False):\n",
    "    predictions, attention, input_pos_enc = model(torch.Tensor(samples))\n",
    "predictions = predictions.detach().numpy()\n",
    "predictions = predictions.argmax(axis=2)\n",
    "attention = attention.detach().numpy()\n",
    "\n",
    "print(\"\\nPrediction: \\n{}\".format(predictions))\n",
    "# TODO: Shouldn't we have 6 attention layers?\n",
    "print(\"\\nEncoder-Decoder Attention: \")\n",
    "for i, output_step in enumerate(attention[0]):\n",
    "    print(\"Output step {} attended mainly to Input steps: {}\".format(\n",
    "        i, np.where(output_step >= np.max(output_step))[0]))\n",
    "    print([float(\"{:.3f}\".format(step)) for step in output_step])\n",
    "\n",
    "fig, ax = plt.subplots()\n",
    "seaborn.heatmap(\n",
    "    attention[0],\n",
    "    yticklabels=[\"output_0\"],\n",
    "    xticklabels=task.prettify(samples).reshape(-1),\n",
    "    ax=ax,\n",
    "    cmap='plasma',\n",
    "    cbar=True,\n",
    "    cbar_kws={\"orientation\": \"horizontal\"})\n",
    "ax.set_aspect('equal')\n",
    "ax.set_title(\"Encoder-Decoder Attention\")\n",
    "for tick in ax.get_yticklabels():\n",
    "    tick.set_rotation(0)\n",
    "plt.show()\n",
    "\n",
    "\n",
    "input_pos_enc = input_pos_enc.detach().numpy()\n",
    "print(\"\\nL2-Norm of Input Positional Encoding:\")\n",
    "print([\n",
    "    float(\"{:.3f}\".format(step))\n",
    "    for step in np.linalg.norm(input_pos_enc, ord=2, axis=2)[0]])\n",
    "\n",
    "fig2, ax2 = plt.subplots()\n",
    "seaborn.heatmap(\n",
    "    [np.linalg.norm(input_pos_enc, ord=2, axis=2)[0]],\n",
    "    vmin=0.,\n",
    "    # vmax=.5,\n",
    "    yticklabels=[\"L2-Norm\"],\n",
    "    xticklabels=task.prettify(samples).reshape(-1),\n",
    "    ax=ax2,\n",
    "    cmap='plasma',\n",
    "    cbar=True,\n",
    "    cbar_kws={\"orientation\": \"horizontal\"})\n",
    "ax2.set_aspect('equal')\n",
    "ax2.set_title(\"Positional Encodings L2-Norm\")\n",
    "for tick in ax2.get_yticklabels():\n",
    "    tick.set_rotation(0)\n",
    "plt.show()"
   ]
  },
  {
   "cell_type": "markdown",
   "metadata": {},
   "source": [
    "# 4 - Signal 2 - Multi-Headed Attention"
   ]
  },
  {
   "cell_type": "markdown",
   "metadata": {},
   "source": [
    "## Description"
   ]
  },
  {
   "cell_type": "markdown",
   "metadata": {},
   "source": [
    "### Preface\n",
    "\n",
    "The output of Task 3 consists of sequences of length 1, which is somewhat trivial. Task 4 is an extension to Task 3, where there are three signals instead of one, which leads to an output sequence of length 3, where each step corresponds to one signal.\n",
    "\n",
    "With the increased complexity of this task, we introduce multihead-attention, which will demonstrate a far larger capacity compared to attention with a single head.\n",
    "\n",
    "### Description\n",
    "\n",
    "Consider a sequence, where each element is a randomly selected letter. We call the first three elements the *signals*. \n",
    "\n",
    "For example ('C', 'B', 'B' are the signals here):\n",
    "\n",
    "```\n",
    "Input:\n",
    "['C'], ['B'], ['B'], ['B'], ['A'], ['B'], ['C']\n",
    "Output:\n",
    "[[1], [2], [2]]\n",
    "```\n",
    "\n",
    "The output is a sequence of three steps, corresponding to the count of the letter specified by each signal (first three input steps).\n",
    "\n",
    "In the above case, the first input step is 'C', which means that we have to count the number of 'C's in the following sequence. The output is hence 1, since there is 1 'C' in the sequence (not counting the signal).\n",
    "\n",
    "Likewise, for the second and third signals. Also, note that signals can be repeated, like the repeated 'B' signals in the example above.\n",
    "\n",
    "I implement the entire encoder layer, with multihead-self-attention (see left half of Figure 1 and Section 3.1 in [Vaswani *et al.* (2017)](https://arxiv.org/abs/1706.03762)). For decoding I just implement a single multihead-attention layer. There is no self-attention for the decoding. In all attention layers, the number of heads used is `--heads=4` by default. The `--pos_enc` flag is enabled by default as well.\n",
    "\n",
    "There are two main models that can be trained with the script, with and without `--multihead`. More precisely, since `--multihead=True` by default here, we can pass `--multihead=False` when running the script to disable `--multihead`.\n",
    "\n",
    "More on multihead-attention in the Details section.\n",
    "\n",
    "#### With `--multihead=False`\n",
    "\n",
    "Without multihead-attention, the model here is the same as the model used in Task 3. \n",
    "\n",
    "Sample of losses when training with `--multihead=False`:\n",
    "\n",
    "```\n",
    "Iteration 1000 - Loss 1.430114507675171\n",
    "Iteration 2000 - Loss 1.1829146146774292\n",
    "Iteration 3000 - Loss 1.075669288635254\n",
    "Iteration 4000 - Loss 0.8190537095069885\n",
    "```\n",
    "\n",
    "The model seems to have insufficient capacity to learn well.\n",
    "\n",
    "#### With `--multihead=True`\n",
    "\n",
    "With multihead-attention, despite using the same number of attention layers, the model has a much larger capacity and learns much faster.\n",
    "\n",
    "Sample of losses when training with `--multihead=True`:\n",
    "\n",
    "```\n",
    "Iteration 1000 - Loss 0.6175369024276733\n",
    "Iteration 2000 - Loss 0.04598541930317879\n",
    "Iteration 3000 - Loss 0.026927191764116287\n",
    "Iteration 4000 - Loss 0.0017624727915972471\n",
    "```\n",
    "\n",
    "Sample output from testing the model trained with `--multihead=True`:\n",
    "\n",
    "```python3\n",
    "Input:\n",
    "[[['B']\n",
    "  ['C']\n",
    "  ['C']\n",
    "  ['C']\n",
    "  ['B']\n",
    "  ['A']\n",
    "  ['A']\n",
    "  ['B']\n",
    "  ['A']\n",
    "  ['C']\n",
    "  ['C']\n",
    "  ['C']\n",
    "  ['A']]]\n",
    "\n",
    "Prediction:\n",
    "[[2 4 4]]\n",
    "\n",
    "Encoder-Decoder Attention:\n",
    "Attention of Output step 0 on Input steps\n",
    "    Head #0\n",
    "    [0.09, 0.091, 0.076, 0.065, 0.065, 0.088, 0.089, 0.065, 0.088, 0.065, 0.064, 0.064, 0.088]\n",
    "    Head #1\n",
    "    [0.459, 0.088, 0.095, 0.034, 0.052, 0.032, 0.029, 0.051, 0.03, 0.033, 0.033, 0.034, 0.03]\n",
    "    Head #2\n",
    "    [0.128, 0.003, 0.044, 0.003, 0.244, 0.084, 0.077, 0.239, 0.084, 0.003, 0.003, 0.003, 0.084]\n",
    "    Head #3\n",
    "    [0.023, 0.002, 0.062, 0.064, 0.029, 0.156, 0.149, 0.029, 0.15, 0.062, 0.062, 0.065, 0.149]\n",
    "Attention of Output step 1 on Input steps\n",
    "    Head #0\n",
    "    [0.097, 0.189, 0.018, 0.076, 0.085, 0.057, 0.057, 0.085, 0.057, 0.074, 0.075, 0.074, 0.056]\n",
    "    Head #1\n",
    "    [0.023, 0.757, 0.001, 0.039, 0.016, 0.009, 0.01, 0.016, 0.01, 0.037, 0.038, 0.036, 0.009]\n",
    "    Head #2\n",
    "    [0.107, 0.037, 0.078, 0.035, 0.13, 0.095, 0.093, 0.129, 0.095, 0.035, 0.035, 0.035, 0.095]\n",
    "    Head #3\n",
    "    [0.055, 0.024, 0.076, 0.077, 0.06, 0.106, 0.104, 0.059, 0.105, 0.077, 0.076, 0.078, 0.104]\n",
    "Attention of Output step 2 on Input steps\n",
    "    Head #0\n",
    "    [0.006, 0.001, 0.695, 0.009, 0.004, 0.063, 0.063, 0.004, 0.061, 0.01, 0.009, 0.009, 0.066]\n",
    "    Head #1\n",
    "    [0.023, 0.0, 0.782, 0.006, 0.018, 0.035, 0.031, 0.018, 0.033, 0.007, 0.006, 0.007, 0.034]\n",
    "    Head #2\n",
    "    [0.117, 0.0, 0.023, 0.0, 0.316, 0.061, 0.053, 0.305, 0.061, 0.0, 0.0, 0.0, 0.061]\n",
    "    Head #3\n",
    "    [0.008, 0.0, 0.042, 0.044, 0.012, 0.198, 0.184, 0.011, 0.187, 0.042, 0.042, 0.046, 0.184]\n",
    "\n",
    "L2-Norm of Input Positional Encoding:\n",
    "[1.47, 1.564, 1.911, 0.295, 0.287, 0.292, 0.299, 0.286, 0.291, 0.293, 0.289, 0.291, 0.29]\n",
    "```\n",
    "\n",
    "The output shows three sets of attention, one for each step of the output sequence. For each step, there are also four subsets of attention, each corresponding to a head. Each head shares the same weights, so we can look across the output steps to see what each head tries to focus on.\n",
    "\n",
    "For example, Head #1 seems to be focusing on the relevant input signal for each output step (query), since the Head #1 attention is 45.9% for Output Step 0 on Input Step 0 (Signal 1), 75.7% for Output Step 1 on Input Step 1 (Signal 2) and 78.2% for Output Step 2 on Input Step 2 (Signal 3).\n",
    "\n",
    "Also, Head #3 seems to be primarily fixated on the 'A's in the sequence, irregardless of which output step serves as the query.\n",
    "\n",
    "Of course, these trends will differ from training run to training run and are actually rather inconsistent between training runs.\n",
    "\n",
    "Again, we can check the L2-Norm for each vector in the positional encoding and as per the trend in Task 3, we also see here that the L2-Norms of the positional vectors for the signals are far larger than for the rest of the sequence.\n",
    "\n",
    "#### Input\n",
    "\n",
    "This is similar to the inputs for Task 1, with two exceptions:\n",
    "\n",
    "- Additional first three step that serve as the signals, which makes the second dimension `max_len + 3`\n",
    "- No null character so the last dimension is simply `vocab_size`\n",
    "\n",
    "The input tensor has shape `(batchsize, max_len + 3, vocab_size)`.\n",
    "\n",
    "#### Output\n",
    "\n",
    "The output just consists of sequences of length 3, representing the count of each signal-specified letter, which ranges from 0 to `max_len`.\n",
    "\n",
    "The output tensor is of shape `(batchsize, 3, max_len + 1)`.\n",
    "\n",
    "#### Model\n",
    "\n",
    "**Multihead-Attention**\n",
    "\n",
    "In regular attention, we simply compare alignment of the **Queries** with the **Keys** to get a softmax-ed set of weights, which we use to calculate a weighted sum of the **Values**.\n",
    "\n",
    "\n",
    "In multihead-attention, we first multiply the **Queries**, **Keys** and **Values** by respective weight tensors. Suppose the original tensors are all of shape `batchsize, length, hidden` and all consist of vectors of `hidden=64` dimensions and we want to implement multihead-attention with 4 heads. We then construct `4*3=12` weight tensors ie. 4 each for **Queries**, **Keys** and **Values**. Each weight tensor will be of shape `(hidden, hidden / 4)`, which means the outputs will consist of `64/4=16`-dimensional vectors. \n",
    "\n",
    "_A: If total size of our latent space is 64, then thik of the attention heads as sub-dividing that latent space during training into 4 latent-sub-spaces. It is then likely that they will learn different concepts in those sub-spaces._\n",
    "\n",
    "After multiplying the **Queries**, **Keys** and **Values** by their respective weight tensors (4 each), we will have 4 sets of **Queries**, **Keys** and **Values** tensors. The new tensors each consist of 16-dimensional vectors, as compared to the 64-dimensional vectors in the original tensors. \n",
    "\n",
    "We then proceed to do regular scaled dot-product attention with each of the 4 sets of **Queries**, **Keys** and **Values** tensors. We will then end up with 4 outputs, each of shape `(batchsize, length, 16)`. We concatenate these outputs along the last dimension, which gives us a large tensor of shape `(batchsize, length, 16*4=64)`. Notice that we get back `hidden` as the last dimension ie. the shape is also `(batchsize, length, hidden)`.\n",
    "\n",
    "Finally we construct a output weight tensor of shape `(hidden, hidden)` and multiply the concatenated output with this weight tensor to obtain our final multihead output of shape `(batchsize, length, hidden)`.\n",
    "\n",
    "The primary advantage of using multihead-attention is the additional complexity/capacity due to two main factors.\n",
    "\n",
    "1. The additional linear mappings from multiplying by the learned weight tensors (notice the weight tensors are similar to feedforward networks but without bias and activation)\n",
    "\n",
    "_A: In the current implementation this is not true. We indeed use a linear feedforward layer, because this produced better training results_\n",
    "\n",
    "2. In each multihead-attention layer, instead of just a single attention, we get to perform and aggregate over `h` variations of attention\n",
    "\n",
    "On a last note, while Vaswani et al. (2017) and this script defines `h` as a factor of `hidden`, it is actually possible to use any `h` and each weight tensor can be of shape `(hidden, d)` where `d` can be any size. The only consideration is that the output weight tensor has to be of shape `(h * d, hidden)` so that the final multihead output is still of shape `(batchsize, length, hidden)`."
   ]
  },
  {
   "cell_type": "markdown",
   "metadata": {},
   "source": [
    "<img src=\"4_signal2/4.png\" width=\"400\"/>"
   ]
  },
  {
   "attachments": {
    "image.png": {
     "image/png": "[encoded data removed]"
    }
   },
   "cell_type": "markdown",
   "metadata": {},
   "source": [
    "![image.png](attachment:image.png)"
   ]
  },
  {
   "attachments": {
    "image.png": {
     "image/png": "[encoded data removed]"
    }
   },
   "cell_type": "markdown",
   "metadata": {},
   "source": [
    "![image.png](attachment:image.png)"
   ]
  },
  {
   "cell_type": "markdown",
   "metadata": {},
   "source": [
    "## Implementation"
   ]
  },
  {
   "cell_type": "code",
   "execution_count": 33,
   "metadata": {},
   "outputs": [],
   "source": [
    "task = TaskThreeSignals()\n",
    "samples, labels = task.next_batch()"
   ]
  },
  {
   "cell_type": "code",
   "execution_count": 34,
   "metadata": {},
   "outputs": [
    {
     "data": {
      "text/plain": [
       "(1, 13, 3)"
      ]
     },
     "execution_count": 34,
     "metadata": {},
     "output_type": "execute_result"
    }
   ],
   "source": [
    "# (batchsize, max_len + 3, vocab_size)\n",
    "samples.shape"
   ]
  },
  {
   "cell_type": "code",
   "execution_count": 35,
   "metadata": {},
   "outputs": [
    {
     "data": {
      "text/plain": [
       "array([[0., 0., 1.],\n",
       "       [0., 1., 0.],\n",
       "       [0., 0., 1.],\n",
       "       [1., 0., 0.],\n",
       "       [0., 1., 0.],\n",
       "       [0., 0., 1.],\n",
       "       [0., 1., 0.],\n",
       "       [1., 0., 0.],\n",
       "       [0., 1., 0.],\n",
       "       [0., 0., 1.],\n",
       "       [1., 0., 0.],\n",
       "       [1., 0., 0.],\n",
       "       [1., 0., 0.]])"
      ]
     },
     "execution_count": 35,
     "metadata": {},
     "output_type": "execute_result"
    }
   ],
   "source": [
    "samples[0]"
   ]
  },
  {
   "cell_type": "code",
   "execution_count": 36,
   "metadata": {},
   "outputs": [
    {
     "data": {
      "text/plain": [
       "(1, 3, 11)"
      ]
     },
     "execution_count": 36,
     "metadata": {},
     "output_type": "execute_result"
    }
   ],
   "source": [
    "# (batchsize, 3, max_len + 1)\n",
    "labels.shape"
   ]
  },
  {
   "cell_type": "code",
   "execution_count": 37,
   "metadata": {},
   "outputs": [
    {
     "data": {
      "text/plain": [
       "array([[0., 0., 1., 0., 0., 0., 0., 0., 0., 0., 0.],\n",
       "       [0., 0., 0., 1., 0., 0., 0., 0., 0., 0., 0.],\n",
       "       [0., 0., 1., 0., 0., 0., 0., 0., 0., 0., 0.]])"
      ]
     },
     "execution_count": 37,
     "metadata": {},
     "output_type": "execute_result"
    }
   ],
   "source": [
    "labels[0]"
   ]
  },
  {
   "cell_type": "code",
   "execution_count": 38,
   "metadata": {},
   "outputs": [
    {
     "data": {
      "text/plain": [
       "array([[['C'],\n",
       "        ['B'],\n",
       "        ['C'],\n",
       "        ['A'],\n",
       "        ['B'],\n",
       "        ['C'],\n",
       "        ['B'],\n",
       "        ['A'],\n",
       "        ['B'],\n",
       "        ['C'],\n",
       "        ['A'],\n",
       "        ['A'],\n",
       "        ['A']]], dtype='<U1')"
      ]
     },
     "execution_count": 38,
     "metadata": {},
     "output_type": "execute_result"
    }
   ],
   "source": [
    "task.prettify(samples[0])"
   ]
  },
  {
   "cell_type": "code",
   "execution_count": 39,
   "metadata": {},
   "outputs": [
    {
     "data": {
      "text/plain": [
       "array([2, 3, 2])"
      ]
     },
     "execution_count": 39,
     "metadata": {},
     "output_type": "execute_result"
    }
   ],
   "source": [
    "np.argmax(labels[0], axis=1)"
   ]
  },
  {
   "cell_type": "code",
   "execution_count": 40,
   "metadata": {},
   "outputs": [],
   "source": [
    "# We implement use only multi-headed attention here, without an option to switch\n",
    "# back to regular attention. \n",
    "# The task folder provides an implmentation, where you can switch it\n",
    "# on and off and see the effect on the training. \n",
    "class MultiHeadAttentionModel(PosEncLayersAttentionModel):\n",
    "    def __init__(self, num_heads=4, **kwargs):\n",
    "        super().__init__(**kwargs)\n",
    "        \n",
    "        # Now it's + 3\n",
    "        self.input_pos_enc = nn.Parameter(torch.zeros((1, self.max_len + 3, self.hidden)))\n",
    "\n",
    "        self.heads = num_heads\n",
    "        self.enc_mult_att = nn.ModuleList([\n",
    "            MultiHeadAttention(self.heads, self.hidden)\n",
    "            for i in range(self.num_enc_layers)\n",
    "        ])\n",
    "        # We add individual attention norms for each layer now\n",
    "        self.enc_layer_att_norm = nn.ModuleList([\n",
    "            nn.LayerNorm(self.hidden)\n",
    "            for i in range(self.num_enc_layers)])        \n",
    "\n",
    "        self.output_embedding = None # we will use a parameter instead\n",
    "        self.output_embedding_param = nn.Parameter(torch.zeros((1, 3, self.hidden)))\n",
    "\n",
    "        # We implement only N=1 layers of the decoder\n",
    "        self.enc_dec_mult_att = MultiHeadAttention(self.heads, self.hidden)\n",
    "        self.enc_dec_att_norm = nn.LayerNorm(self.hidden)\n",
    "        self.dec_feed_forward = nn.Sequential(\n",
    "            nn.Linear(self.hidden, self.hidden * 2), # (11, 128)\n",
    "            nn.ReLU(),\n",
    "            nn.Linear(self.hidden * 2, self.hidden) # (11, 64)\n",
    "        )\n",
    "        self.dec_layer_norm = nn.LayerNorm(self.hidden)\n",
    "\n",
    "    def forward(self, x): # (13, 3)\n",
    "        # Left side\n",
    "        input_embedding = self.input_embedding(x) # (13, 64)\n",
    "\n",
    "        if self.pos_enc:\n",
    "            encoding = input_embedding + self.input_pos_enc\n",
    "\n",
    "        for i in range(self.num_enc_layers):\n",
    "            # We now use enc_mult_att instead of scaled_dot_product_attention\n",
    "            multi_headed_attention, _ = self.enc_mult_att[i](\n",
    "                encoding, \n",
    "                encoding, \n",
    "                encoding\n",
    "            )            \n",
    "            add_and_norm = self.enc_layer_att_norm[i](\n",
    "                multi_headed_attention + encoding)\n",
    "\n",
    "            feed_forward = self.enc_feed_forwad[i](add_and_norm)\n",
    "            add_and_norm = self.enc_layer_norm[i](feed_forward + add_and_norm)\n",
    "\n",
    "            encoding = add_and_norm\n",
    "\n",
    "        # Rigth side\n",
    "        output_embedding = self.output_embedding_param.repeat(x.shape[0], 1, 1)\n",
    "        \n",
    "        # We implement only N=1 layers of the decoder\n",
    "        # We now use enc_mult_att instead of scaled_dot_product_attention\n",
    "        multi_headed_attention, attention_weights = self.enc_dec_mult_att(\n",
    "            output_embedding,\n",
    "            encoding,\n",
    "            encoding\n",
    "        ) \n",
    "        add_and_norm = self.enc_dec_att_norm(multi_headed_attention + output_embedding)\n",
    "        \n",
    "        feed_forward = self.dec_feed_forward(add_and_norm)\n",
    "        add_and_norm = self.dec_layer_norm(feed_forward + add_and_norm)\n",
    "        \n",
    "        linear = self.linear(add_and_norm)\n",
    "\n",
    "        return linear, attention_weights, self.input_pos_enc"
   ]
  },
  {
   "cell_type": "code",
   "execution_count": 41,
   "metadata": {},
   "outputs": [],
   "source": [
    "class MultiHeadAttention(nn.Module):\n",
    "    def __init__(self, num_heads=6, hidden=64):\n",
    "        super().__init__()\n",
    "        self.num_heads = num_heads\n",
    "        self.hidden = hidden\n",
    "\n",
    "        # W as in Weight tensor\n",
    "        self.W_q = nn.Linear(hidden, hidden)\n",
    "        self.W_k = nn.Linear(hidden, hidden)\n",
    "        self.W_v = nn.Linear(hidden, hidden)\n",
    "        self.W_output = nn.Linear(hidden, hidden)\n",
    "\n",
    "        self.d_v = int(hidden / num_heads) # == d_q == d_k == 64 / 4 = 16\n",
    "\n",
    "    def forward(self, query, key, value, mask=False): # encoding: (13, 64), decoding: query=(3, 64)           \n",
    "        heads = [None] * self.num_heads # create an empty array of size num_heads\n",
    "        attention_weights = [None] * self.num_heads # for visualization\n",
    "        \n",
    "        W_query_projected = self.W_q(query) # (13, 64)\n",
    "        W_query_split = W_query_projected.split(split_size=self.d_v, dim=-1) # (4, (batch_size, 13, 16))\n",
    "        W_key_projected = self.W_k(key)\n",
    "        W_key_split = W_key_projected.split(split_size=self.d_v, dim=-1)\n",
    "        W_value_projected = self.W_v(value)\n",
    "        W_value_split = W_value_projected.split(split_size=self.d_v, dim=-1)\n",
    "\n",
    "        for i in range(self.num_heads):\n",
    "            weighted_sum, attention_weight  = scaled_dot_product_attention(\n",
    "                W_query_split[i], # (13, 16)\n",
    "                W_key_split[i],\n",
    "                W_value_split[i],\n",
    "                mask=mask\n",
    "            ) # page 5 of Vaswani et al. (2017)\n",
    "\n",
    "            heads[i] = weighted_sum # (13, 16)\n",
    "            attention_weights[i] = attention_weight # for visualization\n",
    "        \n",
    "        concat = torch.cat(heads, dim=-1) # (13, 64)\n",
    "        linear = self.W_output(concat) # (13, 64)\n",
    "\n",
    "        output = linear\n",
    "\n",
    "        return output, attention_weights"
   ]
  },
  {
   "cell_type": "code",
   "execution_count": 42,
   "metadata": {},
   "outputs": [
    {
     "name": "stdout",
     "output_type": "stream",
     "text": [
      "\n",
      "Input: \n",
      "[[['C']\n",
      "  ['B']\n",
      "  ['C']\n",
      "  ['A']\n",
      "  ['B']\n",
      "  ['C']\n",
      "  ['B']\n",
      "  ['A']\n",
      "  ['B']\n",
      "  ['C']\n",
      "  ['A']\n",
      "  ['A']\n",
      "  ['A']]]\n",
      "\n",
      "Prediction: \n",
      "[[2 3 2]]\n",
      "\n",
      "Encoder-Decoder Attention: \n",
      "Head #0\n",
      "\tAttention of Output step 0 to Input steps\n",
      "\t[0.095, 0.088, 0.09, 0.102, 0.04, 0.049, 0.04, 0.102, 0.04, 0.049, 0.102, 0.102, 0.102]\n",
      "\tAttention of Output step 1 to Input steps\n",
      "\t[0.036, 0.066, 0.044, 0.051, 0.149, 0.075, 0.149, 0.051, 0.149, 0.075, 0.052, 0.051, 0.051]\n",
      "\tAttention of Output step 2 to Input steps\n",
      "\t[0.084, 0.065, 0.08, 0.072, 0.076, 0.091, 0.076, 0.072, 0.076, 0.092, 0.072, 0.072, 0.072]\n",
      "Head #1\n",
      "\tAttention of Output step 0 to Input steps\n",
      "\t[0.063, 0.081, 0.061, 0.094, 0.073, 0.055, 0.073, 0.093, 0.073, 0.055, 0.094, 0.093, 0.093]\n",
      "\tAttention of Output step 1 to Input steps\n",
      "\t[0.047, 0.08, 0.051, 0.086, 0.093, 0.057, 0.093, 0.086, 0.093, 0.057, 0.086, 0.086, 0.086]\n",
      "\tAttention of Output step 2 to Input steps\n",
      "\t[0.044, 0.077, 0.042, 0.1, 0.083, 0.044, 0.083, 0.1, 0.083, 0.044, 0.1, 0.1, 0.1]\n",
      "Head #2\n",
      "\tAttention of Output step 0 to Input steps\n",
      "\t[0.932, 0.0, 0.061, 0.001, 0.0, 0.0, 0.0, 0.001, 0.0, 0.0, 0.001, 0.001, 0.001]\n",
      "\tAttention of Output step 1 to Input steps\n",
      "\t[0.0, 0.0, 0.0, 0.0, 0.331, 0.004, 0.33, 0.0, 0.331, 0.004, 0.0, 0.0, 0.0]\n",
      "\tAttention of Output step 2 to Input steps\n",
      "\t[0.041, 0.006, 0.066, 0.001, 0.026, 0.4, 0.025, 0.001, 0.025, 0.406, 0.001, 0.001, 0.001]\n",
      "Head #3\n",
      "\tAttention of Output step 0 to Input steps\n",
      "\t[0.911, 0.001, 0.052, 0.007, 0.0, 0.0, 0.0, 0.007, 0.0, 0.0, 0.007, 0.007, 0.007]\n",
      "\tAttention of Output step 1 to Input steps\n",
      "\t[0.0, 0.0, 0.0, 0.0, 0.331, 0.0, 0.331, 0.0, 0.337, 0.0, 0.0, 0.0, 0.0]\n",
      "\tAttention of Output step 2 to Input steps\n",
      "\t[0.113, 0.022, 0.062, 0.016, 0.085, 0.232, 0.085, 0.016, 0.084, 0.238, 0.016, 0.016, 0.016]\n",
      "\n",
      "L2-Norm of Input Positional Encoding:\n",
      "[1.569, 2.001, 1.561, 0.504, 0.51, 0.505, 0.516, 0.512, 0.507, 0.499, 0.507, 0.51, 0.509]\n"
     ]
    }
   ],
   "source": [
    "savepath = '4_signal2/models/ckpt.pt'\n",
    "\n",
    "print(\"\\nInput: \\n{}\".format(task.prettify(samples)))\n",
    "\n",
    "model = MultiHeadAttentionModel(num_enc_layers=4)\n",
    "model.load_state_dict(torch.load(savepath))\n",
    "\n",
    "model.eval()\n",
    "with torch.set_grad_enabled(False):\n",
    "    predictions, attention, input_pos_enc = model(torch.Tensor(samples))\n",
    "predictions = predictions.detach().numpy()\n",
    "predictions = predictions.argmax(axis=2)\n",
    "\n",
    "print(\"\\nPrediction: \\n{}\".format(predictions))\n",
    "\n",
    "print(\"\\nEncoder-Decoder Attention: \")\n",
    "for h, head in enumerate(attention):\n",
    "    print(\"Head #{}\".format(h))\n",
    "    # TODO: visualize\n",
    "    head = head[0]\n",
    "    for i, output_step in enumerate(head):\n",
    "        print(\"\\tAttention of Output step {} to Input steps\".format(i))\n",
    "        print(\"\\t{}\".format([float(\"{:.3f}\".format(step)) for step in output_step]))\n",
    "\n",
    "input_pos_enc = input_pos_enc.detach().numpy()\n",
    "print(\"\\nL2-Norm of Input Positional Encoding:\")\n",
    "print([float(\"{:.3f}\".format(step)) for step in np.linalg.norm(input_pos_enc, ord=2, axis=2)[0]])"
   ]
  },
  {
   "cell_type": "markdown",
   "metadata": {},
   "source": [
    "# 5 - Translation - Full Transformer"
   ]
  },
  {
   "cell_type": "markdown",
   "metadata": {},
   "source": [
    "## Description"
   ]
  },
  {
   "cell_type": "markdown",
   "metadata": {},
   "source": [
    "### Preface\n",
    "\n",
    "~~*This README is still WIP but the model should work fine.*~~\n",
    "\n",
    "_A: Since the goal was to make the model code as comprehensible as possible, the models ended up having different parameter\n",
    "names as compared to the original tutorial and needed to be retrained. I was unfortunately unable to achieve the same\n",
    "performance as the models in the original repository (their loss is around 1.0 mine is around 2.5). I'm not sure if this is simply due to not training the model long enough, or if there's a mistake in the model. If you find it, please let me know :)_\n",
    "\n",
    "Here we implement the full Transformer model on the IWSLT 2016 de-en dataset, a much smaller dataset than the WMT dataset used by Vawani et al., but sufficient to demonstrate the model's capabilities.\n",
    "\n",
    "Since the IWSLT dataset is much smaller, we can use a smaller set of hyperparameters, as compared to the original Transformer model. Specifically, we use 1 encoder layer instead of 6, hidden dimension size of 64 rather than 512 and only 4 heads rather than 8 for multihead-attention. Finally, I use learned positional encodings for both encoder and decoder, rather than using the sinusoidal functions.\n",
    "\n",
    "### Description\n",
    "\n",
    "Plain old translation task, in this case translating German to English using the training set from IWSLT 2016.\n",
    "\n",
    "For example:\n",
    "\n",
    "```\n",
    "Input:\n",
    "Der Großteil der Erde ist Meerwasser.\n",
    "Output:\n",
    "Most of the planet is ocean water.\n",
    "```\n",
    "\n",
    "I implement the entire Transformer model, with certain changes highlighted in the Preface above.\n",
    "\n",
    "#### Input and Output\n",
    "\n",
    "Typical of translation tasks, we first preprocess the dataset to generate a dictionary mapping each token to an index. Here we use two dictionaries, [one](data/en_dict.json) for English and [one](data/de_dict.json) for German, although some papers do use a single dictionary for both source and target languages. With reference to the `.json` files, the index of each token is simply its position in the list. The dictionaries are generated by running `make_dict.py`.\n",
    "\n",
    "The `Task` class's `next_batch` method will generate three arrays:\n",
    "\n",
    "1. The one-hot encoded German sentences\n",
    "2. The one-hot encoded English sentences with `<S>` added to the beginning ie. shifting the sentences one token to the right; this serves as the decoder input\n",
    "3. The one-hot encoded English sentences; this serves as the labels or the decoder outputs\n",
    "\n",
    "#### Model\n",
    "\n",
    "\n",
    "Some interesting results.\n",
    "\n",
    "**Testing with `--line=4`**\n",
    "\n",
    "```\n",
    "Input :\n",
    "ich denke das problem ist dass wir das meer für zu selbstverständlich halten\n",
    "\n",
    "Truth :\n",
    "and the problem i think is that we take the ocean for <UNK>\n",
    "\n",
    "Output:\n",
    "i think the problem is that we take the ocean for <UNK>\n",
    "```\n",
    "\n",
    "<div>\n",
    "<img src=\"5_translation/images/line_4.png\" alt=\"task_1\" width=\"800px\" height=\"whatever\" style=\"display: block;\">\n",
    "</div>\n",
    "\n",
    "_A: `<UNK>` token - In many natural language processing tasks, a fixed-size vocabulary is used to keep the computational complexity manageable. This vocabulary includes the most frequent words in the training data, but it can't include all possible words due to memory and computational constraints._\n",
    "\n",
    "_When a word that's not in the vocabulary is encountered in the training data, it's replaced with the <UNK> token. This allows the model to learn how to handle unknown words when it encounters them in the test data._\n",
    "\n",
    "Both words in `the ocean` attends to `meer` for all four heads. In addition, `für zu selbstverständlich halten` is a German phrase that means `take for granted` in English and here we see that the tokens `take` and `<UNK>` attends strongly to `selbstverständlich`.\n",
    "\n",
    "**Testing with `--line=10`**\n",
    "\n",
    "```\n",
    "Input :\n",
    "die meisten tiere leben in den ozeanen\n",
    "\n",
    "Truth :\n",
    "most of the animals are in the <UNK>\n",
    "\n",
    "Output:\n",
    "most animals live in the <UNK>\n",
    "```\n",
    "\n",
    "<div>\n",
    "<img src=\"5_translation/images/line_10.png\" alt=\"task_1\" width=\"800px\" height=\"whatever\" style=\"display: block;\">\n",
    "</div>\n",
    "\n",
    "In this case, we see that the token `most` attends to `meisten` and ignores the `die` at the beginning of the input German sentence.\n",
    "\n",
    "**Testing with `--line=153`**\n",
    "\n",
    "```\n",
    "Input :\n",
    "übrigens ist das zeug <UNK>\n",
    "\n",
    "Truth :\n",
    "this stuff is <UNK> as <UNK> by the way\n",
    "\n",
    "Output:\n",
    "by the way that's <UNK> stuff\n",
    "```\n",
    "\n",
    "<div>\n",
    "<img src=\"5_translation/images/line_153.png\" alt=\"task_1\" width=\"800px\" height=\"whatever\" style=\"display: block;\">\n",
    "</div>\n",
    "\n",
    "Here the tokens `by the way` all attend strongly to `übrigens`, which is the German parallel for the English phrase. In addition, we also see that the English translation `<UNK> stuff` correctly flips the order of the German tokens `zeug <UNK>` (where `zeug` means `stuff`).\n",
    "\n",
    "_A: The task is more complex, mostly because of the more complicated TranslationTask \n",
    "class. However, the changes to the previous model are small:1. we now add a decoder attention part 2. add multiple decoder blocks in our FullTransformerModel 3. we add a `mask` to our MultiHeadedAttention._\n",
    "\n",
    "_Masking: Even though the masked future positions don't have meaningful values at the point of masking, they still exist in the Q, K, and V matrices because these matrices are created for the maximum sequence length. Therefore, we need to mask these future positions to prevent the model from attending to them. The mask ensures that the attention mechanism only considers the appropriate positions at each step of the decoding process, maintaining the autoregressive property of the model. This type of masking is often referred to as \"causal masking\" or \"autoregressive masking\", and is a common technique used in transformer models._\n",
    "\n"
   ]
  },
  {
   "cell_type": "markdown",
   "metadata": {},
   "source": [
    "<img src=\"5_translation/5.png\" width=\"400\"/>"
   ]
  },
  {
   "cell_type": "markdown",
   "metadata": {},
   "source": [
    "## Implementation"
   ]
  },
  {
   "cell_type": "code",
   "execution_count": 43,
   "metadata": {},
   "outputs": [],
   "source": [
    "from torch.utils.data import Dataset\n",
    "import regex\n",
    "from matplotlib import gridspec\n",
    "\n",
    "task_dir = '5_translation'"
   ]
  },
  {
   "cell_type": "code",
   "execution_count": 44,
   "metadata": {},
   "outputs": [
    {
     "name": "stdout",
     "output_type": "stream",
     "text": [
      "Input prettified:\n",
      "und wie ich gerade erklärt habe ist das ein problem\n",
      "\n",
      "Target prettified:\n",
      "and as i was just <UNK> food <UNK> is a problem\n",
      "\n",
      "Input embedded:\n",
      "[[0. 0. 0. ... 0. 0. 0.]\n",
      " [0. 0. 0. ... 0. 0. 0.]\n",
      " [0. 0. 0. ... 0. 0. 0.]\n",
      " ...\n",
      " [1. 0. 0. ... 0. 0. 0.]\n",
      " [1. 0. 0. ... 0. 0. 0.]\n",
      " [1. 0. 0. ... 0. 0. 0.]]\n",
      "(20, 14966)\n",
      "\n",
      "Target embedded:\n",
      "[[0. 0. 0. ... 0. 0. 0.]\n",
      " [0. 0. 0. ... 0. 0. 0.]\n",
      " [0. 0. 0. ... 0. 0. 0.]\n",
      " ...\n",
      " [1. 0. 0. ... 0. 0. 0.]\n",
      " [1. 0. 0. ... 0. 0. 0.]\n",
      " [1. 0. 0. ... 0. 0. 0.]]\n",
      "(21, 1004)\n"
     ]
    }
   ],
   "source": [
    "line=198405\n",
    "\n",
    "task = TranslationTask()\n",
    "samples, _, truth = task.next_batch(batchsize=1, idx=line)\n",
    "\n",
    "print(\"Input prettified:\")\n",
    "print(regex.sub(\"\\s<PAD>\", \"\", task.prettify(samples[0], task.de_dict)))\n",
    "print()\n",
    "print(\"Target prettified:\")\n",
    "print(regex.sub(\"\\s<PAD>\", \"\", task.prettify(truth[0], task.en_dict)))\n",
    "print()\n",
    "print(\"Input embedded:\")\n",
    "print(samples[0])\n",
    "print(samples[0].shape)\n",
    "print()\n",
    "print(\"Target embedded:\")\n",
    "print(truth[0])\n",
    "print(truth[0].shape)"
   ]
  },
  {
   "cell_type": "code",
   "execution_count": 45,
   "metadata": {},
   "outputs": [],
   "source": [
    "class FullTransformerModel(MultiHeadAttentionModel):\n",
    "    def __init__(self, en_vocab_size, de_vocab_size, \n",
    "                 num_dec_layers=6, max_len=20, **kwargs):\n",
    "        super().__init__(**kwargs)\n",
    "\n",
    "        self.max_len = max_len\n",
    "\n",
    "        # Encoder params\n",
    "        self.de_vocab_size = de_vocab_size  \n",
    "\n",
    "        self.input_embedding = nn.Linear(self.de_vocab_size, self.hidden)\n",
    "        self.input_pos_enc = nn.Parameter(torch.zeros((1, self.max_len, self.hidden)))                \n",
    "\n",
    "        # Decoder params\n",
    "        self.en_vocab_size = en_vocab_size\n",
    "        # Now it's a linear layer\n",
    "        self.output_embedding = nn.Linear(self.en_vocab_size, self.hidden)        \n",
    "        self.output_embedding_param = None\n",
    "        self.output_pos_enc = nn.Parameter(torch.zeros((1, self.max_len + 1, self.hidden)))\n",
    "\n",
    "        # Implement a full, multi-layered decoder block\n",
    "        self.num_dec_layers = num_dec_layers\n",
    "\n",
    "        # Introduce the first part of the decoder block\n",
    "        self.dec_mult_att = nn.ModuleList([\n",
    "            MultiHeadAttention(self.heads, self.hidden)\n",
    "            for i in range(self.num_dec_layers)])\n",
    "        self.dec_layer_att_norm = nn.ModuleList([\n",
    "            nn.LayerNorm(self.hidden)\n",
    "            for i in range(self.num_dec_layers)])         \n",
    "\n",
    "        # Change to introduce multiple layers \n",
    "        self.enc_dec_mult_att = nn.ModuleList([\n",
    "            MultiHeadAttention(self.heads, self.hidden)\n",
    "            for i in range(self.num_dec_layers)])\n",
    "        self.enc_dec_att_norm = nn.ModuleList([\n",
    "            nn.LayerNorm(self.hidden)\n",
    "            for i in range(self.num_dec_layers)])        \n",
    "        self.dec_feed_forwad = nn.ModuleList([\n",
    "            nn.Sequential(\n",
    "                nn.Linear(self.hidden, self.hidden * 2), # (11, 128)\n",
    "                nn.ReLU(),\n",
    "                nn.Linear(self.hidden * 2, self.hidden) # (11, 64)\n",
    "            )\n",
    "            for i in range(self.num_dec_layers)\n",
    "        ])  \n",
    "        self.dec_layer_norm = nn.ModuleList([\n",
    "            nn.LayerNorm(self.hidden)\n",
    "            for i in range(self.num_dec_layers)])      \n",
    "        \n",
    "        # We now need to specify that we want en_vocab_size\n",
    "        self.linear = nn.Linear(self.hidden, self.en_vocab_size)\n",
    "\n",
    "    # Predict the next token, given the source sentence `de` and what we have\n",
    "    # predicted so far `en`.\n",
    "    def forward(self, de, en):\n",
    "        # Encoder - Left side\n",
    "        input_embedding = self.input_embedding(de)  \n",
    "        encoding = input_embedding + self.input_pos_enc\n",
    "\n",
    "        for i in range(self.num_enc_layers):\n",
    "            multi_headed_attention, _ = self.enc_mult_att[i](\n",
    "                encoding, \n",
    "                encoding, \n",
    "                encoding\n",
    "            )            \n",
    "            add_and_norm = self.enc_layer_att_norm[i](\n",
    "                multi_headed_attention + encoding)\n",
    "\n",
    "            feed_forward = self.enc_feed_forwad[i](add_and_norm)\n",
    "            add_and_norm = self.enc_layer_norm[i](feed_forward + add_and_norm)\n",
    "\n",
    "            encoding = add_and_norm\n",
    "        \n",
    "        # Decoder - Right side\n",
    "        dec_input_emb = self.output_embedding(en)\n",
    "        decoding = dec_input_emb + self.output_pos_enc\n",
    "\n",
    "        # New compared to to the previous task\n",
    "        for i in range(self.num_dec_layers):\n",
    "            # Decoder Self-Attention\n",
    "            multi_headed_attention, _ = self.dec_mult_att[i](\n",
    "                decoding, \n",
    "                decoding, \n",
    "                decoding, \n",
    "                mask=True\n",
    "            )\n",
    "            add_and_norm = self.dec_layer_att_norm[i](\n",
    "                multi_headed_attention + decoding)\n",
    "            \n",
    "            \n",
    "            multi_headed_attention, attention_weights = self.enc_dec_mult_att[i](\n",
    "                add_and_norm,\n",
    "                encoding,\n",
    "                encoding\n",
    "            ) \n",
    "            add_and_norm = self.enc_dec_att_norm[i](multi_headed_attention + add_and_norm)            \n",
    "            \n",
    "            feed_forward = self.dec_feed_forwad[i](add_and_norm)\n",
    "            add_and_norm = self.dec_layer_norm[i](feed_forward + add_and_norm)\n",
    "\n",
    "        linear = self.linear(add_and_norm)\n",
    "\n",
    "        return linear, attention_weights     "
   ]
  },
  {
   "cell_type": "code",
   "execution_count": 46,
   "metadata": {},
   "outputs": [
    {
     "name": "stdout",
     "output_type": "stream",
     "text": [
      "Device:  cpu\n"
     ]
    }
   ],
   "source": [
    "device = torch.device('cuda:0' if torch.cuda.is_available() else 'cpu')\n",
    "print('Device: ', device)"
   ]
  },
  {
   "cell_type": "code",
   "execution_count": 47,
   "metadata": {},
   "outputs": [
    {
     "name": "stdout",
     "output_type": "stream",
     "text": [
      "Input:\n",
      "und wie ich gerade erklärt habe ist das ein problem\n",
      "\n",
      "Truth:\n",
      "and as i was just <UNK> food <UNK> is a problem\n",
      "\n",
      "Output:\n",
      "and i <UNK> i <UNK> is a <UNK>\n"
     ]
    },
    {
     "data": {
      "image/png": "[encoded data removed]",
      "text/plain": [
       "<Figure size 1000x1000 with 4 Axes>"
      ]
     },
     "metadata": {},
     "output_type": "display_data"
    }
   ],
   "source": [
    "savepath=f'{task_dir}/models/'\n",
    "\n",
    "model = FullTransformerModel(task.en_vocab_size,\n",
    "                        task.de_vocab_size).to(device)\n",
    "model.load_state_dict(torch.load(savepath + '/ckpt.pt', \n",
    "                                    map_location=torch.device(device)))\n",
    "\n",
    "\n",
    "max_len = 20\n",
    "output = \"\"\n",
    "for i in range(max_len):\n",
    "    # We use  \"autoregressive decoding\" - At each step, we take the output of \n",
    "    # the decoder from the previous step and use it as the input for the decoder \n",
    "    # in the next step, i.e. we keep repetatively feeding `output` back. \n",
    "    predictions, attention = model(\n",
    "        torch.Tensor(samples).to(device),\n",
    "        torch.Tensor(task.embed(output, task.en_dict, sos=True)).to(device))\n",
    "    \n",
    "    predictions = predictions.detach().cpu().numpy()\n",
    "    \n",
    "    output += \" \" + task.prettify(predictions[0], task.en_dict).split()[i]\n",
    "    \n",
    "\n",
    "print(\"Input:\")\n",
    "print(regex.sub(\"\\s<PAD>\", \"\", task.prettify(samples[0], task.de_dict)))\n",
    "print()\n",
    "print(\"Truth:\")\n",
    "print(regex.sub(\"\\s<PAD>\", \"\", task.prettify(truth[0], task.en_dict)))\n",
    "print()\n",
    "print(\"Output:\")\n",
    "print(regex.sub(\"\\s<PAD>\", \"\", task.prettify(predictions[0], task.en_dict)))\n",
    "\n",
    "fig = plt.figure(figsize=(10, 10))\n",
    "gs = gridspec.GridSpec(2, 2, hspace=0.5, wspace=0.5)\n",
    "x_labels = regex.sub(\"\\s<PAD>\", \"\", task.prettify(samples[0], task.de_dict)).split()\n",
    "y_labels = regex.sub(\"\\s<PAD>\", \"\", task.prettify(predictions[0], task.en_dict)).split()\n",
    "for i in range(4):\n",
    "    ax = plt.Subplot(fig, gs[i])\n",
    "    head_attention = attention[i].squeeze(0).detach().numpy()\n",
    "    seaborn.heatmap(\n",
    "        data=head_attention[ :len(y_labels), :len(x_labels)],\n",
    "        xticklabels=x_labels,\n",
    "        yticklabels=y_labels,\n",
    "        ax=ax,\n",
    "        cmap='plasma',\n",
    "        vmin=np.min(head_attention),\n",
    "        vmax=np.max(head_attention),\n",
    "        cbar=False)\n",
    "    ax.set_title(\"Head {}\".format(i))\n",
    "    ax.set_aspect('equal')\n",
    "    for tick in ax.get_xticklabels():\n",
    "        tick.set_rotation(90)\n",
    "    for tick in ax.get_yticklabels():\n",
    "        tick.set_rotation(0)\n",
    "    fig.add_subplot(ax)\n",
    "plt.show()"
   ]
  }
 ],
 "metadata": {
  "kernelspec": {
   "display_name": "base",
   "language": "python",
   "name": "python3"
  },
  "language_info": {
   "codemirror_mode": {
    "name": "ipython",
    "version": 3
   },
   "file_extension": ".py",
   "mimetype": "text/x-python",
   "name": "python",
   "nbconvert_exporter": "python",
   "pygments_lexer": "ipython3",
   "version": "3.11.7"
  }
 },
 "nbformat": 4,
 "nbformat_minor": 2
}
