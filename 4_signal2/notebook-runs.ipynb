{
 "cells": [
  {
   "cell_type": "code",
   "execution_count": 1,
   "metadata": {},
   "outputs": [],
   "source": [
    "from main import Task, train, test"
   ]
  },
  {
   "cell_type": "code",
   "execution_count": 2,
   "metadata": {},
   "outputs": [],
   "source": [
    "task = Task()\n",
    "samples, labels = task.next_batch()"
   ]
  },
  {
   "cell_type": "code",
   "execution_count": 3,
   "metadata": {},
   "outputs": [
    {
     "data": {
      "text/plain": [
       "(100, 13, 3)"
      ]
     },
     "execution_count": 3,
     "metadata": {},
     "output_type": "execute_result"
    }
   ],
   "source": [
    "# (batchsize, max_len + 3, vocab_size)\n",
    "samples.shape"
   ]
  },
  {
   "cell_type": "code",
   "execution_count": 4,
   "metadata": {},
   "outputs": [
    {
     "data": {
      "text/plain": [
       "array([[0., 0., 1.],\n",
       "       [0., 0., 1.],\n",
       "       [0., 0., 1.],\n",
       "       [0., 0., 1.],\n",
       "       [0., 1., 0.],\n",
       "       [0., 1., 0.],\n",
       "       [0., 0., 1.],\n",
       "       [0., 0., 1.],\n",
       "       [0., 1., 0.],\n",
       "       [0., 0., 1.],\n",
       "       [0., 0., 1.],\n",
       "       [0., 1., 0.],\n",
       "       [1., 0., 0.]])"
      ]
     },
     "execution_count": 4,
     "metadata": {},
     "output_type": "execute_result"
    }
   ],
   "source": [
    "samples[0]"
   ]
  },
  {
   "cell_type": "code",
   "execution_count": 5,
   "metadata": {},
   "outputs": [
    {
     "data": {
      "text/plain": [
       "(100, 3, 11)"
      ]
     },
     "execution_count": 5,
     "metadata": {},
     "output_type": "execute_result"
    }
   ],
   "source": [
    "# (batchsize, 3, max_len + 1)\n",
    "labels.shape"
   ]
  },
  {
   "cell_type": "code",
   "execution_count": 6,
   "metadata": {},
   "outputs": [
    {
     "data": {
      "text/plain": [
       "array([[0., 0., 0., 0., 0., 1., 0., 0., 0., 0., 0.],\n",
       "       [0., 0., 0., 0., 0., 1., 0., 0., 0., 0., 0.],\n",
       "       [0., 0., 0., 0., 0., 1., 0., 0., 0., 0., 0.]])"
      ]
     },
     "execution_count": 6,
     "metadata": {},
     "output_type": "execute_result"
    }
   ],
   "source": [
    "labels[0]"
   ]
  },
  {
   "cell_type": "markdown",
   "metadata": {},
   "source": [
    "# Without Multi-head Attention"
   ]
  },
  {
   "cell_type": "code",
   "execution_count": 7,
   "metadata": {
    "scrolled": false
   },
   "outputs": [
    {
     "name": "stdout",
     "output_type": "stream",
     "text": [
      "Iteration 50 - Loss 1.7742478847503662\n",
      "Iteration 100 - Loss 1.9218225479125977\n",
      "Iteration 150 - Loss 1.8168392181396484\n",
      "Iteration 200 - Loss 1.8065836429595947\n",
      "Iteration 250 - Loss 1.8386296033859253\n",
      "Iteration 300 - Loss 1.9406145811080933\n",
      "Iteration 350 - Loss 1.6396915912628174\n",
      "Iteration 400 - Loss 1.66965913772583\n",
      "Iteration 450 - Loss 1.648859977722168\n",
      "Iteration 500 - Loss 1.646443486213684\n",
      "Iteration 550 - Loss 1.6730221509933472\n",
      "Iteration 600 - Loss 1.6108635663986206\n",
      "Iteration 650 - Loss 1.6127495765686035\n",
      "Iteration 700 - Loss 1.5370638370513916\n",
      "Iteration 750 - Loss 1.5111212730407715\n",
      "Iteration 800 - Loss 1.6347017288208008\n",
      "Iteration 850 - Loss 1.5602816343307495\n",
      "Iteration 900 - Loss 1.4631229639053345\n",
      "Iteration 950 - Loss 1.5378084182739258\n",
      "Iteration 1000 - Loss 1.5492455959320068\n",
      "Iteration 1050 - Loss 1.4734946489334106\n",
      "Iteration 1100 - Loss 1.4731178283691406\n",
      "Iteration 1150 - Loss 1.513757586479187\n",
      "Iteration 1200 - Loss 1.3592826128005981\n",
      "Iteration 1250 - Loss 1.3045814037322998\n",
      "Iteration 1300 - Loss 1.3900073766708374\n",
      "Iteration 1350 - Loss 1.2814393043518066\n",
      "Iteration 1400 - Loss 1.3048760890960693\n",
      "Iteration 1450 - Loss 1.3667504787445068\n",
      "Iteration 1500 - Loss 1.1766741275787354\n",
      "Iteration 1550 - Loss 1.185090184211731\n",
      "Iteration 1600 - Loss 1.1622551679611206\n",
      "Iteration 1650 - Loss 1.2372549772262573\n",
      "Iteration 1700 - Loss 1.0697426795959473\n",
      "Iteration 1750 - Loss 1.0676167011260986\n",
      "Iteration 1800 - Loss 1.2221115827560425\n",
      "Iteration 1850 - Loss 1.1756564378738403\n",
      "Iteration 1900 - Loss 1.0264900922775269\n",
      "Iteration 1950 - Loss 1.0837701559066772\n",
      "Iteration 2000 - Loss 1.1351661682128906\n",
      "Iteration 2050 - Loss 1.0638868808746338\n",
      "Iteration 2100 - Loss 0.9749574065208435\n",
      "Iteration 2150 - Loss 1.0415222644805908\n",
      "Iteration 2200 - Loss 1.060370922088623\n",
      "Iteration 2250 - Loss 1.1718047857284546\n",
      "Iteration 2300 - Loss 1.0161737203598022\n",
      "Iteration 2350 - Loss 0.9458013772964478\n",
      "Iteration 2400 - Loss 0.9482220411300659\n",
      "Iteration 2450 - Loss 0.9864485859870911\n",
      "Iteration 2500 - Loss 1.0415970087051392\n",
      "Iteration 2550 - Loss 0.9808518290519714\n",
      "Iteration 2600 - Loss 0.9690030813217163\n",
      "Iteration 2650 - Loss 1.0029575824737549\n",
      "Iteration 2700 - Loss 0.960066020488739\n",
      "Iteration 2750 - Loss 1.0383840799331665\n",
      "Iteration 2800 - Loss 1.1079421043395996\n",
      "Iteration 2850 - Loss 0.9322362542152405\n",
      "Iteration 2900 - Loss 1.0151910781860352\n",
      "Iteration 2950 - Loss 0.989107072353363\n",
      "Iteration 3000 - Loss 0.9460906982421875\n",
      "Iteration 3050 - Loss 0.9341400265693665\n",
      "Iteration 3100 - Loss 0.912504255771637\n",
      "Iteration 3150 - Loss 0.963602602481842\n",
      "Iteration 3200 - Loss 0.9187493920326233\n",
      "Iteration 3250 - Loss 1.0738251209259033\n",
      "Iteration 3300 - Loss 0.8805904388427734\n",
      "Iteration 3350 - Loss 0.907696008682251\n",
      "Iteration 3400 - Loss 0.924138605594635\n",
      "Iteration 3450 - Loss 0.8789383769035339\n",
      "Iteration 3500 - Loss 0.9126611351966858\n",
      "Iteration 3550 - Loss 0.8510785698890686\n",
      "Iteration 3600 - Loss 0.817757785320282\n",
      "Iteration 3650 - Loss 0.8802655935287476\n",
      "Iteration 3700 - Loss 0.7597770690917969\n",
      "Iteration 3750 - Loss 0.6776602864265442\n",
      "Iteration 3800 - Loss 0.8320831656455994\n",
      "Iteration 3850 - Loss 0.6781558990478516\n",
      "Iteration 3900 - Loss 0.633070707321167\n",
      "Iteration 3950 - Loss 0.5292297601699829\n",
      "Iteration 4000 - Loss 0.4675457179546356\n",
      "Iteration 4000 - Loss 0.4675457179546356\n",
      "Training complete!\n"
     ]
    }
   ],
   "source": [
    "_ = train(print_every=50, use_multihead=False)"
   ]
  },
  {
   "cell_type": "markdown",
   "metadata": {},
   "source": [
    "# With Multi-head Attention"
   ]
  },
  {
   "cell_type": "code",
   "execution_count": 8,
   "metadata": {},
   "outputs": [
    {
     "name": "stdout",
     "output_type": "stream",
     "text": [
      "Iteration 50 - Loss 1.8273223638534546\n",
      "Iteration 100 - Loss 1.80400550365448\n",
      "Iteration 150 - Loss 1.9339847564697266\n",
      "Iteration 200 - Loss 1.7985773086547852\n",
      "Iteration 250 - Loss 1.7917026281356812\n",
      "Iteration 300 - Loss 1.6650390625\n",
      "Iteration 350 - Loss 1.6352565288543701\n",
      "Iteration 400 - Loss 1.5665122270584106\n",
      "Iteration 450 - Loss 1.4764336347579956\n",
      "Iteration 500 - Loss 1.205452799797058\n",
      "Iteration 550 - Loss 1.150126338005066\n",
      "Iteration 600 - Loss 1.1340404748916626\n",
      "Iteration 650 - Loss 0.8911145925521851\n",
      "Iteration 700 - Loss 0.9673014283180237\n",
      "Iteration 750 - Loss 0.9701954126358032\n",
      "Iteration 800 - Loss 0.8092911839485168\n",
      "Iteration 850 - Loss 0.8166228532791138\n",
      "Iteration 900 - Loss 0.696936845779419\n",
      "Iteration 950 - Loss 0.7561978101730347\n",
      "Iteration 1000 - Loss 0.8078252673149109\n",
      "Iteration 1050 - Loss 0.6967476606369019\n",
      "Iteration 1100 - Loss 0.767571210861206\n",
      "Iteration 1150 - Loss 0.6168290972709656\n",
      "Iteration 1200 - Loss 0.6715459823608398\n",
      "Iteration 1250 - Loss 0.643469512462616\n",
      "Iteration 1300 - Loss 0.6135547161102295\n",
      "Iteration 1350 - Loss 0.5703209042549133\n",
      "Iteration 1400 - Loss 0.6571122407913208\n",
      "Iteration 1450 - Loss 0.7006002068519592\n",
      "Iteration 1500 - Loss 0.6247886419296265\n",
      "Iteration 1550 - Loss 0.6798529624938965\n",
      "Iteration 1600 - Loss 0.6192305088043213\n",
      "Iteration 1650 - Loss 0.6404399871826172\n",
      "Iteration 1700 - Loss 0.6491003632545471\n",
      "Iteration 1750 - Loss 0.6880884170532227\n",
      "Iteration 1800 - Loss 0.6051716804504395\n",
      "Iteration 1850 - Loss 0.6518203616142273\n",
      "Iteration 1900 - Loss 0.7120964527130127\n",
      "Iteration 1950 - Loss 0.5777937173843384\n",
      "Iteration 2000 - Loss 0.5881758332252502\n",
      "Iteration 2050 - Loss 0.6211552619934082\n",
      "Iteration 2100 - Loss 0.41355976462364197\n",
      "Iteration 2150 - Loss 0.1218167245388031\n",
      "Iteration 2200 - Loss 0.04707086831331253\n",
      "Iteration 2250 - Loss 0.023577917367219925\n",
      "Iteration 2300 - Loss 0.020037628710269928\n",
      "Iteration 2350 - Loss 0.028791408985853195\n",
      "Iteration 2400 - Loss 0.01793467253446579\n",
      "Iteration 2450 - Loss 0.015043798834085464\n",
      "Iteration 2500 - Loss 0.008417297154664993\n",
      "Iteration 2550 - Loss 0.05787185579538345\n",
      "Iteration 2600 - Loss 0.005893418099731207\n",
      "Iteration 2650 - Loss 0.010238057933747768\n",
      "Iteration 2700 - Loss 0.006654253229498863\n",
      "Iteration 2750 - Loss 0.004035511054098606\n",
      "Iteration 2800 - Loss 0.007056890986859798\n",
      "Iteration 2850 - Loss 0.003915143199265003\n",
      "Iteration 2900 - Loss 0.0068323081359267235\n",
      "Iteration 2950 - Loss 0.004023806191980839\n",
      "Iteration 3000 - Loss 0.003333665430545807\n",
      "Iteration 3050 - Loss 0.002722840989008546\n",
      "Iteration 3100 - Loss 0.005439231637865305\n",
      "Iteration 3150 - Loss 0.002640554215759039\n",
      "Iteration 3200 - Loss 0.0021947999484837055\n",
      "Iteration 3250 - Loss 0.007151327095925808\n",
      "Iteration 3300 - Loss 0.007570796180516481\n",
      "Iteration 3350 - Loss 0.29534968733787537\n",
      "Iteration 3400 - Loss 0.012387723661959171\n",
      "Iteration 3450 - Loss 0.005329526960849762\n",
      "Iteration 3500 - Loss 0.00709334434941411\n",
      "Iteration 3550 - Loss 0.0023627611808478832\n",
      "Iteration 3600 - Loss 0.0022490285336971283\n",
      "Iteration 3650 - Loss 0.004541497211903334\n",
      "Iteration 3700 - Loss 0.0021854438818991184\n",
      "Epoch  3715: reducing learning rate of group 0 to 1.0000e-04.\n",
      "Iteration 3750 - Loss 0.0014860903611406684\n",
      "Iteration 3800 - Loss 0.002821547444909811\n",
      "Iteration 3850 - Loss 0.002200112910941243\n",
      "Iteration 3900 - Loss 0.0015762372640892863\n",
      "Iteration 3950 - Loss 0.0013111745938658714\n",
      "Iteration 4000 - Loss 0.0022310782223939896\n",
      "Iteration 4000 - Loss 0.0022310782223939896\n",
      "Training complete!\n"
     ]
    }
   ],
   "source": [
    "_ = train(print_every=50, use_multihead=True)"
   ]
  },
  {
   "cell_type": "code",
   "execution_count": 9,
   "metadata": {},
   "outputs": [
    {
     "name": "stdout",
     "output_type": "stream",
     "text": [
      "\n",
      "Input: \n",
      "[[['A']\n",
      "  ['B']\n",
      "  ['C']\n",
      "  ['A']\n",
      "  ['B']\n",
      "  ['A']\n",
      "  ['B']\n",
      "  ['C']\n",
      "  ['A']\n",
      "  ['A']\n",
      "  ['A']\n",
      "  ['A']\n",
      "  ['C']]]\n",
      "\n",
      "Prediction: \n",
      "[[6 2 2]]\n",
      "\n",
      "Encoder-Decoder Attention: \n",
      "Head #0\n",
      "\tAttention of Output step 0 to Input steps\n",
      "\t[0.12, 0.0, 0.0, 0.14, 0.007, 0.142, 0.007, 0.01, 0.138, 0.141, 0.14, 0.142, 0.011]\n",
      "\tAttention of Output step 1 to Input steps\n",
      "\t[0.116, 0.0, 0.0, 0.142, 0.006, 0.144, 0.006, 0.009, 0.139, 0.142, 0.141, 0.144, 0.01]\n",
      "\tAttention of Output step 2 to Input steps\n",
      "\t[0.042, 0.0, 0.0, 0.159, 0.0, 0.165, 0.0, 0.0, 0.153, 0.158, 0.157, 0.164, 0.0]\n",
      "\n",
      "L2-Norm of Input Positional Encoding:\n",
      "[1.686, 1.613, 1.617, 0.512, 0.497, 0.512, 0.508, 0.512, 0.509, 0.506, 0.52, 0.515, 0.534]\n"
     ]
    }
   ],
   "source": [
    "test()"
   ]
  },
  {
   "cell_type": "code",
   "execution_count": null,
   "metadata": {},
   "outputs": [],
   "source": []
  }
 ],
 "metadata": {
  "kernelspec": {
   "display_name": "Python 3",
   "language": "python",
   "name": "python3"
  },
  "language_info": {
   "codemirror_mode": {
    "name": "ipython",
    "version": 3
   },
   "file_extension": ".py",
   "mimetype": "text/x-python",
   "name": "python",
   "nbconvert_exporter": "python",
   "pygments_lexer": "ipython3",
   "version": "3.6.8"
  },
  "toc": {
   "base_numbering": 1,
   "nav_menu": {},
   "number_sections": true,
   "sideBar": true,
   "skip_h1_title": false,
   "title_cell": "Table of Contents",
   "title_sidebar": "Contents",
   "toc_cell": false,
   "toc_position": {},
   "toc_section_display": true,
   "toc_window_display": true
  }
 },
 "nbformat": 4,
 "nbformat_minor": 2
}
