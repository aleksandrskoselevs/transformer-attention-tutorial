{
 "cells": [
  {
   "cell_type": "code",
   "execution_count": 1,
   "metadata": {},
   "outputs": [],
   "source": [
    "from main import Task, train, test"
   ]
  },
  {
   "cell_type": "code",
   "execution_count": 2,
   "metadata": {},
   "outputs": [],
   "source": [
    "task = Task()\n",
    "samples, labels = task.next_batch()"
   ]
  },
  {
   "cell_type": "code",
   "execution_count": 3,
   "metadata": {},
   "outputs": [
    {
     "data": {
      "text/plain": [
       "(100, 13, 3)"
      ]
     },
     "execution_count": 3,
     "metadata": {},
     "output_type": "execute_result"
    }
   ],
   "source": [
    "# (batchsize, max_len + 3, vocab_size)\n",
    "samples.shape"
   ]
  },
  {
   "cell_type": "code",
   "execution_count": 4,
   "metadata": {},
   "outputs": [
    {
     "data": {
      "text/plain": [
       "array([[0., 1., 0.],\n",
       "       [1., 0., 0.],\n",
       "       [1., 0., 0.],\n",
       "       [0., 1., 0.],\n",
       "       [0., 1., 0.],\n",
       "       [0., 1., 0.],\n",
       "       [0., 0., 1.],\n",
       "       [0., 0., 1.],\n",
       "       [0., 1., 0.],\n",
       "       [0., 1., 0.],\n",
       "       [0., 0., 1.],\n",
       "       [1., 0., 0.],\n",
       "       [0., 1., 0.]])"
      ]
     },
     "execution_count": 4,
     "metadata": {},
     "output_type": "execute_result"
    }
   ],
   "source": [
    "samples[0]"
   ]
  },
  {
   "cell_type": "code",
   "execution_count": 5,
   "metadata": {},
   "outputs": [
    {
     "data": {
      "text/plain": [
       "(100, 3, 11)"
      ]
     },
     "execution_count": 5,
     "metadata": {},
     "output_type": "execute_result"
    }
   ],
   "source": [
    "# (batchsize, 3, max_len + 1)\n",
    "labels.shape"
   ]
  },
  {
   "cell_type": "code",
   "execution_count": 6,
   "metadata": {},
   "outputs": [
    {
     "data": {
      "text/plain": [
       "array([[0., 0., 0., 0., 0., 0., 1., 0., 0., 0., 0.],\n",
       "       [0., 1., 0., 0., 0., 0., 0., 0., 0., 0., 0.],\n",
       "       [0., 1., 0., 0., 0., 0., 0., 0., 0., 0., 0.]])"
      ]
     },
     "execution_count": 6,
     "metadata": {},
     "output_type": "execute_result"
    }
   ],
   "source": [
    "labels[0]"
   ]
  },
  {
   "cell_type": "markdown",
   "metadata": {},
   "source": [
    "# Without Multi-head Attention"
   ]
  },
  {
   "cell_type": "code",
   "execution_count": 7,
   "metadata": {
    "scrolled": false
   },
   "outputs": [
    {
     "name": "stdout",
     "output_type": "stream",
     "text": [
      "Iteration 50 - Loss 1.8622273206710815\n",
      "Iteration 100 - Loss 1.8322181701660156\n",
      "Iteration 150 - Loss 1.8174924850463867\n",
      "Iteration 200 - Loss 1.8192743062973022\n",
      "Iteration 250 - Loss 1.74647057056427\n",
      "Iteration 300 - Loss 1.7193609476089478\n",
      "Iteration 350 - Loss 1.6702238321304321\n",
      "Iteration 400 - Loss 1.6256766319274902\n",
      "Iteration 450 - Loss 1.6380209922790527\n",
      "Iteration 500 - Loss 1.5555511713027954\n",
      "Iteration 550 - Loss 1.5122393369674683\n",
      "Iteration 600 - Loss 1.4563356637954712\n",
      "Iteration 650 - Loss 1.5420267581939697\n",
      "Iteration 700 - Loss 1.4054031372070312\n",
      "Iteration 750 - Loss 1.5382691621780396\n",
      "Iteration 800 - Loss 1.5570237636566162\n",
      "Iteration 850 - Loss 1.368138313293457\n",
      "Iteration 900 - Loss 1.3676316738128662\n",
      "Iteration 950 - Loss 1.1885355710983276\n",
      "Iteration 1000 - Loss 1.3529635667800903\n",
      "Iteration 1050 - Loss 1.28226900100708\n",
      "Iteration 1100 - Loss 1.2506663799285889\n",
      "Iteration 1150 - Loss 1.3605725765228271\n",
      "Iteration 1200 - Loss 1.2255264520645142\n",
      "Iteration 1250 - Loss 1.1979992389678955\n",
      "Iteration 1300 - Loss 1.194528579711914\n",
      "Iteration 1350 - Loss 1.3164807558059692\n",
      "Iteration 1400 - Loss 1.1784029006958008\n",
      "Iteration 1450 - Loss 1.176927089691162\n",
      "Iteration 1500 - Loss 1.229853630065918\n",
      "Iteration 1550 - Loss 1.074784278869629\n",
      "Iteration 1600 - Loss 1.1330493688583374\n",
      "Iteration 1650 - Loss 1.136351466178894\n",
      "Iteration 1700 - Loss 1.1613136529922485\n",
      "Iteration 1750 - Loss 1.104719877243042\n",
      "Iteration 1800 - Loss 1.1815721988677979\n",
      "Iteration 1850 - Loss 1.1165271997451782\n",
      "Iteration 1900 - Loss 1.0140666961669922\n",
      "Iteration 1950 - Loss 1.0132129192352295\n",
      "Iteration 2000 - Loss 1.1180018186569214\n",
      "Iteration 2050 - Loss 1.0199134349822998\n",
      "Iteration 2100 - Loss 0.9431034326553345\n",
      "Iteration 2150 - Loss 0.9943896532058716\n",
      "Iteration 2200 - Loss 0.9841875433921814\n",
      "Iteration 2250 - Loss 1.0796434879302979\n",
      "Iteration 2300 - Loss 0.974844753742218\n",
      "Iteration 2350 - Loss 0.9342268109321594\n",
      "Iteration 2400 - Loss 0.9155004620552063\n",
      "Iteration 2450 - Loss 0.9090298414230347\n",
      "Iteration 2500 - Loss 0.9404007792472839\n",
      "Iteration 2550 - Loss 0.9063630104064941\n",
      "Iteration 2600 - Loss 0.8783676028251648\n",
      "Iteration 2650 - Loss 0.8955894112586975\n",
      "Iteration 2700 - Loss 1.052369236946106\n",
      "Iteration 2750 - Loss 0.8372625112533569\n",
      "Iteration 2800 - Loss 0.9853039383888245\n",
      "Iteration 2850 - Loss 0.9007149338722229\n",
      "Iteration 2900 - Loss 0.9175920486450195\n",
      "Iteration 2950 - Loss 1.0176498889923096\n",
      "Iteration 3000 - Loss 0.8224281072616577\n",
      "Iteration 3050 - Loss 0.9299622774124146\n",
      "Iteration 3100 - Loss 0.8674781322479248\n",
      "Iteration 3150 - Loss 0.8632976412773132\n",
      "Iteration 3200 - Loss 0.9008730053901672\n",
      "Iteration 3250 - Loss 0.8677535057067871\n",
      "Iteration 3300 - Loss 0.7514581680297852\n",
      "Iteration 3350 - Loss 0.7834874987602234\n",
      "Iteration 3400 - Loss 0.7330628037452698\n",
      "Iteration 3450 - Loss 0.7535738348960876\n",
      "Iteration 3500 - Loss 0.6624704003334045\n",
      "Iteration 3550 - Loss 0.5639715790748596\n",
      "Iteration 3600 - Loss 0.5506206154823303\n",
      "Iteration 3650 - Loss 0.5369250774383545\n",
      "Iteration 3700 - Loss 0.5277569890022278\n",
      "Iteration 3750 - Loss 0.4740045666694641\n",
      "Iteration 3800 - Loss 0.3590685725212097\n",
      "Iteration 3850 - Loss 0.41237691044807434\n",
      "Iteration 3900 - Loss 0.3139646351337433\n",
      "Iteration 3950 - Loss 0.45648762583732605\n",
      "Iteration 4000 - Loss 0.29563599824905396\n",
      "Iteration 4000 - Loss 0.29563599824905396\n",
      "Training complete!\n"
     ]
    }
   ],
   "source": [
    "_ = train(print_every=50, use_multihead=False)"
   ]
  },
  {
   "cell_type": "markdown",
   "metadata": {},
   "source": [
    "# With Multi-head Attention"
   ]
  },
  {
   "cell_type": "code",
   "execution_count": 12,
   "metadata": {},
   "outputs": [
    {
     "name": "stdout",
     "output_type": "stream",
     "text": [
      "Iteration 50 - Loss 1.7857246398925781\n",
      "Iteration 100 - Loss 1.735564112663269\n",
      "Iteration 150 - Loss 1.868201732635498\n",
      "Iteration 200 - Loss 1.772331714630127\n",
      "Iteration 250 - Loss 1.8800278902053833\n",
      "Iteration 300 - Loss 1.6627023220062256\n",
      "Iteration 350 - Loss 1.760069727897644\n",
      "Iteration 400 - Loss 1.609171986579895\n",
      "Iteration 450 - Loss 1.5087788105010986\n",
      "Iteration 500 - Loss 1.5319361686706543\n",
      "Iteration 550 - Loss 1.5856661796569824\n",
      "Iteration 600 - Loss 1.5295003652572632\n",
      "Iteration 650 - Loss 1.3976054191589355\n",
      "Iteration 700 - Loss 1.311308741569519\n",
      "Iteration 750 - Loss 1.2208361625671387\n",
      "Iteration 800 - Loss 1.186812162399292\n",
      "Iteration 850 - Loss 1.0808887481689453\n",
      "Iteration 900 - Loss 1.155795693397522\n",
      "Iteration 950 - Loss 1.032659649848938\n",
      "Iteration 1000 - Loss 0.9723690748214722\n",
      "Iteration 1050 - Loss 0.96322101354599\n",
      "Iteration 1100 - Loss 0.9177731275558472\n",
      "Iteration 1150 - Loss 0.9020969867706299\n",
      "Iteration 1200 - Loss 0.8114311099052429\n",
      "Iteration 1250 - Loss 0.8514971137046814\n",
      "Iteration 1300 - Loss 0.8055905103683472\n",
      "Iteration 1350 - Loss 0.8460620045661926\n",
      "Iteration 1400 - Loss 0.8215481042861938\n",
      "Iteration 1450 - Loss 0.8199463486671448\n",
      "Iteration 1500 - Loss 0.816060483455658\n",
      "Iteration 1550 - Loss 0.6826673150062561\n",
      "Iteration 1600 - Loss 0.835556149482727\n",
      "Iteration 1650 - Loss 0.8042423725128174\n",
      "Iteration 1700 - Loss 0.7857234477996826\n",
      "Iteration 1750 - Loss 0.8179087042808533\n",
      "Iteration 1800 - Loss 0.6997910737991333\n",
      "Iteration 1850 - Loss 0.8120965957641602\n",
      "Iteration 1900 - Loss 0.7335716485977173\n",
      "Iteration 1950 - Loss 0.7076469659805298\n",
      "Iteration 2000 - Loss 0.7352325916290283\n",
      "Iteration 2050 - Loss 0.6981651186943054\n",
      "Iteration 2100 - Loss 0.7346888780593872\n",
      "Iteration 2150 - Loss 0.6200786232948303\n",
      "Iteration 2200 - Loss 0.7310068607330322\n",
      "Iteration 2250 - Loss 0.6515317559242249\n",
      "Iteration 2300 - Loss 0.6603053212165833\n",
      "Iteration 2350 - Loss 0.3516259491443634\n",
      "Iteration 2400 - Loss 0.1493094563484192\n",
      "Iteration 2450 - Loss 0.16597391664981842\n",
      "Iteration 2500 - Loss 0.05750427767634392\n",
      "Iteration 2550 - Loss 0.04850877821445465\n",
      "Iteration 2600 - Loss 0.04230170696973801\n",
      "Iteration 2650 - Loss 0.03893681615591049\n",
      "Iteration 2700 - Loss 0.017109693959355354\n",
      "Iteration 2750 - Loss 0.019592195749282837\n",
      "Iteration 2800 - Loss 0.03213971480727196\n",
      "Iteration 2850 - Loss 0.01592552289366722\n",
      "Iteration 2900 - Loss 0.032036617398262024\n",
      "Iteration 2950 - Loss 0.014117324724793434\n",
      "Iteration 3000 - Loss 0.008070087060332298\n",
      "Iteration 3050 - Loss 0.03535190597176552\n",
      "Iteration 3100 - Loss 0.008384502492845058\n",
      "Iteration 3150 - Loss 0.005502224434167147\n",
      "Iteration 3200 - Loss 0.00902612041682005\n",
      "Iteration 3250 - Loss 0.006301507819443941\n",
      "Iteration 3300 - Loss 0.006202360149472952\n",
      "Iteration 3350 - Loss 0.01342748198658228\n",
      "Iteration 3400 - Loss 0.0045604826882481575\n",
      "Iteration 3450 - Loss 0.007655730936676264\n",
      "Iteration 3500 - Loss 0.004155617207288742\n",
      "Iteration 3550 - Loss 0.0038880312349647284\n",
      "Iteration 3600 - Loss 0.0051957545801997185\n",
      "Iteration 3650 - Loss 0.004013302270323038\n",
      "Iteration 3700 - Loss 0.012359602376818657\n",
      "Iteration 3750 - Loss 0.003006322542205453\n",
      "Iteration 3800 - Loss 0.0020727815572172403\n",
      "Iteration 3850 - Loss 0.003757460042834282\n",
      "Iteration 3900 - Loss 0.002339166821911931\n",
      "Iteration 3950 - Loss 0.001819566241465509\n",
      "Iteration 4000 - Loss 0.0039461213164031506\n",
      "Iteration 4000 - Loss 0.0039461213164031506\n",
      "Training complete!\n"
     ]
    }
   ],
   "source": [
    "_ = train(print_every=50, use_multihead=True)"
   ]
  },
  {
   "cell_type": "code",
   "execution_count": 13,
   "metadata": {},
   "outputs": [
    {
     "name": "stdout",
     "output_type": "stream",
     "text": [
      "\n",
      "Input: \n",
      "[[['A']\n",
      "  ['C']\n",
      "  ['C']\n",
      "  ['C']\n",
      "  ['A']\n",
      "  ['B']\n",
      "  ['B']\n",
      "  ['B']\n",
      "  ['C']\n",
      "  ['A']\n",
      "  ['B']\n",
      "  ['C']\n",
      "  ['C']]]\n",
      "\n",
      "Prediction: \n",
      "[[2 4 4]]\n",
      "\n",
      "Encoder-Decoder Attention: \n",
      "Head #0\n",
      "\tAttention of Output step 0 to Input steps\n",
      "\t[0.0, 0.059, 0.104, 0.001, 0.362, 0.032, 0.032, 0.032, 0.001, 0.343, 0.031, 0.001, 0.001]\n",
      "\tAttention of Output step 1 to Input steps\n",
      "\t[0.001, 0.834, 0.001, 0.002, 0.05, 0.014, 0.014, 0.014, 0.002, 0.05, 0.014, 0.002, 0.002]\n",
      "\tAttention of Output step 2 to Input steps\n",
      "\t[0.0, 0.0, 0.827, 0.003, 0.057, 0.013, 0.013, 0.013, 0.003, 0.052, 0.013, 0.003, 0.003]\n",
      "\n",
      "L2-Norm of Input Positional Encoding:\n",
      "[2.077, 2.003, 2.008, 0.565, 0.565, 0.568, 0.564, 0.562, 0.566, 0.569, 0.567, 0.57, 0.561]\n"
     ]
    }
   ],
   "source": [
    "test()"
   ]
  },
  {
   "cell_type": "code",
   "execution_count": null,
   "metadata": {},
   "outputs": [],
   "source": []
  }
 ],
 "metadata": {
  "kernelspec": {
   "display_name": "Python 3",
   "language": "python",
   "name": "python3"
  },
  "language_info": {
   "codemirror_mode": {
    "name": "ipython",
    "version": 3
   },
   "file_extension": ".py",
   "mimetype": "text/x-python",
   "name": "python",
   "nbconvert_exporter": "python",
   "pygments_lexer": "ipython3",
   "version": "3.6.8"
  },
  "toc": {
   "base_numbering": 1,
   "nav_menu": {},
   "number_sections": true,
   "sideBar": true,
   "skip_h1_title": false,
   "title_cell": "Table of Contents",
   "title_sidebar": "Contents",
   "toc_cell": false,
   "toc_position": {},
   "toc_section_display": true,
   "toc_window_display": false
  }
 },
 "nbformat": 4,
 "nbformat_minor": 2
}
