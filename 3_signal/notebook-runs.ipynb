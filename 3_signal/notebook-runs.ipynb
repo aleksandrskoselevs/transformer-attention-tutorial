{
 "cells": [
  {
   "cell_type": "code",
   "execution_count": 1,
   "metadata": {},
   "outputs": [],
   "source": [
    "from main import Task, train, test"
   ]
  },
  {
   "cell_type": "code",
   "execution_count": 2,
   "metadata": {},
   "outputs": [],
   "source": [
    "task = Task()\n",
    "samples, labels = task.next_batch()"
   ]
  },
  {
   "cell_type": "code",
   "execution_count": 3,
   "metadata": {},
   "outputs": [
    {
     "data": {
      "text/plain": [
       "(100, 11, 3)"
      ]
     },
     "execution_count": 3,
     "metadata": {},
     "output_type": "execute_result"
    }
   ],
   "source": [
    "# (batchsize, max_len + 1, vocab_size)\n",
    "samples.shape"
   ]
  },
  {
   "cell_type": "code",
   "execution_count": 4,
   "metadata": {},
   "outputs": [
    {
     "data": {
      "text/plain": [
       "array([[0., 1., 0.],\n",
       "       [0., 1., 0.],\n",
       "       [0., 1., 0.],\n",
       "       [0., 0., 1.],\n",
       "       [0., 0., 1.],\n",
       "       [0., 0., 1.],\n",
       "       [0., 1., 0.],\n",
       "       [0., 0., 1.],\n",
       "       [0., 0., 1.],\n",
       "       [0., 1., 0.],\n",
       "       [0., 0., 1.]])"
      ]
     },
     "execution_count": 4,
     "metadata": {},
     "output_type": "execute_result"
    }
   ],
   "source": [
    "samples[0]"
   ]
  },
  {
   "cell_type": "code",
   "execution_count": 5,
   "metadata": {},
   "outputs": [
    {
     "data": {
      "text/plain": [
       "(100, 1, 11)"
      ]
     },
     "execution_count": 5,
     "metadata": {},
     "output_type": "execute_result"
    }
   ],
   "source": [
    "# (batchsize, 1, max_len + 1)\n",
    "labels.shape"
   ]
  },
  {
   "cell_type": "code",
   "execution_count": 6,
   "metadata": {},
   "outputs": [
    {
     "data": {
      "text/plain": [
       "array([[0., 0., 0., 0., 1., 0., 0., 0., 0., 0., 0.]])"
      ]
     },
     "execution_count": 6,
     "metadata": {},
     "output_type": "execute_result"
    }
   ],
   "source": [
    "labels[0]"
   ]
  },
  {
   "cell_type": "markdown",
   "metadata": {},
   "source": [
    "# Without Positional encodings"
   ]
  },
  {
   "cell_type": "code",
   "execution_count": 7,
   "metadata": {
    "scrolled": true
   },
   "outputs": [
    {
     "name": "stdout",
     "output_type": "stream",
     "text": [
      "Iteration 250 - Loss 1.6700439453125\n",
      "Iteration 500 - Loss 1.3713023662567139\n",
      "Iteration 750 - Loss 1.5837630033493042\n",
      "Iteration 1000 - Loss 1.2754212617874146\n",
      "Iteration 1250 - Loss 1.1670920848846436\n",
      "Iteration 1500 - Loss 1.1033684015274048\n",
      "Epoch  1724: reducing learning rate of group 0 to 1.0000e-04.\n",
      "Iteration 1750 - Loss 0.9997305870056152\n",
      "Iteration 2000 - Loss 0.9309741258621216\n",
      "Iteration 2000 - Loss 0.9309741258621216\n",
      "Training complete!\n"
     ]
    }
   ],
   "source": [
    "_ = train(print_every=250, pos_enc=False)"
   ]
  },
  {
   "cell_type": "code",
   "execution_count": 8,
   "metadata": {},
   "outputs": [
    {
     "name": "stdout",
     "output_type": "stream",
     "text": [
      "\n",
      "Input: \n",
      "[[['C']\n",
      "  ['A']\n",
      "  ['C']\n",
      "  ['C']\n",
      "  ['C']\n",
      "  ['C']\n",
      "  ['C']\n",
      "  ['B']\n",
      "  ['B']\n",
      "  ['B']\n",
      "  ['B']]]\n",
      "\n",
      "Prediction: \n",
      "[[5]]\n",
      "\n",
      "Encoder-Decoder Attention: \n",
      "Output step 0 attended mainly to Input steps: [ 7  8  9 10]\n",
      "[0.072, 0.058, 0.072, 0.072, 0.072, 0.072, 0.072, 0.127, 0.127, 0.127, 0.127]\n"
     ]
    },
    {
     "data": {
      "image/png": "[encoded data removed]",
      "text/plain": [
       "<Figure size 432x288 with 2 Axes>"
      ]
     },
     "metadata": {
      "needs_background": "light"
     },
     "output_type": "display_data"
    }
   ],
   "source": [
    "_ = test(pos_enc=False)"
   ]
  },
  {
   "cell_type": "markdown",
   "metadata": {},
   "source": [
    "# With Positional encodings"
   ]
  },
  {
   "cell_type": "code",
   "execution_count": 9,
   "metadata": {},
   "outputs": [
    {
     "name": "stdout",
     "output_type": "stream",
     "text": [
      "Iteration 250 - Loss 1.8333065509796143\n",
      "Iteration 500 - Loss 1.487678050994873\n",
      "Iteration 750 - Loss 1.1412402391433716\n",
      "Iteration 1000 - Loss 0.48354998230934143\n",
      "Iteration 1250 - Loss 0.2923632562160492\n",
      "Iteration 1500 - Loss 1.1677156686782837\n",
      "Iteration 1750 - Loss 0.23710504174232483\n",
      "Iteration 2000 - Loss 0.18062952160835266\n",
      "Iteration 2000 - Loss 0.18062952160835266\n",
      "Training complete!\n"
     ]
    }
   ],
   "source": [
    "loss_hist = train(print_every=250, pos_enc=True, num_enc_layers=1)"
   ]
  },
  {
   "cell_type": "code",
   "execution_count": 10,
   "metadata": {
    "scrolled": false
   },
   "outputs": [
    {
     "name": "stdout",
     "output_type": "stream",
     "text": [
      "\n",
      "Input: \n",
      "[[['B']\n",
      "  ['C']\n",
      "  ['A']\n",
      "  ['B']\n",
      "  ['C']\n",
      "  ['C']\n",
      "  ['C']\n",
      "  ['B']\n",
      "  ['B']\n",
      "  ['C']\n",
      "  ['C']]]\n",
      "\n",
      "Prediction: \n",
      "[[3]]\n",
      "\n",
      "Encoder-Decoder Attention: \n",
      "Output step 0 attended mainly to Input steps: [2]\n",
      "[0.03, 0.038, 0.64, 0.034, 0.038, 0.038, 0.038, 0.034, 0.034, 0.038, 0.038]\n"
     ]
    },
    {
     "data": {
      "image/png": "[encoded data removed]",
      "text/plain": [
       "<Figure size 432x288 with 2 Axes>"
      ]
     },
     "metadata": {
      "needs_background": "light"
     },
     "output_type": "display_data"
    },
    {
     "name": "stdout",
     "output_type": "stream",
     "text": [
      "\n",
      "L2-Norm of Input Positional Encoding:\n",
      "[4.017, 0.431, 0.43, 0.432, 0.434, 0.434, 0.429, 0.433, 0.433, 0.426, 0.432]\n"
     ]
    },
    {
     "data": {
      "image/png": "[encoded data removed]",
      "text/plain": [
       "<Figure size 432x288 with 2 Axes>"
      ]
     },
     "metadata": {
      "needs_background": "light"
     },
     "output_type": "display_data"
    }
   ],
   "source": [
    " samples, labels, predictions, attention, input_pos_enc = test(pos_enc=True, num_enc_layers=1)"
   ]
  },
  {
   "cell_type": "markdown",
   "metadata": {},
   "source": [
    "# With positional encodings and more encoder layers"
   ]
  },
  {
   "cell_type": "code",
   "execution_count": 11,
   "metadata": {},
   "outputs": [
    {
     "name": "stdout",
     "output_type": "stream",
     "text": [
      "Iteration 250 - Loss 1.2629730701446533\n",
      "Iteration 500 - Loss 0.46846190094947815\n",
      "Iteration 750 - Loss 0.21491453051567078\n",
      "Iteration 1000 - Loss 0.04504004120826721\n",
      "Iteration 1250 - Loss 0.019231684505939484\n",
      "Iteration 1250 - Loss 0.019231684505939484\n",
      "Training complete!\n"
     ]
    }
   ],
   "source": [
    "loss_hist = train(print_every=250, pos_enc=True,\n",
    "                  num_enc_layers=6, steps=1250)"
   ]
  },
  {
   "cell_type": "code",
   "execution_count": 12,
   "metadata": {},
   "outputs": [
    {
     "name": "stdout",
     "output_type": "stream",
     "text": [
      "\n",
      "Input: \n",
      "[[['B']\n",
      "  ['B']\n",
      "  ['B']\n",
      "  ['A']\n",
      "  ['C']\n",
      "  ['A']\n",
      "  ['C']\n",
      "  ['A']\n",
      "  ['B']\n",
      "  ['B']\n",
      "  ['B']]]\n",
      "\n",
      "Prediction: \n",
      "[[5]]\n",
      "\n",
      "Encoder-Decoder Attention: \n",
      "Output step 0 attended mainly to Input steps: [6]\n",
      "[0.085, 0.083, 0.083, 0.096, 0.106, 0.096, 0.106, 0.096, 0.083, 0.083, 0.083]\n"
     ]
    },
    {
     "data": {
      "image/png": "[encoded data removed]",
      "text/plain": [
       "<Figure size 432x288 with 2 Axes>"
      ]
     },
     "metadata": {
      "needs_background": "light"
     },
     "output_type": "display_data"
    },
    {
     "name": "stdout",
     "output_type": "stream",
     "text": [
      "\n",
      "L2-Norm of Input Positional Encoding:\n",
      "[1.805, 0.237, 0.241, 0.259, 0.242, 0.244, 0.234, 0.24, 0.245, 0.25, 0.239]\n"
     ]
    },
    {
     "data": {
      "image/png": "[encoded data removed]",
      "text/plain": [
       "<Figure size 432x288 with 2 Axes>"
      ]
     },
     "metadata": {
      "needs_background": "light"
     },
     "output_type": "display_data"
    }
   ],
   "source": [
    "_ = test(pos_enc=True, num_enc_layers=6)"
   ]
  },
  {
   "cell_type": "code",
   "execution_count": null,
   "metadata": {},
   "outputs": [],
   "source": []
  }
 ],
 "metadata": {
  "kernelspec": {
   "display_name": "Python 3",
   "language": "python",
   "name": "python3"
  },
  "language_info": {
   "codemirror_mode": {
    "name": "ipython",
    "version": 3
   },
   "file_extension": ".py",
   "mimetype": "text/x-python",
   "name": "python",
   "nbconvert_exporter": "python",
   "pygments_lexer": "ipython3",
   "version": "3.6.8"
  },
  "toc": {
   "base_numbering": 1,
   "nav_menu": {},
   "number_sections": true,
   "sideBar": true,
   "skip_h1_title": false,
   "title_cell": "Table of Contents",
   "title_sidebar": "Contents",
   "toc_cell": false,
   "toc_position": {},
   "toc_section_display": true,
   "toc_window_display": false
  }
 },
 "nbformat": 4,
 "nbformat_minor": 2
}
