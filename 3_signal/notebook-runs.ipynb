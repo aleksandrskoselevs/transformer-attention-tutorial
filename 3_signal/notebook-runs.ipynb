{
 "cells": [
  {
   "cell_type": "code",
   "execution_count": 1,
   "metadata": {},
   "outputs": [],
   "source": [
    "from main import Task, train, test"
   ]
  },
  {
   "cell_type": "code",
   "execution_count": 2,
   "metadata": {},
   "outputs": [],
   "source": [
    "task = Task()\n",
    "samples, labels = task.next_batch()"
   ]
  },
  {
   "cell_type": "code",
   "execution_count": 3,
   "metadata": {},
   "outputs": [
    {
     "data": {
      "text/plain": [
       "(100, 11, 3)"
      ]
     },
     "execution_count": 3,
     "metadata": {},
     "output_type": "execute_result"
    }
   ],
   "source": [
    "# (batchsize, max_len + 1, vocab_size)\n",
    "samples.shape"
   ]
  },
  {
   "cell_type": "code",
   "execution_count": 4,
   "metadata": {},
   "outputs": [
    {
     "data": {
      "text/plain": [
       "array([[1., 0., 0.],\n",
       "       [1., 0., 0.],\n",
       "       [0., 0., 1.],\n",
       "       [0., 0., 1.],\n",
       "       [1., 0., 0.],\n",
       "       [0., 0., 1.],\n",
       "       [1., 0., 0.],\n",
       "       [0., 0., 1.],\n",
       "       [1., 0., 0.],\n",
       "       [0., 0., 1.],\n",
       "       [0., 0., 1.]])"
      ]
     },
     "execution_count": 4,
     "metadata": {},
     "output_type": "execute_result"
    }
   ],
   "source": [
    "samples[0]"
   ]
  },
  {
   "cell_type": "code",
   "execution_count": 5,
   "metadata": {},
   "outputs": [
    {
     "data": {
      "text/plain": [
       "(100, 1, 11)"
      ]
     },
     "execution_count": 5,
     "metadata": {},
     "output_type": "execute_result"
    }
   ],
   "source": [
    "# (batchsize, 1, max_len + 1)\n",
    "labels.shape"
   ]
  },
  {
   "cell_type": "code",
   "execution_count": 6,
   "metadata": {},
   "outputs": [
    {
     "data": {
      "text/plain": [
       "array([[0., 0., 0., 0., 1., 0., 0., 0., 0., 0., 0.]])"
      ]
     },
     "execution_count": 6,
     "metadata": {},
     "output_type": "execute_result"
    }
   ],
   "source": [
    "labels[0]"
   ]
  },
  {
   "cell_type": "markdown",
   "metadata": {},
   "source": [
    "# Without Positional encodings"
   ]
  },
  {
   "cell_type": "code",
   "execution_count": 7,
   "metadata": {
    "scrolled": true
   },
   "outputs": [
    {
     "name": "stdout",
     "output_type": "stream",
     "text": [
      "Iteration 250 - Loss 1.5228450298309326\n",
      "Iteration 500 - Loss 1.3617782592773438\n",
      "Iteration 750 - Loss 1.1765432357788086\n",
      "Epoch   941: reducing learning rate of group 0 to 1.0000e-03.\n",
      "Iteration 1000 - Loss 1.0281555652618408\n",
      "Iteration 1250 - Loss 1.033044695854187\n",
      "Epoch  1403: reducing learning rate of group 0 to 1.0000e-04.\n",
      "Iteration 1500 - Loss 1.1363080739974976\n",
      "Epoch  1654: reducing learning rate of group 0 to 1.0000e-05.\n",
      "Iteration 1750 - Loss 1.0865570306777954\n",
      "Epoch  1905: reducing learning rate of group 0 to 1.0000e-06.\n",
      "Iteration 2000 - Loss 1.0556974411010742\n",
      "Iteration 2000 - Loss 1.0556974411010742\n",
      "Training complete!\n"
     ]
    }
   ],
   "source": [
    "_ = train(print_every=250, pos_enc=False)"
   ]
  },
  {
   "cell_type": "code",
   "execution_count": 8,
   "metadata": {},
   "outputs": [
    {
     "name": "stdout",
     "output_type": "stream",
     "text": [
      "\n",
      "Input: \n",
      "[[['C']\n",
      "  ['C']\n",
      "  ['A']\n",
      "  ['B']\n",
      "  ['A']\n",
      "  ['A']\n",
      "  ['B']\n",
      "  ['A']\n",
      "  ['A']\n",
      "  ['C']\n",
      "  ['B']]]\n",
      "\n",
      "Prediction: \n",
      "[[2]]\n",
      "\n",
      "Encoder-Decoder Attention: \n",
      "Output step 0 attended mainly to Input steps: [2 4 5 7 8]\n",
      "[0.015, 0.015, 0.164, 0.045, 0.164, 0.164, 0.045, 0.164, 0.164, 0.015, 0.045]\n"
     ]
    },
    {
     "data": {
      "image/png": "[encoded data removed]",
      "text/plain": [
       "<Figure size 432x288 with 2 Axes>"
      ]
     },
     "metadata": {
      "needs_background": "light"
     },
     "output_type": "display_data"
    }
   ],
   "source": [
    "_ = test(pos_enc=False)"
   ]
  },
  {
   "cell_type": "markdown",
   "metadata": {},
   "source": [
    "# With Positional encodings"
   ]
  },
  {
   "cell_type": "code",
   "execution_count": 13,
   "metadata": {},
   "outputs": [
    {
     "name": "stdout",
     "output_type": "stream",
     "text": [
      "Iteration 250 - Loss 1.6584346294403076\n",
      "Iteration 500 - Loss 1.476798415184021\n",
      "Iteration 750 - Loss 0.9862632751464844\n",
      "Iteration 1000 - Loss 0.768239438533783\n",
      "Iteration 1250 - Loss 0.5099537372589111\n",
      "Iteration 1500 - Loss 0.36945149302482605\n",
      "Iteration 1750 - Loss 0.47812801599502563\n",
      "Iteration 2000 - Loss 0.44109097123146057\n",
      "Iteration 2000 - Loss 0.44109097123146057\n",
      "Training complete!\n"
     ]
    }
   ],
   "source": [
    "loss_hist = train(print_every=250, pos_enc=True, num_enc_layers=0)"
   ]
  },
  {
   "cell_type": "code",
   "execution_count": 14,
   "metadata": {
    "scrolled": false
   },
   "outputs": [
    {
     "name": "stdout",
     "output_type": "stream",
     "text": [
      "\n",
      "Input: \n",
      "[[['B']\n",
      "  ['A']\n",
      "  ['B']\n",
      "  ['A']\n",
      "  ['B']\n",
      "  ['C']\n",
      "  ['A']\n",
      "  ['B']\n",
      "  ['A']\n",
      "  ['A']\n",
      "  ['B']]]\n",
      "\n",
      "Prediction: \n",
      "[[4]]\n",
      "\n",
      "Encoder-Decoder Attention: \n",
      "Output step 0 attended mainly to Input steps: [0]\n",
      "[0.501, 0.05, 0.051, 0.05, 0.051, 0.049, 0.05, 0.05, 0.049, 0.05, 0.05]\n"
     ]
    },
    {
     "data": {
      "image/png": "[encoded data removed]",
      "text/plain": [
       "<Figure size 432x288 with 2 Axes>"
      ]
     },
     "metadata": {
      "needs_background": "light"
     },
     "output_type": "display_data"
    },
    {
     "name": "stdout",
     "output_type": "stream",
     "text": [
      "\n",
      "L2-Norm of Input Positional Encoding:\n",
      "[6.295, 1.967, 1.957, 1.927, 1.916, 1.957, 1.99, 1.968, 2.012, 1.938, 2.008]\n"
     ]
    },
    {
     "data": {
      "image/png": "[encoded data removed]",
      "text/plain": [
       "<Figure size 432x288 with 2 Axes>"
      ]
     },
     "metadata": {
      "needs_background": "light"
     },
     "output_type": "display_data"
    }
   ],
   "source": [
    " samples, labels, predictions, attention, input_pos_enc = test(pos_enc=True, num_enc_layers=0)"
   ]
  },
  {
   "cell_type": "markdown",
   "metadata": {},
   "source": [
    "# With positional encodings and more encoder layers"
   ]
  },
  {
   "cell_type": "code",
   "execution_count": 11,
   "metadata": {},
   "outputs": [
    {
     "name": "stdout",
     "output_type": "stream",
     "text": [
      "Iteration 250 - Loss 1.9164700508117676\n",
      "Epoch   269: reducing learning rate of group 0 to 1.0000e-03.\n",
      "Iteration 500 - Loss 1.7406812906265259\n",
      "Epoch   520: reducing learning rate of group 0 to 1.0000e-04.\n",
      "Iteration 750 - Loss 1.9019535779953003\n",
      "Iteration 1000 - Loss 1.822452425956726\n",
      "Iteration 1250 - Loss 1.8028656244277954\n",
      "Iteration 1250 - Loss 1.8028656244277954\n",
      "Training complete!\n"
     ]
    }
   ],
   "source": [
    "loss_hist = train(print_every=250, pos_enc=True,\n",
    "                  num_enc_layers=2, steps=1250)"
   ]
  },
  {
   "cell_type": "code",
   "execution_count": 12,
   "metadata": {},
   "outputs": [
    {
     "name": "stdout",
     "output_type": "stream",
     "text": [
      "\n",
      "Input: \n",
      "[[['A']\n",
      "  ['B']\n",
      "  ['A']\n",
      "  ['A']\n",
      "  ['B']\n",
      "  ['A']\n",
      "  ['A']\n",
      "  ['B']\n",
      "  ['A']\n",
      "  ['C']\n",
      "  ['A']]]\n",
      "\n",
      "Prediction: \n",
      "[[3]]\n",
      "\n",
      "Encoder-Decoder Attention: \n",
      "Output step 0 attended mainly to Input steps: [2]\n",
      "[0.091, 0.091, 0.091, 0.091, 0.091, 0.091, 0.091, 0.091, 0.091, 0.091, 0.091]\n"
     ]
    },
    {
     "data": {
      "image/png": "[encoded data removed]",
      "text/plain": [
       "<Figure size 432x288 with 2 Axes>"
      ]
     },
     "metadata": {
      "needs_background": "light"
     },
     "output_type": "display_data"
    },
    {
     "name": "stdout",
     "output_type": "stream",
     "text": [
      "\n",
      "L2-Norm of Input Positional Encoding:\n",
      "[0.57, 0.475, 0.473, 0.468, 0.468, 0.468, 0.471, 0.471, 0.463, 0.471, 0.467]\n"
     ]
    },
    {
     "data": {
      "image/png": "[encoded data removed]",
      "text/plain": [
       "<Figure size 432x288 with 2 Axes>"
      ]
     },
     "metadata": {
      "needs_background": "light"
     },
     "output_type": "display_data"
    }
   ],
   "source": [
    "_ = test(pos_enc=True, num_enc_layers=2)"
   ]
  },
  {
   "cell_type": "code",
   "execution_count": null,
   "metadata": {},
   "outputs": [],
   "source": []
  }
 ],
 "metadata": {
  "kernelspec": {
   "display_name": "Python 3",
   "language": "python",
   "name": "python3"
  },
  "language_info": {
   "codemirror_mode": {
    "name": "ipython",
    "version": 3
   },
   "file_extension": ".py",
   "mimetype": "text/x-python",
   "name": "python",
   "nbconvert_exporter": "python",
   "pygments_lexer": "ipython3",
   "version": "3.6.8"
  },
  "toc": {
   "base_numbering": 1,
   "nav_menu": {},
   "number_sections": true,
   "sideBar": true,
   "skip_h1_title": false,
   "title_cell": "Table of Contents",
   "title_sidebar": "Contents",
   "toc_cell": false,
   "toc_position": {},
   "toc_section_display": true,
   "toc_window_display": false
  }
 },
 "nbformat": 4,
 "nbformat_minor": 2
}
