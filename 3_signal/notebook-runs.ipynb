{
 "cells": [
  {
   "cell_type": "code",
   "execution_count": 1,
   "metadata": {},
   "outputs": [],
   "source": [
    "from main import Task, train, test"
   ]
  },
  {
   "cell_type": "code",
   "execution_count": 2,
   "metadata": {},
   "outputs": [],
   "source": [
    "task = Task()\n",
    "samples, labels = task.next_batch()"
   ]
  },
  {
   "cell_type": "code",
   "execution_count": 3,
   "metadata": {},
   "outputs": [
    {
     "data": {
      "text/plain": [
       "(100, 11, 3)"
      ]
     },
     "execution_count": 3,
     "metadata": {},
     "output_type": "execute_result"
    }
   ],
   "source": [
    "# (batchsize, max_len + 1, vocab_size)\n",
    "samples.shape"
   ]
  },
  {
   "cell_type": "code",
   "execution_count": 4,
   "metadata": {},
   "outputs": [
    {
     "data": {
      "text/plain": [
       "array([[0., 0., 1.],\n",
       "       [0., 0., 1.],\n",
       "       [0., 1., 0.],\n",
       "       [0., 1., 0.],\n",
       "       [0., 1., 0.],\n",
       "       [0., 1., 0.],\n",
       "       [1., 0., 0.],\n",
       "       [1., 0., 0.],\n",
       "       [1., 0., 0.],\n",
       "       [0., 1., 0.],\n",
       "       [0., 1., 0.]])"
      ]
     },
     "execution_count": 4,
     "metadata": {},
     "output_type": "execute_result"
    }
   ],
   "source": [
    "samples[0]"
   ]
  },
  {
   "cell_type": "code",
   "execution_count": 5,
   "metadata": {},
   "outputs": [
    {
     "data": {
      "text/plain": [
       "(100, 1, 11)"
      ]
     },
     "execution_count": 5,
     "metadata": {},
     "output_type": "execute_result"
    }
   ],
   "source": [
    "# (batchsize, 1, max_len + 1)\n",
    "labels.shape"
   ]
  },
  {
   "cell_type": "code",
   "execution_count": 6,
   "metadata": {},
   "outputs": [
    {
     "data": {
      "text/plain": [
       "array([[0., 1., 0., 0., 0., 0., 0., 0., 0., 0., 0.]])"
      ]
     },
     "execution_count": 6,
     "metadata": {},
     "output_type": "execute_result"
    }
   ],
   "source": [
    "labels[0]"
   ]
  },
  {
   "cell_type": "markdown",
   "metadata": {},
   "source": [
    "# Without Positional encodings"
   ]
  },
  {
   "cell_type": "code",
   "execution_count": 7,
   "metadata": {
    "scrolled": true
   },
   "outputs": [
    {
     "name": "stdout",
     "output_type": "stream",
     "text": [
      "Iteration 250 - Loss 1.664731502532959\n",
      "Iteration 500 - Loss 1.326967716217041\n",
      "Iteration 750 - Loss 1.4555320739746094\n",
      "Iteration 1000 - Loss 1.4187121391296387\n",
      "Iteration 1250 - Loss 1.5060409307479858\n",
      "Iteration 1500 - Loss 1.3065638542175293\n",
      "Iteration 1750 - Loss 1.4129267930984497\n",
      "Iteration 2000 - Loss 1.3059179782867432\n",
      "Iteration 2000 - Loss 1.3059179782867432\n",
      "Training complete!\n"
     ]
    }
   ],
   "source": [
    "train(print_every=250, pos_enc=False)"
   ]
  },
  {
   "cell_type": "code",
   "execution_count": 8,
   "metadata": {},
   "outputs": [
    {
     "name": "stdout",
     "output_type": "stream",
     "text": [
      "\n",
      "Input: \n",
      "[[['C']\n",
      "  ['A']\n",
      "  ['C']\n",
      "  ['B']\n",
      "  ['A']\n",
      "  ['A']\n",
      "  ['C']\n",
      "  ['A']\n",
      "  ['B']\n",
      "  ['A']\n",
      "  ['C']]]\n",
      "\n",
      "Prediction: \n",
      "[[3]]\n",
      "\n",
      "Encoder-Decoder Attention: \n",
      "Output step 0 attended mainly to Input steps: [9]\n",
      "[0.077, 0.102, 0.077, 0.091, 0.102, 0.102, 0.077, 0.102, 0.091, 0.102, 0.077]\n"
     ]
    },
    {
     "data": {
      "image/png": "[encoded data removed]",
      "text/plain": [
       "<Figure size 432x288 with 2 Axes>"
      ]
     },
     "metadata": {
      "needs_background": "light"
     },
     "output_type": "display_data"
    }
   ],
   "source": [
    "test(pos_enc=False)"
   ]
  },
  {
   "cell_type": "markdown",
   "metadata": {},
   "source": [
    "# With Positional encodings"
   ]
  },
  {
   "cell_type": "code",
   "execution_count": 9,
   "metadata": {},
   "outputs": [
    {
     "name": "stdout",
     "output_type": "stream",
     "text": [
      "Iteration 250 - Loss 1.685600996017456\n",
      "Iteration 500 - Loss 1.0168378353118896\n",
      "Iteration 750 - Loss 0.5270788669586182\n",
      "Iteration 1000 - Loss 2.0918827056884766\n",
      "Iteration 1250 - Loss 0.21292461454868317\n",
      "Iteration 1500 - Loss 0.13068170845508575\n",
      "Iteration 1750 - Loss 0.38957518339157104\n",
      "Iteration 2000 - Loss 0.13290567696094513\n",
      "Iteration 2000 - Loss 0.13290567696094513\n",
      "Training complete!\n"
     ]
    }
   ],
   "source": [
    "train(print_every=250, pos_enc=True)"
   ]
  },
  {
   "cell_type": "code",
   "execution_count": 10,
   "metadata": {},
   "outputs": [
    {
     "name": "stdout",
     "output_type": "stream",
     "text": [
      "\n",
      "Input: \n",
      "[[['B']\n",
      "  ['C']\n",
      "  ['C']\n",
      "  ['C']\n",
      "  ['B']\n",
      "  ['C']\n",
      "  ['C']\n",
      "  ['C']\n",
      "  ['C']\n",
      "  ['B']\n",
      "  ['A']]]\n",
      "\n",
      "Prediction: \n",
      "[[3]]\n",
      "\n",
      "Encoder-Decoder Attention: \n",
      "Output step 0 attended mainly to Input steps: [0]\n",
      "[0.385, 0.063, 0.064, 0.063, 0.067, 0.064, 0.064, 0.064, 0.064, 0.069, 0.032]\n"
     ]
    },
    {
     "data": {
      "image/png": "[encoded data removed]",
      "text/plain": [
       "<Figure size 432x288 with 2 Axes>"
      ]
     },
     "metadata": {
      "needs_background": "light"
     },
     "output_type": "display_data"
    },
    {
     "name": "stdout",
     "output_type": "stream",
     "text": [
      "\n",
      "L2-Norm of Input Positional Encoding:\n",
      "[2.112, 0.953, 0.984, 0.943, 0.981, 1.015, 0.974, 0.975, 0.943, 0.947, 1.009]\n"
     ]
    },
    {
     "data": {
      "image/png": "[encoded data removed]",
      "text/plain": [
       "<Figure size 432x288 with 2 Axes>"
      ]
     },
     "metadata": {
      "needs_background": "light"
     },
     "output_type": "display_data"
    }
   ],
   "source": [
    "test(pos_enc=True)"
   ]
  },
  {
   "cell_type": "markdown",
   "metadata": {},
   "source": [
    "# With positional encodings and more encoder layers"
   ]
  },
  {
   "cell_type": "code",
   "execution_count": 11,
   "metadata": {},
   "outputs": [
    {
     "name": "stdout",
     "output_type": "stream",
     "text": [
      "Iteration 250 - Loss 1.7115517854690552\n",
      "Iteration 500 - Loss 0.8518245220184326\n",
      "Iteration 750 - Loss 0.5124673247337341\n",
      "Iteration 1000 - Loss 0.08811385929584503\n",
      "Iteration 1250 - Loss 0.0806460827589035\n",
      "Iteration 1250 - Loss 0.0806460827589035\n",
      "Training complete!\n"
     ]
    }
   ],
   "source": [
    "train(print_every=250, pos_enc=True,\n",
    "      num_enc_layers=6, steps=1250)"
   ]
  },
  {
   "cell_type": "code",
   "execution_count": 12,
   "metadata": {},
   "outputs": [
    {
     "name": "stdout",
     "output_type": "stream",
     "text": [
      "\n",
      "Input: \n",
      "[[['C']\n",
      "  ['A']\n",
      "  ['B']\n",
      "  ['A']\n",
      "  ['C']\n",
      "  ['B']\n",
      "  ['B']\n",
      "  ['A']\n",
      "  ['C']\n",
      "  ['C']\n",
      "  ['C']]]\n",
      "\n",
      "Prediction: \n",
      "[[8]]\n",
      "\n",
      "Encoder-Decoder Attention: \n",
      "Output step 0 attended mainly to Input steps: [0]\n",
      "[0.092, 0.089, 0.091, 0.089, 0.091, 0.091, 0.091, 0.089, 0.091, 0.091, 0.091]\n"
     ]
    },
    {
     "data": {
      "image/png": "[encoded data removed]",
      "text/plain": [
       "<Figure size 432x288 with 2 Axes>"
      ]
     },
     "metadata": {
      "needs_background": "light"
     },
     "output_type": "display_data"
    },
    {
     "name": "stdout",
     "output_type": "stream",
     "text": [
      "\n",
      "L2-Norm of Input Positional Encoding:\n",
      "[6.137, 0.907, 0.91, 0.81, 0.89, 0.916, 0.903, 0.925, 0.906, 0.885, 0.892]\n"
     ]
    },
    {
     "data": {
      "image/png": "[encoded data removed]",
      "text/plain": [
       "<Figure size 432x288 with 2 Axes>"
      ]
     },
     "metadata": {
      "needs_background": "light"
     },
     "output_type": "display_data"
    }
   ],
   "source": [
    "test(pos_enc=True, num_enc_layers=6)"
   ]
  },
  {
   "cell_type": "code",
   "execution_count": null,
   "metadata": {},
   "outputs": [],
   "source": []
  }
 ],
 "metadata": {
  "kernelspec": {
   "display_name": "Python 3",
   "language": "python",
   "name": "python3"
  },
  "language_info": {
   "codemirror_mode": {
    "name": "ipython",
    "version": 3
   },
   "file_extension": ".py",
   "mimetype": "text/x-python",
   "name": "python",
   "nbconvert_exporter": "python",
   "pygments_lexer": "ipython3",
   "version": "3.6.8"
  },
  "toc": {
   "base_numbering": 1,
   "nav_menu": {},
   "number_sections": true,
   "sideBar": true,
   "skip_h1_title": false,
   "title_cell": "Table of Contents",
   "title_sidebar": "Contents",
   "toc_cell": false,
   "toc_position": {},
   "toc_section_display": true,
   "toc_window_display": false
  }
 },
 "nbformat": 4,
 "nbformat_minor": 2
}
