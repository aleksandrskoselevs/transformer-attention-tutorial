{
 "cells": [
  {
   "cell_type": "code",
   "execution_count": 1,
   "metadata": {},
   "outputs": [],
   "source": [
    "from main import Task, train, test"
   ]
  },
  {
   "cell_type": "code",
   "execution_count": 2,
   "metadata": {},
   "outputs": [],
   "source": [
    "task = Task()\n",
    "samples, labels = task.next_batch()"
   ]
  },
  {
   "cell_type": "code",
   "execution_count": 3,
   "metadata": {},
   "outputs": [
    {
     "data": {
      "text/plain": [
       "(100, 10, 3)"
      ]
     },
     "execution_count": 3,
     "metadata": {},
     "output_type": "execute_result"
    }
   ],
   "source": [
    "# (batchsize, max_len, vocab_size + 1)\n",
    "samples.shape"
   ]
  },
  {
   "cell_type": "code",
   "execution_count": 4,
   "metadata": {},
   "outputs": [
    {
     "data": {
      "text/plain": [
       "array([[0., 1., 0.],\n",
       "       [0., 0., 1.],\n",
       "       [0., 0., 1.],\n",
       "       [0., 0., 1.],\n",
       "       [0., 0., 1.],\n",
       "       [0., 1., 0.],\n",
       "       [0., 0., 1.],\n",
       "       [0., 0., 1.],\n",
       "       [1., 0., 0.],\n",
       "       [0., 0., 1.]])"
      ]
     },
     "execution_count": 4,
     "metadata": {},
     "output_type": "execute_result"
    }
   ],
   "source": [
    "samples[0]"
   ]
  },
  {
   "cell_type": "code",
   "execution_count": 5,
   "metadata": {},
   "outputs": [
    {
     "data": {
      "text/plain": [
       "(100, 3, 11)"
      ]
     },
     "execution_count": 5,
     "metadata": {},
     "output_type": "execute_result"
    }
   ],
   "source": [
    "# (batchsize, vocab_size + 1, max_len + 1)\n",
    "labels.shape"
   ]
  },
  {
   "cell_type": "code",
   "execution_count": 6,
   "metadata": {},
   "outputs": [
    {
     "data": {
      "text/plain": [
       "array([[0., 0., 1., 0., 0., 0., 0., 0., 0., 0., 0.],\n",
       "       [0., 0., 0., 0., 0., 0., 0., 1., 0., 0., 0.],\n",
       "       [0., 0., 0., 0., 0., 1., 0., 0., 0., 0., 0.]])"
      ]
     },
     "execution_count": 6,
     "metadata": {},
     "output_type": "execute_result"
    }
   ],
   "source": [
    "labels[0]"
   ]
  },
  {
   "cell_type": "markdown",
   "metadata": {},
   "source": [
    "# Without Self-Attention"
   ]
  },
  {
   "cell_type": "code",
   "execution_count": 7,
   "metadata": {
    "scrolled": true
   },
   "outputs": [
    {
     "name": "stdout",
     "output_type": "stream",
     "text": [
      "Iteration 250 - Loss 0.6507306098937988\n",
      "Iteration 500 - Loss 0.32723239064216614\n",
      "Iteration 750 - Loss 0.30848008394241333\n",
      "Iteration 1000 - Loss 0.2521244287490845\n",
      "Iteration 1250 - Loss 0.15951348841190338\n",
      "Iteration 1500 - Loss 0.15381412208080292\n",
      "Iteration 1750 - Loss 0.10007693618535995\n",
      "Iteration 2000 - Loss 0.11317804455757141\n",
      "Iteration 2000 - Loss 0.11317804455757141\n",
      "Training complete!\n"
     ]
    }
   ],
   "source": [
    "_ = train(print_every=250, self_att=False)"
   ]
  },
  {
   "cell_type": "code",
   "execution_count": 8,
   "metadata": {},
   "outputs": [
    {
     "name": "stdout",
     "output_type": "stream",
     "text": [
      "\n",
      "Input: \n",
      "[[[' ']\n",
      "  ['C']\n",
      "  ['B']\n",
      "  ['B']\n",
      "  ['B']\n",
      "  ['A']\n",
      "  ['A']\n",
      "  ['B']\n",
      "  ['C']\n",
      "  ['A']]]\n",
      "\n",
      "Prediction: \n",
      "[[3 4 2 1]]\n",
      "\n",
      "Encoder-Decoder Attention: \n",
      "Output step 0 attended mainly to Input steps: [5 6 9]\n",
      "[0.093, 0.069, 0.035, 0.035, 0.035, 0.21, 0.21, 0.035, 0.069, 0.21]\n",
      "Output step 1 attended mainly to Input steps: [2 3 4 7]\n",
      "[0.081, 0.057, 0.18, 0.18, 0.18, 0.028, 0.028, 0.18, 0.057, 0.028]\n",
      "Output step 2 attended mainly to Input steps: [1 8]\n",
      "[0.078, 0.287, 0.051, 0.051, 0.051, 0.048, 0.048, 0.051, 0.287, 0.048]\n",
      "Output step 3 attended mainly to Input steps: [2 3 4 7]\n",
      "[0.076, 0.04, 0.124, 0.124, 0.124, 0.117, 0.117, 0.124, 0.04, 0.117]\n"
     ]
    },
    {
     "data": {
      "image/png": "[encoded data removed]",
      "text/plain": [
       "<Figure size 432x288 with 2 Axes>"
      ]
     },
     "metadata": {
      "needs_background": "light"
     },
     "output_type": "display_data"
    }
   ],
   "source": [
    "_ = test(self_att=False)"
   ]
  },
  {
   "cell_type": "markdown",
   "metadata": {},
   "source": [
    "# With Self-Attention"
   ]
  },
  {
   "cell_type": "code",
   "execution_count": 9,
   "metadata": {},
   "outputs": [
    {
     "name": "stdout",
     "output_type": "stream",
     "text": [
      "Iteration 250 - Loss 0.5232131481170654\n",
      "Iteration 500 - Loss 0.21357759833335876\n",
      "Iteration 750 - Loss 0.14652642607688904\n",
      "Iteration 1000 - Loss 0.06169300153851509\n",
      "Iteration 1250 - Loss 0.045857205986976624\n",
      "Iteration 1500 - Loss 0.048864301294088364\n",
      "Iteration 1750 - Loss 0.05512409284710884\n",
      "Iteration 2000 - Loss 0.04118742793798447\n",
      "Iteration 2000 - Loss 0.04118742793798447\n",
      "Training complete!\n"
     ]
    }
   ],
   "source": [
    "loss_hist = train(print_every=250, self_att=True)"
   ]
  },
  {
   "cell_type": "code",
   "execution_count": 10,
   "metadata": {},
   "outputs": [
    {
     "name": "stdout",
     "output_type": "stream",
     "text": [
      "\n",
      "Input: \n",
      "[[['C']\n",
      "  ['C']\n",
      "  [' ']\n",
      "  ['A']\n",
      "  ['A']\n",
      "  ['C']\n",
      "  ['A']\n",
      "  ['C']\n",
      "  ['B']\n",
      "  ['B']]]\n",
      "\n",
      "Prediction: \n",
      "[[3 2 4 1]]\n",
      "\n",
      "Encoder-Decoder Attention: \n",
      "Output step 0 attended mainly to Input steps: [3 4 6]\n",
      "[0.083, 0.083, 0.091, 0.171, 0.171, 0.083, 0.171, 0.083, 0.032, 0.032]\n",
      "Output step 1 attended mainly to Input steps: [8 9]\n",
      "[0.096, 0.096, 0.105, 0.037, 0.037, 0.096, 0.037, 0.096, 0.2, 0.2]\n",
      "Output step 2 attended mainly to Input steps: [0 1 5 7]\n",
      "[0.19, 0.19, 0.091, 0.031, 0.031, 0.19, 0.031, 0.19, 0.028, 0.028]\n",
      "Output step 3 attended mainly to Input steps: [3 4 6]\n",
      "[0.066, 0.066, 0.083, 0.134, 0.134, 0.066, 0.134, 0.066, 0.126, 0.126]\n"
     ]
    },
    {
     "data": {
      "image/png": "[encoded data removed]",
      "text/plain": [
       "<Figure size 432x288 with 2 Axes>"
      ]
     },
     "metadata": {
      "needs_background": "light"
     },
     "output_type": "display_data"
    },
    {
     "name": "stdout",
     "output_type": "stream",
     "text": [
      "\n",
      "Self-Attention: \n",
      "Attention of Output step 0:\n",
      "[0.999, 0.0, 0.0, 0.001]\n",
      "Attention of Output step 1:\n",
      "[0.0, 1.0, 0.0, 0.0]\n",
      "Attention of Output step 2:\n",
      "[0.011, 0.008, 0.975, 0.006]\n",
      "Attention of Output step 3:\n",
      "[0.61, 0.029, 0.001, 0.36]\n"
     ]
    },
    {
     "data": {
      "image/png": "[encoded data removed]",
      "text/plain": [
       "<Figure size 648x432 with 2 Axes>"
      ]
     },
     "metadata": {
      "needs_background": "light"
     },
     "output_type": "display_data"
    }
   ],
   "source": [
    "samples, labels, predictions, attention, self_attention = test(self_att=True)"
   ]
  },
  {
   "cell_type": "code",
   "execution_count": null,
   "metadata": {},
   "outputs": [],
   "source": []
  }
 ],
 "metadata": {
  "kernelspec": {
   "display_name": "Python 3",
   "language": "python",
   "name": "python3"
  },
  "language_info": {
   "codemirror_mode": {
    "name": "ipython",
    "version": 3
   },
   "file_extension": ".py",
   "mimetype": "text/x-python",
   "name": "python",
   "nbconvert_exporter": "python",
   "pygments_lexer": "ipython3",
   "version": "3.6.8"
  },
  "toc": {
   "base_numbering": 1,
   "nav_menu": {},
   "number_sections": true,
   "sideBar": true,
   "skip_h1_title": false,
   "title_cell": "Table of Contents",
   "title_sidebar": "Contents",
   "toc_cell": false,
   "toc_position": {},
   "toc_section_display": true,
   "toc_window_display": false
  }
 },
 "nbformat": 4,
 "nbformat_minor": 2
}
