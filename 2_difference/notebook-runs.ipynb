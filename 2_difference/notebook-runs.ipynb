{
 "cells": [
  {
   "cell_type": "code",
   "execution_count": 1,
   "metadata": {},
   "outputs": [],
   "source": [
    "import sys\n",
    "sys.path.append(\"../\")\n",
    "\n",
    "from all_models import *"
   ]
  },
  {
   "cell_type": "code",
   "execution_count": 2,
   "metadata": {},
   "outputs": [],
   "source": [
    "import os\n",
    "import string\n",
    "import numpy as np\n",
    "\n",
    "import seaborn\n",
    "import matplotlib.pyplot as plt\n",
    "\n",
    "import torch\n",
    "import torch.nn as nn\n",
    "import torch.nn.functional as F\n",
    "import torch.optim as optim"
   ]
  },
  {
   "cell_type": "code",
   "execution_count": 3,
   "metadata": {},
   "outputs": [],
   "source": [
    "class Task(object):\n",
    "\n",
    "    def __init__(self, max_len=10, vocab_size=2):\n",
    "        super(Task, self).__init__()\n",
    "        self.max_len = max_len\n",
    "        self.vocab_size = vocab_size\n",
    "        assert self.vocab_size <= 26, \"vocab_size needs to be <= 26 since we are using letters to prettify LOL\"\n",
    "        assert self.vocab_size >= 2, \"vocab_size needs to be >= 2 since we need to compute the difference between the first two steps\"\n",
    "\n",
    "    def next_batch(self, batchsize=100):\n",
    "        x = np.eye(self.vocab_size + 1)[np.random.choice(np.arange(self.vocab_size + 1), [batchsize, self.max_len])]\n",
    "        output = np.sum(x, axis=1)[:, 1:].astype(np.int32)\n",
    "        diff = np.expand_dims(np.abs(output[:, 0] - output[:, 1]), axis=1)\n",
    "        output = np.concatenate((output, diff), axis=1)\n",
    "        y = np.eye(self.max_len + 1)[output]\n",
    "        return x, y\n",
    "\n",
    "    def prettify(self, samples):\n",
    "        samples = samples.reshape(-1, self.max_len, self.vocab_size + 1)\n",
    "        idx = np.expand_dims(np.argmax(samples, axis=2), axis=2)\n",
    "        # This means max vocab_size is 26\n",
    "        dictionary = np.array(list(' ' + string.ascii_uppercase))\n",
    "        return dictionary[idx]"
   ]
  },
  {
   "cell_type": "code",
   "execution_count": 4,
   "metadata": {},
   "outputs": [],
   "source": [
    "task = Task()\n",
    "samples, labels = task.next_batch()"
   ]
  },
  {
   "cell_type": "code",
   "execution_count": 5,
   "metadata": {},
   "outputs": [
    {
     "data": {
      "text/plain": [
       "(100, 10, 3)"
      ]
     },
     "execution_count": 5,
     "metadata": {},
     "output_type": "execute_result"
    }
   ],
   "source": [
    "# (batchsize, max_len, vocab_size + 1)\n",
    "samples.shape"
   ]
  },
  {
   "cell_type": "code",
   "execution_count": 6,
   "metadata": {},
   "outputs": [
    {
     "data": {
      "text/plain": [
       "array([[0., 0., 1.],\n",
       "       [0., 0., 1.],\n",
       "       [0., 1., 0.],\n",
       "       [0., 1., 0.],\n",
       "       [0., 1., 0.],\n",
       "       [0., 0., 1.],\n",
       "       [0., 1., 0.],\n",
       "       [0., 1., 0.],\n",
       "       [0., 1., 0.],\n",
       "       [0., 0., 1.]])"
      ]
     },
     "execution_count": 6,
     "metadata": {},
     "output_type": "execute_result"
    }
   ],
   "source": [
    "samples[0]"
   ]
  },
  {
   "cell_type": "code",
   "execution_count": 7,
   "metadata": {},
   "outputs": [
    {
     "data": {
      "text/plain": [
       "(100, 3, 11)"
      ]
     },
     "execution_count": 7,
     "metadata": {},
     "output_type": "execute_result"
    }
   ],
   "source": [
    "# (batchsize, vocab_size + 1, max_len + 1)\n",
    "labels.shape"
   ]
  },
  {
   "cell_type": "code",
   "execution_count": 8,
   "metadata": {},
   "outputs": [
    {
     "data": {
      "text/plain": [
       "array([[0., 0., 0., 0., 0., 0., 1., 0., 0., 0., 0.],\n",
       "       [0., 0., 0., 0., 1., 0., 0., 0., 0., 0., 0.],\n",
       "       [0., 0., 1., 0., 0., 0., 0., 0., 0., 0., 0.]])"
      ]
     },
     "execution_count": 8,
     "metadata": {},
     "output_type": "execute_result"
    }
   ],
   "source": [
    "labels[0]"
   ]
  },
  {
   "cell_type": "code",
   "execution_count": 9,
   "metadata": {},
   "outputs": [],
   "source": [
    "def train(max_len=10,\n",
    "          vocab_size=3,\n",
    "          hidden=64,\n",
    "          self_att=False,\n",
    "          batchsize=100,\n",
    "          steps=2000,\n",
    "          print_every=50,\n",
    "          savepath='models/'):\n",
    "\n",
    "    os.makedirs(savepath, exist_ok=True)\n",
    "    model = SelfAttentionModel(self_att=self_att)\n",
    "    optimizer = optim.Adam(model.parameters(), lr=1e-2)\n",
    "    lr_scheduler = optim.lr_scheduler.ReduceLROnPlateau(\n",
    "        optimizer, patience=250, verbose=True)\n",
    "    task = Task(max_len=max_len, vocab_size=vocab_size)\n",
    "\n",
    "    loss_hist = []\n",
    "    for i in range(steps):\n",
    "        minibatch_x, minibatch_y = task.next_batch(batchsize=batchsize)\n",
    "        optimizer.zero_grad()\n",
    "        with torch.set_grad_enabled(True):\n",
    "            minibatch_x = torch.Tensor(minibatch_x)\n",
    "            minibatch_y = torch.Tensor(minibatch_y)\n",
    "            out, _, _ = model(minibatch_x)\n",
    "            loss = F.cross_entropy(\n",
    "                out.transpose(1, 2),\n",
    "                minibatch_y.argmax(dim=2))\n",
    "            loss.backward()\n",
    "            optimizer.step()\n",
    "            lr_scheduler.step(loss)\n",
    "        if (i + 1) % print_every == 0:\n",
    "            print(\"Iteration {} - Loss {}\".format(i + 1, loss))\n",
    "        loss_hist.append(loss.detach().numpy())\n",
    "\n",
    "    print(\"Iteration {} - Loss {}\".format(i + 1, loss))\n",
    "    print(\"Training complete!\")\n",
    "    torch.save(model.state_dict(), savepath + '/ckpt.pt')\n",
    "    return np.array(loss_hist)\n",
    "\n",
    "\n",
    "def test(max_len=10,\n",
    "         vocab_size=3,\n",
    "         hidden=64,\n",
    "         self_att=False,\n",
    "         savepath='models/',\n",
    "         plot=True):\n",
    "\n",
    "    model = SelfAttentionModel(self_att=self_att)\n",
    "\n",
    "    model.load_state_dict(torch.load(savepath + '/ckpt.pt'))\n",
    "    task = Task(max_len=max_len, vocab_size=vocab_size)\n",
    "\n",
    "    samples, labels = task.next_batch(batchsize=1)\n",
    "    print(\"\\nInput: \\n{}\".format(task.prettify(samples)))\n",
    "    model.eval()\n",
    "    with torch.set_grad_enabled(False):\n",
    "        predictions, attention, self_attention = model(torch.Tensor(samples))\n",
    "    predictions = predictions.detach().numpy()\n",
    "    predictions = predictions.argmax(axis=2)\n",
    "    attention = attention.detach().numpy()\n",
    "\n",
    "    print(\"\\nPrediction: \\n{}\".format(predictions))\n",
    "    print(\"\\nEncoder-Decoder Attention: \")\n",
    "    for i, output_step in enumerate(attention[0]):\n",
    "        print(\"Output step {} attended mainly to Input steps: {}\".format(\n",
    "            i, np.where(output_step >= np.max(output_step))[0]))\n",
    "        print([float(\"{:.3f}\".format(step)) for step in output_step])\n",
    "\n",
    "    if plot:\n",
    "        fig, ax = plt.subplots()\n",
    "        seaborn.heatmap(\n",
    "            attention[0],\n",
    "            yticklabels=[\"output_0\", \"output_1\", \"output_2\", \"output_3\"],\n",
    "            xticklabels=task.prettify(samples).reshape(-1),\n",
    "            ax=ax,\n",
    "            cmap='plasma',\n",
    "            cbar=True,\n",
    "            cbar_kws={\"orientation\": \"horizontal\"})\n",
    "        ax.set_aspect('equal')\n",
    "        for tick in ax.get_yticklabels():\n",
    "            tick.set_rotation(0)\n",
    "        plt.show()\n",
    "\n",
    "    if self_att:\n",
    "        self_attention = self_attention.detach().numpy()\n",
    "        print(\"\\nSelf-Attention: \")\n",
    "        for i, output_step in enumerate(self_attention[0]):\n",
    "            print(\"Attention of Output step {}:\".format(i))\n",
    "            print([float(\"{:.3f}\".format(step)) for step in output_step])\n",
    "\n",
    "        if plot:\n",
    "            fig2, ax2 = plt.subplots()\n",
    "            seaborn.heatmap(\n",
    "                self_attention[0],\n",
    "                yticklabels=[\"output_0\", \"output_1\", \"output_2\", \"output_3\"],\n",
    "                xticklabels=[\"output_0\", \"output_1\", \"output_2\", \"output_3\"],\n",
    "                ax=ax2,\n",
    "                cmap='plasma',\n",
    "                cbar=True,\n",
    "                cbar_kws={\"orientation\": \"horizontal\"})\n",
    "            ax2.set_aspect('equal')\n",
    "            ax2.set_title(\"Self-Attention\")\n",
    "            curr_fig_size = fig2.get_size_inches()\n",
    "            fig2.set_size_inches(curr_fig_size[0]*1.5, curr_fig_size[1]*1.5)\n",
    "            for tick in ax2.get_yticklabels():\n",
    "                tick.set_rotation(0)\n",
    "            plt.show()\n",
    "    return samples, labels, predictions, attention, self_attention"
   ]
  },
  {
   "cell_type": "markdown",
   "metadata": {},
   "source": [
    "# Without Self-Attention"
   ]
  },
  {
   "cell_type": "code",
   "execution_count": 10,
   "metadata": {
    "scrolled": true
   },
   "outputs": [
    {
     "name": "stdout",
     "output_type": "stream",
     "text": [
      "Iteration 250 - Loss 0.589536190032959\n",
      "Iteration 500 - Loss 0.3378211259841919\n",
      "Iteration 750 - Loss 0.2442389279603958\n",
      "Iteration 1000 - Loss 0.21589703857898712\n",
      "Iteration 1250 - Loss 0.15622113645076752\n",
      "Iteration 1500 - Loss 0.2035093754529953\n",
      "Iteration 1750 - Loss 0.1487416923046112\n",
      "Epoch 01881: reducing learning rate of group 0 to 1.0000e-03.\n",
      "Iteration 2000 - Loss 0.10571681708097458\n",
      "Iteration 2000 - Loss 0.10571681708097458\n",
      "Training complete!\n"
     ]
    }
   ],
   "source": [
    "_ = train(print_every=250, self_att=False)"
   ]
  },
  {
   "cell_type": "code",
   "execution_count": 11,
   "metadata": {},
   "outputs": [
    {
     "name": "stdout",
     "output_type": "stream",
     "text": [
      "\n",
      "Input: \n",
      "[[['B']\n",
      "  ['A']\n",
      "  [' ']\n",
      "  [' ']\n",
      "  [' ']\n",
      "  ['B']\n",
      "  [' ']\n",
      "  ['A']\n",
      "  ['A']\n",
      "  ['A']]]\n",
      "\n",
      "Prediction: \n",
      "[[4 2 0 2]]\n",
      "\n",
      "Encoder-Decoder Attention: \n",
      "Output step 0 attended mainly to Input steps: [1 7 8 9]\n",
      "[0.026, 0.164, 0.073, 0.073, 0.073, 0.026, 0.073, 0.164, 0.164, 0.164]\n",
      "Output step 1 attended mainly to Input steps: [0 5]\n",
      "[0.226, 0.036, 0.101, 0.101, 0.101, 0.226, 0.101, 0.036, 0.036, 0.036]\n",
      "Output step 2 attended mainly to Input steps: [2 3 4 6]\n",
      "[0.081, 0.086, 0.124, 0.124, 0.124, 0.081, 0.124, 0.086, 0.086, 0.086]\n",
      "Output step 3 attended mainly to Input steps: [1 7 8 9]\n",
      "[0.114, 0.117, 0.076, 0.076, 0.076, 0.114, 0.076, 0.117, 0.117, 0.117]\n"
     ]
    },
    {
     "data": {
      "image/png": "[encoded data removed]",
      "text/plain": [
       "<Figure size 432x288 with 2 Axes>"
      ]
     },
     "metadata": {
      "needs_background": "light"
     },
     "output_type": "display_data"
    }
   ],
   "source": [
    "_ = test(self_att=False)"
   ]
  },
  {
   "cell_type": "markdown",
   "metadata": {},
   "source": [
    "# With Self-Attention"
   ]
  },
  {
   "cell_type": "code",
   "execution_count": 12,
   "metadata": {},
   "outputs": [
    {
     "name": "stdout",
     "output_type": "stream",
     "text": [
      "Iteration 250 - Loss 0.8010529279708862\n",
      "Iteration 500 - Loss 0.2229360044002533\n",
      "Iteration 750 - Loss 0.1380462497472763\n",
      "Iteration 1000 - Loss 0.086012102663517\n",
      "Iteration 1250 - Loss 0.0715286061167717\n",
      "Iteration 1500 - Loss 0.06371934711933136\n",
      "Iteration 1750 - Loss 0.040700457990169525\n",
      "Iteration 2000 - Loss 0.10527150332927704\n",
      "Iteration 2000 - Loss 0.10527150332927704\n",
      "Training complete!\n"
     ]
    }
   ],
   "source": [
    "loss_hist = train(print_every=250, self_att=True)"
   ]
  },
  {
   "cell_type": "code",
   "execution_count": 13,
   "metadata": {},
   "outputs": [
    {
     "name": "stdout",
     "output_type": "stream",
     "text": [
      "\n",
      "Input: \n",
      "[[['C']\n",
      "  ['C']\n",
      "  [' ']\n",
      "  [' ']\n",
      "  ['A']\n",
      "  ['C']\n",
      "  ['C']\n",
      "  ['B']\n",
      "  ['B']\n",
      "  [' ']]]\n",
      "\n",
      "Prediction: \n",
      "[[1 2 4 1]]\n",
      "\n",
      "Encoder-Decoder Attention: \n",
      "Output step 0 attended mainly to Input steps: [4]\n",
      "[0.081, 0.081, 0.109, 0.109, 0.242, 0.081, 0.081, 0.055, 0.055, 0.109]\n",
      "Output step 1 attended mainly to Input steps: [8]\n",
      "[0.068, 0.068, 0.087, 0.087, 0.055, 0.068, 0.068, 0.205, 0.205, 0.087]\n",
      "Output step 2 attended mainly to Input steps: [0 1 5 6]\n",
      "[0.175, 0.175, 0.061, 0.061, 0.037, 0.175, 0.175, 0.041, 0.041, 0.061]\n",
      "Output step 3 attended mainly to Input steps: [7 8]\n",
      "[0.082, 0.082, 0.078, 0.078, 0.141, 0.082, 0.082, 0.149, 0.149, 0.078]\n"
     ]
    },
    {
     "data": {
      "image/png": "[encoded data removed]",
      "text/plain": [
       "<Figure size 432x288 with 2 Axes>"
      ]
     },
     "metadata": {
      "needs_background": "light"
     },
     "output_type": "display_data"
    },
    {
     "name": "stdout",
     "output_type": "stream",
     "text": [
      "\n",
      "Self-Attention: \n",
      "Attention of Output step 0:\n",
      "[1.0, 0.0, 0.0, 0.0]\n",
      "Attention of Output step 1:\n",
      "[0.0, 1.0, 0.0, 0.0]\n",
      "Attention of Output step 2:\n",
      "[0.0, 0.0, 1.0, 0.0]\n",
      "Attention of Output step 3:\n",
      "[0.021, 0.603, 0.001, 0.375]\n"
     ]
    },
    {
     "data": {
      "image/png": "[encoded data removed]",
      "text/plain": [
       "<Figure size 648x432 with 2 Axes>"
      ]
     },
     "metadata": {
      "needs_background": "light"
     },
     "output_type": "display_data"
    }
   ],
   "source": [
    "samples, labels, predictions, attention, self_attention = test(self_att=True)"
   ]
  }
 ],
 "metadata": {
  "kernelspec": {
   "display_name": "Python 3",
   "language": "python",
   "name": "python3"
  },
  "language_info": {
   "codemirror_mode": {
    "name": "ipython",
    "version": 3
   },
   "file_extension": ".py",
   "mimetype": "text/x-python",
   "name": "python",
   "nbconvert_exporter": "python",
   "pygments_lexer": "ipython3",
   "version": "3.9.7"
  },
  "toc": {
   "base_numbering": 1,
   "nav_menu": {},
   "number_sections": true,
   "sideBar": true,
   "skip_h1_title": false,
   "title_cell": "Table of Contents",
   "title_sidebar": "Contents",
   "toc_cell": false,
   "toc_position": {},
   "toc_section_display": true,
   "toc_window_display": false
  }
 },
 "nbformat": 4,
 "nbformat_minor": 2
}
