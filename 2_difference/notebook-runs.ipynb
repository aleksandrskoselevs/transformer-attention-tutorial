{
 "cells": [
  {
   "cell_type": "code",
   "execution_count": 1,
   "metadata": {},
   "outputs": [],
   "source": [
    "from main import Task, train, test"
   ]
  },
  {
   "cell_type": "code",
   "execution_count": 2,
   "metadata": {},
   "outputs": [],
   "source": [
    "task = Task()\n",
    "samples, labels = task.next_batch()"
   ]
  },
  {
   "cell_type": "code",
   "execution_count": 3,
   "metadata": {},
   "outputs": [
    {
     "data": {
      "text/plain": [
       "(100, 10, 3)"
      ]
     },
     "execution_count": 3,
     "metadata": {},
     "output_type": "execute_result"
    }
   ],
   "source": [
    "# (batchsize, max_len, vocab_size + 1)\n",
    "samples.shape"
   ]
  },
  {
   "cell_type": "code",
   "execution_count": 4,
   "metadata": {},
   "outputs": [
    {
     "data": {
      "text/plain": [
       "array([[0., 1., 0.],\n",
       "       [0., 0., 1.],\n",
       "       [0., 1., 0.],\n",
       "       [0., 1., 0.],\n",
       "       [0., 1., 0.],\n",
       "       [0., 1., 0.],\n",
       "       [0., 0., 1.],\n",
       "       [0., 1., 0.],\n",
       "       [1., 0., 0.],\n",
       "       [0., 1., 0.]])"
      ]
     },
     "execution_count": 4,
     "metadata": {},
     "output_type": "execute_result"
    }
   ],
   "source": [
    "samples[0]"
   ]
  },
  {
   "cell_type": "code",
   "execution_count": 5,
   "metadata": {},
   "outputs": [
    {
     "data": {
      "text/plain": [
       "(100, 3, 11)"
      ]
     },
     "execution_count": 5,
     "metadata": {},
     "output_type": "execute_result"
    }
   ],
   "source": [
    "# (batchsize, vocab_size + 1, max_len + 1)\n",
    "labels.shape"
   ]
  },
  {
   "cell_type": "code",
   "execution_count": 6,
   "metadata": {},
   "outputs": [
    {
     "data": {
      "text/plain": [
       "array([[0., 0., 0., 0., 0., 0., 0., 1., 0., 0., 0.],\n",
       "       [0., 0., 1., 0., 0., 0., 0., 0., 0., 0., 0.],\n",
       "       [0., 0., 0., 0., 0., 1., 0., 0., 0., 0., 0.]])"
      ]
     },
     "execution_count": 6,
     "metadata": {},
     "output_type": "execute_result"
    }
   ],
   "source": [
    "labels[0]"
   ]
  },
  {
   "cell_type": "markdown",
   "metadata": {},
   "source": [
    "# Without Self-Attention"
   ]
  },
  {
   "cell_type": "code",
   "execution_count": 7,
   "metadata": {
    "scrolled": true
   },
   "outputs": [
    {
     "name": "stdout",
     "output_type": "stream",
     "text": [
      "Iteration 250 - Loss 0.6921185255050659\n",
      "Iteration 500 - Loss 0.41311705112457275\n",
      "Iteration 750 - Loss 0.24012069404125214\n",
      "Iteration 1000 - Loss 0.19539675116539001\n",
      "Iteration 1250 - Loss 0.19421127438545227\n",
      "Iteration 1500 - Loss 0.20325015485286713\n",
      "Iteration 1750 - Loss 0.18633762001991272\n",
      "Iteration 2000 - Loss 0.1301461160182953\n",
      "Iteration 2000 - Loss 0.1301461160182953\n",
      "Training complete!\n"
     ]
    }
   ],
   "source": [
    "train(print_every=250, self_att=False)"
   ]
  },
  {
   "cell_type": "code",
   "execution_count": 8,
   "metadata": {},
   "outputs": [
    {
     "name": "stdout",
     "output_type": "stream",
     "text": [
      "\n",
      "Input: \n",
      "[[['C']\n",
      "  ['C']\n",
      "  ['A']\n",
      "  ['A']\n",
      "  ['C']\n",
      "  ['C']\n",
      "  ['A']\n",
      "  ['C']\n",
      "  ['B']\n",
      "  [' ']]]\n",
      "\n",
      "Prediction: \n",
      "[[3 1 5 2]]\n",
      "\n",
      "Encoder-Decoder Attention: \n",
      "Output step 0 attended mainly to Input steps: [2 3 6]\n",
      "[0.067, 0.067, 0.183, 0.183, 0.067, 0.067, 0.183, 0.067, 0.029, 0.086]\n",
      "Output step 1 attended mainly to Input steps: [8]\n",
      "[0.097, 0.097, 0.04, 0.04, 0.097, 0.097, 0.04, 0.097, 0.267, 0.125]\n",
      "Output step 2 attended mainly to Input steps: [0 1 4 5 7]\n",
      "[0.17, 0.17, 0.025, 0.025, 0.17, 0.17, 0.025, 0.17, 0.028, 0.048]\n",
      "Output step 3 attended mainly to Input steps: [2 3 6]\n",
      "[0.061, 0.061, 0.148, 0.148, 0.061, 0.061, 0.148, 0.061, 0.146, 0.103]\n"
     ]
    },
    {
     "data": {
      "image/png": "[encoded data removed]",
      "text/plain": [
       "<Figure size 432x288 with 2 Axes>"
      ]
     },
     "metadata": {
      "needs_background": "light"
     },
     "output_type": "display_data"
    }
   ],
   "source": [
    "test(self_att=False)"
   ]
  },
  {
   "cell_type": "markdown",
   "metadata": {},
   "source": [
    "# With Self-Attention"
   ]
  },
  {
   "cell_type": "code",
   "execution_count": 9,
   "metadata": {},
   "outputs": [
    {
     "name": "stdout",
     "output_type": "stream",
     "text": [
      "Iteration 250 - Loss 0.5951683521270752\n",
      "Iteration 500 - Loss 0.17654486000537872\n",
      "Iteration 750 - Loss 0.1487674117088318\n",
      "Iteration 1000 - Loss 0.08698258548974991\n",
      "Iteration 1250 - Loss 0.042355045676231384\n",
      "Iteration 1500 - Loss 0.03887375444173813\n",
      "Iteration 1750 - Loss 0.05098189413547516\n",
      "Iteration 2000 - Loss 0.033585499972105026\n",
      "Iteration 2000 - Loss 0.033585499972105026\n",
      "Training complete!\n"
     ]
    }
   ],
   "source": [
    "train(print_every=250, self_att=True)"
   ]
  },
  {
   "cell_type": "code",
   "execution_count": 10,
   "metadata": {},
   "outputs": [
    {
     "name": "stdout",
     "output_type": "stream",
     "text": [
      "\n",
      "Input: \n",
      "[[['A']\n",
      "  ['A']\n",
      "  ['C']\n",
      "  ['B']\n",
      "  ['B']\n",
      "  ['C']\n",
      "  ['C']\n",
      "  ['A']\n",
      "  ['C']\n",
      "  [' ']]]\n",
      "\n",
      "Prediction: \n",
      "[[3 2 4 1]]\n",
      "\n",
      "Encoder-Decoder Attention: \n",
      "Output step 0 attended mainly to Input steps: [0 1 7]\n",
      "[0.191, 0.191, 0.063, 0.035, 0.035, 0.063, 0.063, 0.191, 0.063, 0.102]\n",
      "Output step 1 attended mainly to Input steps: [3 4]\n",
      "[0.044, 0.044, 0.078, 0.221, 0.221, 0.078, 0.078, 0.044, 0.078, 0.116]\n",
      "Output step 2 attended mainly to Input steps: [2 5 6 8]\n",
      "[0.034, 0.034, 0.19, 0.033, 0.033, 0.19, 0.19, 0.034, 0.19, 0.072]\n",
      "Output step 3 attended mainly to Input steps: [0 1 7]\n",
      "[0.136, 0.136, 0.057, 0.134, 0.134, 0.057, 0.057, 0.136, 0.057, 0.097]\n"
     ]
    },
    {
     "data": {
      "image/png": "[encoded data removed]",
      "text/plain": [
       "<Figure size 432x288 with 2 Axes>"
      ]
     },
     "metadata": {
      "needs_background": "light"
     },
     "output_type": "display_data"
    },
    {
     "name": "stdout",
     "output_type": "stream",
     "text": [
      "\n",
      "Self-Attention: \n",
      "Attention of Output step 0:\n",
      "[0.939, 0.0, 0.016, 0.044]\n",
      "Attention of Output step 1:\n",
      "[0.0, 0.998, 0.001, 0.001]\n",
      "Attention of Output step 2:\n",
      "[0.008, 0.007, 0.98, 0.005]\n",
      "Attention of Output step 3:\n",
      "[0.428, 0.132, 0.094, 0.347]\n"
     ]
    },
    {
     "data": {
      "image/png": "[encoded data removed]",
      "text/plain": [
       "<Figure size 648x432 with 2 Axes>"
      ]
     },
     "metadata": {
      "needs_background": "light"
     },
     "output_type": "display_data"
    }
   ],
   "source": [
    "test(self_att=True)"
   ]
  },
  {
   "cell_type": "code",
   "execution_count": null,
   "metadata": {},
   "outputs": [],
   "source": []
  }
 ],
 "metadata": {
  "kernelspec": {
   "display_name": "Python 3",
   "language": "python",
   "name": "python3"
  },
  "language_info": {
   "codemirror_mode": {
    "name": "ipython",
    "version": 3
   },
   "file_extension": ".py",
   "mimetype": "text/x-python",
   "name": "python",
   "nbconvert_exporter": "python",
   "pygments_lexer": "ipython3",
   "version": "3.6.8"
  },
  "toc": {
   "base_numbering": 1,
   "nav_menu": {},
   "number_sections": true,
   "sideBar": true,
   "skip_h1_title": false,
   "title_cell": "Table of Contents",
   "title_sidebar": "Contents",
   "toc_cell": false,
   "toc_position": {},
   "toc_section_display": true,
   "toc_window_display": false
  }
 },
 "nbformat": 4,
 "nbformat_minor": 2
}
